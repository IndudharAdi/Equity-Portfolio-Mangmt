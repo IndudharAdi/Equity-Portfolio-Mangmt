{
 "cells": [
  {
   "cell_type": "markdown",
   "id": "a65f323c-99f2-4137-8a85-e24b5a801f6f",
   "metadata": {},
   "source": [
    "Equity Portfolio Management\n",
    "\n",
    "### .\tIndudhar Sitaram Adi "
   ]
  },
  {
   "cell_type": "code",
   "execution_count": 12,
   "id": "241dcd9f-c94d-4c3a-919d-27319e9929a8",
   "metadata": {
    "vscode": {
     "languageId": "r"
    }
   },
   "outputs": [
    {
     "name": "stderr",
     "output_type": "stream",
     "text": [
      "\n",
      "Attaching package: 'gridExtra'\n",
      "\n",
      "\n",
      "The following object is masked from 'package:dplyr':\n",
      "\n",
      "    combine\n",
      "\n",
      "\n",
      "\n",
      "Attaching package: 'plotly'\n",
      "\n",
      "\n",
      "The following object is masked from 'package:ggplot2':\n",
      "\n",
      "    last_plot\n",
      "\n",
      "\n",
      "The following object is masked from 'package:stats':\n",
      "\n",
      "    filter\n",
      "\n",
      "\n",
      "The following object is masked from 'package:graphics':\n",
      "\n",
      "    layout\n",
      "\n",
      "\n"
     ]
    }
   ],
   "source": [
    "# Loading the required libraries\n",
    "library(dplyr)\n",
    "library(ggplot2)\n",
    "library(grid)\n",
    "library(reshape2)\n",
    "library(gridExtra)\n",
    "library(gtable)\n",
    "library(plotly)"
   ]
  },
  {
   "cell_type": "code",
   "execution_count": null,
   "id": "6d5e7ca1-3e41-4d2c-a74c-b909c8a14d04",
   "metadata": {
    "vscode": {
     "languageId": "r"
    }
   },
   "outputs": [],
   "source": [
    "library(tidyquant)\n",
    "\n",
    "# Define your stock universe\n",
    "universe <- c('IBM', 'MSFT', 'GOOG', 'AAPL', 'AMZN', 'META', 'NFLX', 'TSLA', 'ORCL', 'SAP')\n",
    "\n",
    "# Set the date range for the historical data\n",
    "start_date <- '2018-01-01'\n",
    "end_date <- '2018-12-31'\n",
    "\n",
    "# Download and save data for each stock in the universe\n",
    "for (stock_symbol in universe) {\n",
    "  stock_data <- tq_get(stock_symbol, from = start_date, to = end_date, get = \"stock.prices\")\n",
    "  file_name <- paste0(stock_symbol, \".csv\")\n",
    "  write.csv(stock_data, file_name, row.names = FALSE)\n",
    "  cat(paste(\"Data for\", stock_symbol, \"downloaded and saved as\", file_name, \"\\n\"))\n",
    "}"
   ]
  },
  {
   "cell_type": "code",
   "execution_count": 6,
   "id": "562ec48a-017a-4153-b8a6-d7343edf3285",
   "metadata": {
    "vscode": {
     "languageId": "r"
    }
   },
   "outputs": [
    {
     "data": {
      "text/html": [
       "'IBM Data'"
      ],
      "text/latex": [
       "'IBM Data'"
      ],
      "text/markdown": [
       "'IBM Data'"
      ],
      "text/plain": [
       "[1] \"IBM Data\""
      ]
     },
     "metadata": {},
     "output_type": "display_data"
    },
    {
     "data": {
      "text/html": [
       "<table class=\"dataframe\">\n",
       "<caption>A data.frame: 6 × 7</caption>\n",
       "<thead>\n",
       "\t<tr><th></th><th scope=col>Date</th><th scope=col>Open</th><th scope=col>High</th><th scope=col>Low</th><th scope=col>Close</th><th scope=col>AdjClose</th><th scope=col>Volume</th></tr>\n",
       "\t<tr><th></th><th scope=col>&lt;chr&gt;</th><th scope=col>&lt;dbl&gt;</th><th scope=col>&lt;dbl&gt;</th><th scope=col>&lt;dbl&gt;</th><th scope=col>&lt;dbl&gt;</th><th scope=col>&lt;dbl&gt;</th><th scope=col>&lt;int&gt;</th></tr>\n",
       "</thead>\n",
       "<tbody>\n",
       "\t<tr><th scope=row>1</th><td>2018-01-02</td><td>147.7056</td><td>148.0019</td><td>146.7878</td><td>147.4665</td><td>111.8001</td><td>4395815</td></tr>\n",
       "\t<tr><th scope=row>2</th><td>2018-01-03</td><td>150.4207</td><td>152.7820</td><td>149.4551</td><td>151.5201</td><td>114.8733</td><td>9875914</td></tr>\n",
       "\t<tr><th scope=row>3</th><td>2018-01-04</td><td>152.6291</td><td>155.1816</td><td>152.3614</td><td>154.5889</td><td>117.1999</td><td>7903785</td></tr>\n",
       "\t<tr><th scope=row>4</th><td>2018-01-05</td><td>155.2964</td><td>155.7361</td><td>154.0153</td><td>155.3442</td><td>117.7725</td><td>5434807</td></tr>\n",
       "\t<tr><th scope=row>5</th><td>2018-01-08</td><td>155.5067</td><td>156.7017</td><td>154.5889</td><td>156.2811</td><td>118.4828</td><td>5478425</td></tr>\n",
       "\t<tr><th scope=row>6</th><td>2018-01-09</td><td>156.6922</td><td>157.2944</td><td>155.8891</td><td>156.6252</td><td>118.7437</td><td>4541523</td></tr>\n",
       "</tbody>\n",
       "</table>\n"
      ],
      "text/latex": [
       "A data.frame: 6 × 7\n",
       "\\begin{tabular}{r|lllllll}\n",
       "  & Date & Open & High & Low & Close & AdjClose & Volume\\\\\n",
       "  & <chr> & <dbl> & <dbl> & <dbl> & <dbl> & <dbl> & <int>\\\\\n",
       "\\hline\n",
       "\t1 & 2018-01-02 & 147.7056 & 148.0019 & 146.7878 & 147.4665 & 111.8001 & 4395815\\\\\n",
       "\t2 & 2018-01-03 & 150.4207 & 152.7820 & 149.4551 & 151.5201 & 114.8733 & 9875914\\\\\n",
       "\t3 & 2018-01-04 & 152.6291 & 155.1816 & 152.3614 & 154.5889 & 117.1999 & 7903785\\\\\n",
       "\t4 & 2018-01-05 & 155.2964 & 155.7361 & 154.0153 & 155.3442 & 117.7725 & 5434807\\\\\n",
       "\t5 & 2018-01-08 & 155.5067 & 156.7017 & 154.5889 & 156.2811 & 118.4828 & 5478425\\\\\n",
       "\t6 & 2018-01-09 & 156.6922 & 157.2944 & 155.8891 & 156.6252 & 118.7437 & 4541523\\\\\n",
       "\\end{tabular}\n"
      ],
      "text/markdown": [
       "\n",
       "A data.frame: 6 × 7\n",
       "\n",
       "| <!--/--> | Date &lt;chr&gt; | Open &lt;dbl&gt; | High &lt;dbl&gt; | Low &lt;dbl&gt; | Close &lt;dbl&gt; | AdjClose &lt;dbl&gt; | Volume &lt;int&gt; |\n",
       "|---|---|---|---|---|---|---|---|\n",
       "| 1 | 2018-01-02 | 147.7056 | 148.0019 | 146.7878 | 147.4665 | 111.8001 | 4395815 |\n",
       "| 2 | 2018-01-03 | 150.4207 | 152.7820 | 149.4551 | 151.5201 | 114.8733 | 9875914 |\n",
       "| 3 | 2018-01-04 | 152.6291 | 155.1816 | 152.3614 | 154.5889 | 117.1999 | 7903785 |\n",
       "| 4 | 2018-01-05 | 155.2964 | 155.7361 | 154.0153 | 155.3442 | 117.7725 | 5434807 |\n",
       "| 5 | 2018-01-08 | 155.5067 | 156.7017 | 154.5889 | 156.2811 | 118.4828 | 5478425 |\n",
       "| 6 | 2018-01-09 | 156.6922 | 157.2944 | 155.8891 | 156.6252 | 118.7437 | 4541523 |\n",
       "\n"
      ],
      "text/plain": [
       "  Date       Open     High     Low      Close    AdjClose Volume \n",
       "1 2018-01-02 147.7056 148.0019 146.7878 147.4665 111.8001 4395815\n",
       "2 2018-01-03 150.4207 152.7820 149.4551 151.5201 114.8733 9875914\n",
       "3 2018-01-04 152.6291 155.1816 152.3614 154.5889 117.1999 7903785\n",
       "4 2018-01-05 155.2964 155.7361 154.0153 155.3442 117.7725 5434807\n",
       "5 2018-01-08 155.5067 156.7017 154.5889 156.2811 118.4828 5478425\n",
       "6 2018-01-09 156.6922 157.2944 155.8891 156.6252 118.7437 4541523"
      ]
     },
     "metadata": {},
     "output_type": "display_data"
    },
    {
     "data": {
      "text/html": [
       "'Microsoft Data'"
      ],
      "text/latex": [
       "'Microsoft Data'"
      ],
      "text/markdown": [
       "'Microsoft Data'"
      ],
      "text/plain": [
       "[1] \"Microsoft Data\""
      ]
     },
     "metadata": {},
     "output_type": "display_data"
    },
    {
     "data": {
      "text/html": [
       "<table class=\"dataframe\">\n",
       "<caption>A data.frame: 6 × 7</caption>\n",
       "<thead>\n",
       "\t<tr><th></th><th scope=col>Date</th><th scope=col>Open</th><th scope=col>High</th><th scope=col>Low</th><th scope=col>Close</th><th scope=col>AdjClose</th><th scope=col>Volume</th></tr>\n",
       "\t<tr><th></th><th scope=col>&lt;chr&gt;</th><th scope=col>&lt;dbl&gt;</th><th scope=col>&lt;dbl&gt;</th><th scope=col>&lt;dbl&gt;</th><th scope=col>&lt;dbl&gt;</th><th scope=col>&lt;dbl&gt;</th><th scope=col>&lt;int&gt;</th></tr>\n",
       "</thead>\n",
       "<tbody>\n",
       "\t<tr><th scope=row>1</th><td>2018-01-02</td><td>86.13</td><td>86.31</td><td>85.50</td><td>85.95</td><td>80.39184</td><td>22483800</td></tr>\n",
       "\t<tr><th scope=row>2</th><td>2018-01-03</td><td>86.06</td><td>86.51</td><td>85.97</td><td>86.35</td><td>80.76599</td><td>26061400</td></tr>\n",
       "\t<tr><th scope=row>3</th><td>2018-01-04</td><td>86.59</td><td>87.66</td><td>86.57</td><td>87.11</td><td>81.47683</td><td>21912000</td></tr>\n",
       "\t<tr><th scope=row>4</th><td>2018-01-05</td><td>87.66</td><td>88.41</td><td>87.43</td><td>88.19</td><td>82.48699</td><td>23407100</td></tr>\n",
       "\t<tr><th scope=row>5</th><td>2018-01-08</td><td>88.20</td><td>88.58</td><td>87.60</td><td>88.28</td><td>82.57117</td><td>22113000</td></tr>\n",
       "\t<tr><th scope=row>6</th><td>2018-01-09</td><td>88.65</td><td>88.73</td><td>87.86</td><td>88.22</td><td>82.51505</td><td>19484300</td></tr>\n",
       "</tbody>\n",
       "</table>\n"
      ],
      "text/latex": [
       "A data.frame: 6 × 7\n",
       "\\begin{tabular}{r|lllllll}\n",
       "  & Date & Open & High & Low & Close & AdjClose & Volume\\\\\n",
       "  & <chr> & <dbl> & <dbl> & <dbl> & <dbl> & <dbl> & <int>\\\\\n",
       "\\hline\n",
       "\t1 & 2018-01-02 & 86.13 & 86.31 & 85.50 & 85.95 & 80.39184 & 22483800\\\\\n",
       "\t2 & 2018-01-03 & 86.06 & 86.51 & 85.97 & 86.35 & 80.76599 & 26061400\\\\\n",
       "\t3 & 2018-01-04 & 86.59 & 87.66 & 86.57 & 87.11 & 81.47683 & 21912000\\\\\n",
       "\t4 & 2018-01-05 & 87.66 & 88.41 & 87.43 & 88.19 & 82.48699 & 23407100\\\\\n",
       "\t5 & 2018-01-08 & 88.20 & 88.58 & 87.60 & 88.28 & 82.57117 & 22113000\\\\\n",
       "\t6 & 2018-01-09 & 88.65 & 88.73 & 87.86 & 88.22 & 82.51505 & 19484300\\\\\n",
       "\\end{tabular}\n"
      ],
      "text/markdown": [
       "\n",
       "A data.frame: 6 × 7\n",
       "\n",
       "| <!--/--> | Date &lt;chr&gt; | Open &lt;dbl&gt; | High &lt;dbl&gt; | Low &lt;dbl&gt; | Close &lt;dbl&gt; | AdjClose &lt;dbl&gt; | Volume &lt;int&gt; |\n",
       "|---|---|---|---|---|---|---|---|\n",
       "| 1 | 2018-01-02 | 86.13 | 86.31 | 85.50 | 85.95 | 80.39184 | 22483800 |\n",
       "| 2 | 2018-01-03 | 86.06 | 86.51 | 85.97 | 86.35 | 80.76599 | 26061400 |\n",
       "| 3 | 2018-01-04 | 86.59 | 87.66 | 86.57 | 87.11 | 81.47683 | 21912000 |\n",
       "| 4 | 2018-01-05 | 87.66 | 88.41 | 87.43 | 88.19 | 82.48699 | 23407100 |\n",
       "| 5 | 2018-01-08 | 88.20 | 88.58 | 87.60 | 88.28 | 82.57117 | 22113000 |\n",
       "| 6 | 2018-01-09 | 88.65 | 88.73 | 87.86 | 88.22 | 82.51505 | 19484300 |\n",
       "\n"
      ],
      "text/plain": [
       "  Date       Open  High  Low   Close AdjClose Volume  \n",
       "1 2018-01-02 86.13 86.31 85.50 85.95 80.39184 22483800\n",
       "2 2018-01-03 86.06 86.51 85.97 86.35 80.76599 26061400\n",
       "3 2018-01-04 86.59 87.66 86.57 87.11 81.47683 21912000\n",
       "4 2018-01-05 87.66 88.41 87.43 88.19 82.48699 23407100\n",
       "5 2018-01-08 88.20 88.58 87.60 88.28 82.57117 22113000\n",
       "6 2018-01-09 88.65 88.73 87.86 88.22 82.51505 19484300"
      ]
     },
     "metadata": {},
     "output_type": "display_data"
    },
    {
     "data": {
      "text/html": [
       "'Amazon Data'"
      ],
      "text/latex": [
       "'Amazon Data'"
      ],
      "text/markdown": [
       "'Amazon Data'"
      ],
      "text/plain": [
       "[1] \"Amazon Data\""
      ]
     },
     "metadata": {},
     "output_type": "display_data"
    },
    {
     "data": {
      "text/html": [
       "<table class=\"dataframe\">\n",
       "<caption>A data.frame: 6 × 7</caption>\n",
       "<thead>\n",
       "\t<tr><th></th><th scope=col>Date</th><th scope=col>Open</th><th scope=col>High</th><th scope=col>Low</th><th scope=col>Close</th><th scope=col>AdjClose</th><th scope=col>Volume</th></tr>\n",
       "\t<tr><th></th><th scope=col>&lt;chr&gt;</th><th scope=col>&lt;dbl&gt;</th><th scope=col>&lt;dbl&gt;</th><th scope=col>&lt;dbl&gt;</th><th scope=col>&lt;dbl&gt;</th><th scope=col>&lt;dbl&gt;</th><th scope=col>&lt;int&gt;</th></tr>\n",
       "</thead>\n",
       "<tbody>\n",
       "\t<tr><th scope=row>1</th><td>2018-01-02</td><td>52.4170</td><td>53.3470</td><td>52.26150</td><td>53.2500</td><td>53.2500</td><td>24752000</td></tr>\n",
       "\t<tr><th scope=row>2</th><td>2018-01-03</td><td>53.2155</td><td>54.3145</td><td>53.16050</td><td>54.1240</td><td>54.1240</td><td>28604000</td></tr>\n",
       "\t<tr><th scope=row>3</th><td>2018-01-04</td><td>54.4000</td><td>54.6785</td><td>54.20010</td><td>54.3200</td><td>54.3200</td><td>20092000</td></tr>\n",
       "\t<tr><th scope=row>4</th><td>2018-01-05</td><td>54.7000</td><td>55.2125</td><td>54.60000</td><td>55.1115</td><td>55.1115</td><td>25582000</td></tr>\n",
       "\t<tr><th scope=row>5</th><td>2018-01-08</td><td>55.1115</td><td>55.5635</td><td>55.08100</td><td>55.3470</td><td>55.3470</td><td>20952000</td></tr>\n",
       "\t<tr><th scope=row>6</th><td>2018-01-09</td><td>55.4700</td><td>55.5285</td><td>55.06155</td><td>55.3130</td><td>55.3130</td><td>18050000</td></tr>\n",
       "</tbody>\n",
       "</table>\n"
      ],
      "text/latex": [
       "A data.frame: 6 × 7\n",
       "\\begin{tabular}{r|lllllll}\n",
       "  & Date & Open & High & Low & Close & AdjClose & Volume\\\\\n",
       "  & <chr> & <dbl> & <dbl> & <dbl> & <dbl> & <dbl> & <int>\\\\\n",
       "\\hline\n",
       "\t1 & 2018-01-02 & 52.4170 & 53.3470 & 52.26150 & 53.2500 & 53.2500 & 24752000\\\\\n",
       "\t2 & 2018-01-03 & 53.2155 & 54.3145 & 53.16050 & 54.1240 & 54.1240 & 28604000\\\\\n",
       "\t3 & 2018-01-04 & 54.4000 & 54.6785 & 54.20010 & 54.3200 & 54.3200 & 20092000\\\\\n",
       "\t4 & 2018-01-05 & 54.7000 & 55.2125 & 54.60000 & 55.1115 & 55.1115 & 25582000\\\\\n",
       "\t5 & 2018-01-08 & 55.1115 & 55.5635 & 55.08100 & 55.3470 & 55.3470 & 20952000\\\\\n",
       "\t6 & 2018-01-09 & 55.4700 & 55.5285 & 55.06155 & 55.3130 & 55.3130 & 18050000\\\\\n",
       "\\end{tabular}\n"
      ],
      "text/markdown": [
       "\n",
       "A data.frame: 6 × 7\n",
       "\n",
       "| <!--/--> | Date &lt;chr&gt; | Open &lt;dbl&gt; | High &lt;dbl&gt; | Low &lt;dbl&gt; | Close &lt;dbl&gt; | AdjClose &lt;dbl&gt; | Volume &lt;int&gt; |\n",
       "|---|---|---|---|---|---|---|---|\n",
       "| 1 | 2018-01-02 | 52.4170 | 53.3470 | 52.26150 | 53.2500 | 53.2500 | 24752000 |\n",
       "| 2 | 2018-01-03 | 53.2155 | 54.3145 | 53.16050 | 54.1240 | 54.1240 | 28604000 |\n",
       "| 3 | 2018-01-04 | 54.4000 | 54.6785 | 54.20010 | 54.3200 | 54.3200 | 20092000 |\n",
       "| 4 | 2018-01-05 | 54.7000 | 55.2125 | 54.60000 | 55.1115 | 55.1115 | 25582000 |\n",
       "| 5 | 2018-01-08 | 55.1115 | 55.5635 | 55.08100 | 55.3470 | 55.3470 | 20952000 |\n",
       "| 6 | 2018-01-09 | 55.4700 | 55.5285 | 55.06155 | 55.3130 | 55.3130 | 18050000 |\n",
       "\n"
      ],
      "text/plain": [
       "  Date       Open    High    Low      Close   AdjClose Volume  \n",
       "1 2018-01-02 52.4170 53.3470 52.26150 53.2500 53.2500  24752000\n",
       "2 2018-01-03 53.2155 54.3145 53.16050 54.1240 54.1240  28604000\n",
       "3 2018-01-04 54.4000 54.6785 54.20010 54.3200 54.3200  20092000\n",
       "4 2018-01-05 54.7000 55.2125 54.60000 55.1115 55.1115  25582000\n",
       "5 2018-01-08 55.1115 55.5635 55.08100 55.3470 55.3470  20952000\n",
       "6 2018-01-09 55.4700 55.5285 55.06155 55.3130 55.3130  18050000"
      ]
     },
     "metadata": {},
     "output_type": "display_data"
    },
    {
     "data": {
      "text/html": [
       "'Google Data'"
      ],
      "text/latex": [
       "'Google Data'"
      ],
      "text/markdown": [
       "'Google Data'"
      ],
      "text/plain": [
       "[1] \"Google Data\""
      ]
     },
     "metadata": {},
     "output_type": "display_data"
    },
    {
     "data": {
      "text/html": [
       "<table class=\"dataframe\">\n",
       "<caption>A data.frame: 6 × 7</caption>\n",
       "<thead>\n",
       "\t<tr><th></th><th scope=col>Date</th><th scope=col>Open</th><th scope=col>High</th><th scope=col>Low</th><th scope=col>Close</th><th scope=col>AdjClose</th><th scope=col>Volume</th></tr>\n",
       "\t<tr><th></th><th scope=col>&lt;chr&gt;</th><th scope=col>&lt;dbl&gt;</th><th scope=col>&lt;dbl&gt;</th><th scope=col>&lt;dbl&gt;</th><th scope=col>&lt;dbl&gt;</th><th scope=col>&lt;dbl&gt;</th><th scope=col>&lt;int&gt;</th></tr>\n",
       "</thead>\n",
       "<tbody>\n",
       "\t<tr><th scope=row>1</th><td>2018-01-02</td><td>58.6000</td><td>59.5000</td><td>58.5255</td><td>59.4505</td><td>59.4505</td><td>53890000</td></tr>\n",
       "\t<tr><th scope=row>2</th><td>2018-01-03</td><td>59.4150</td><td>60.2745</td><td>59.4150</td><td>60.2100</td><td>60.2100</td><td>62176000</td></tr>\n",
       "\t<tr><th scope=row>3</th><td>2018-01-04</td><td>60.2500</td><td>60.7935</td><td>60.2330</td><td>60.4795</td><td>60.4795</td><td>60442000</td></tr>\n",
       "\t<tr><th scope=row>4</th><td>2018-01-05</td><td>60.8755</td><td>61.4570</td><td>60.5000</td><td>61.4570</td><td>61.4570</td><td>70894000</td></tr>\n",
       "\t<tr><th scope=row>5</th><td>2018-01-08</td><td>61.8000</td><td>62.6540</td><td>61.6015</td><td>62.3435</td><td>62.3435</td><td>85590000</td></tr>\n",
       "\t<tr><th scope=row>6</th><td>2018-01-09</td><td>62.8450</td><td>62.9665</td><td>62.0880</td><td>62.6350</td><td>62.6350</td><td>73226000</td></tr>\n",
       "</tbody>\n",
       "</table>\n"
      ],
      "text/latex": [
       "A data.frame: 6 × 7\n",
       "\\begin{tabular}{r|lllllll}\n",
       "  & Date & Open & High & Low & Close & AdjClose & Volume\\\\\n",
       "  & <chr> & <dbl> & <dbl> & <dbl> & <dbl> & <dbl> & <int>\\\\\n",
       "\\hline\n",
       "\t1 & 2018-01-02 & 58.6000 & 59.5000 & 58.5255 & 59.4505 & 59.4505 & 53890000\\\\\n",
       "\t2 & 2018-01-03 & 59.4150 & 60.2745 & 59.4150 & 60.2100 & 60.2100 & 62176000\\\\\n",
       "\t3 & 2018-01-04 & 60.2500 & 60.7935 & 60.2330 & 60.4795 & 60.4795 & 60442000\\\\\n",
       "\t4 & 2018-01-05 & 60.8755 & 61.4570 & 60.5000 & 61.4570 & 61.4570 & 70894000\\\\\n",
       "\t5 & 2018-01-08 & 61.8000 & 62.6540 & 61.6015 & 62.3435 & 62.3435 & 85590000\\\\\n",
       "\t6 & 2018-01-09 & 62.8450 & 62.9665 & 62.0880 & 62.6350 & 62.6350 & 73226000\\\\\n",
       "\\end{tabular}\n"
      ],
      "text/markdown": [
       "\n",
       "A data.frame: 6 × 7\n",
       "\n",
       "| <!--/--> | Date &lt;chr&gt; | Open &lt;dbl&gt; | High &lt;dbl&gt; | Low &lt;dbl&gt; | Close &lt;dbl&gt; | AdjClose &lt;dbl&gt; | Volume &lt;int&gt; |\n",
       "|---|---|---|---|---|---|---|---|\n",
       "| 1 | 2018-01-02 | 58.6000 | 59.5000 | 58.5255 | 59.4505 | 59.4505 | 53890000 |\n",
       "| 2 | 2018-01-03 | 59.4150 | 60.2745 | 59.4150 | 60.2100 | 60.2100 | 62176000 |\n",
       "| 3 | 2018-01-04 | 60.2500 | 60.7935 | 60.2330 | 60.4795 | 60.4795 | 60442000 |\n",
       "| 4 | 2018-01-05 | 60.8755 | 61.4570 | 60.5000 | 61.4570 | 61.4570 | 70894000 |\n",
       "| 5 | 2018-01-08 | 61.8000 | 62.6540 | 61.6015 | 62.3435 | 62.3435 | 85590000 |\n",
       "| 6 | 2018-01-09 | 62.8450 | 62.9665 | 62.0880 | 62.6350 | 62.6350 | 73226000 |\n",
       "\n"
      ],
      "text/plain": [
       "  Date       Open    High    Low     Close   AdjClose Volume  \n",
       "1 2018-01-02 58.6000 59.5000 58.5255 59.4505 59.4505  53890000\n",
       "2 2018-01-03 59.4150 60.2745 59.4150 60.2100 60.2100  62176000\n",
       "3 2018-01-04 60.2500 60.7935 60.2330 60.4795 60.4795  60442000\n",
       "4 2018-01-05 60.8755 61.4570 60.5000 61.4570 61.4570  70894000\n",
       "5 2018-01-08 61.8000 62.6540 61.6015 62.3435 62.3435  85590000\n",
       "6 2018-01-09 62.8450 62.9665 62.0880 62.6350 62.6350  73226000"
      ]
     },
     "metadata": {},
     "output_type": "display_data"
    },
    {
     "data": {
      "text/html": [
       "'Amazon Data'"
      ],
      "text/latex": [
       "'Amazon Data'"
      ],
      "text/markdown": [
       "'Amazon Data'"
      ],
      "text/plain": [
       "[1] \"Amazon Data\""
      ]
     },
     "metadata": {},
     "output_type": "display_data"
    },
    {
     "data": {
      "text/html": [
       "<table class=\"dataframe\">\n",
       "<caption>A data.frame: 6 × 7</caption>\n",
       "<thead>\n",
       "\t<tr><th></th><th scope=col>Date</th><th scope=col>Open</th><th scope=col>High</th><th scope=col>Low</th><th scope=col>Close</th><th scope=col>AdjClose</th><th scope=col>Volume</th></tr>\n",
       "\t<tr><th></th><th scope=col>&lt;chr&gt;</th><th scope=col>&lt;dbl&gt;</th><th scope=col>&lt;dbl&gt;</th><th scope=col>&lt;dbl&gt;</th><th scope=col>&lt;dbl&gt;</th><th scope=col>&lt;dbl&gt;</th><th scope=col>&lt;int&gt;</th></tr>\n",
       "</thead>\n",
       "<tbody>\n",
       "\t<tr><th scope=row>1</th><td>2018-01-02</td><td>42.5400</td><td>43.0750</td><td>42.3150</td><td>43.0650</td><td>40.77654</td><td>102223600</td></tr>\n",
       "\t<tr><th scope=row>2</th><td>2018-01-03</td><td>43.1325</td><td>43.6375</td><td>42.9900</td><td>43.0575</td><td>40.76942</td><td>118071600</td></tr>\n",
       "\t<tr><th scope=row>3</th><td>2018-01-04</td><td>43.1350</td><td>43.3675</td><td>43.0200</td><td>43.2575</td><td>40.95880</td><td> 89738400</td></tr>\n",
       "\t<tr><th scope=row>4</th><td>2018-01-05</td><td>43.3600</td><td>43.8425</td><td>43.2625</td><td>43.7500</td><td>41.42513</td><td> 94640000</td></tr>\n",
       "\t<tr><th scope=row>5</th><td>2018-01-08</td><td>43.5875</td><td>43.9025</td><td>43.4825</td><td>43.5875</td><td>41.27127</td><td> 82271200</td></tr>\n",
       "\t<tr><th scope=row>6</th><td>2018-01-09</td><td>43.6375</td><td>43.7650</td><td>43.3525</td><td>43.5825</td><td>41.26651</td><td> 86336000</td></tr>\n",
       "</tbody>\n",
       "</table>\n"
      ],
      "text/latex": [
       "A data.frame: 6 × 7\n",
       "\\begin{tabular}{r|lllllll}\n",
       "  & Date & Open & High & Low & Close & AdjClose & Volume\\\\\n",
       "  & <chr> & <dbl> & <dbl> & <dbl> & <dbl> & <dbl> & <int>\\\\\n",
       "\\hline\n",
       "\t1 & 2018-01-02 & 42.5400 & 43.0750 & 42.3150 & 43.0650 & 40.77654 & 102223600\\\\\n",
       "\t2 & 2018-01-03 & 43.1325 & 43.6375 & 42.9900 & 43.0575 & 40.76942 & 118071600\\\\\n",
       "\t3 & 2018-01-04 & 43.1350 & 43.3675 & 43.0200 & 43.2575 & 40.95880 &  89738400\\\\\n",
       "\t4 & 2018-01-05 & 43.3600 & 43.8425 & 43.2625 & 43.7500 & 41.42513 &  94640000\\\\\n",
       "\t5 & 2018-01-08 & 43.5875 & 43.9025 & 43.4825 & 43.5875 & 41.27127 &  82271200\\\\\n",
       "\t6 & 2018-01-09 & 43.6375 & 43.7650 & 43.3525 & 43.5825 & 41.26651 &  86336000\\\\\n",
       "\\end{tabular}\n"
      ],
      "text/markdown": [
       "\n",
       "A data.frame: 6 × 7\n",
       "\n",
       "| <!--/--> | Date &lt;chr&gt; | Open &lt;dbl&gt; | High &lt;dbl&gt; | Low &lt;dbl&gt; | Close &lt;dbl&gt; | AdjClose &lt;dbl&gt; | Volume &lt;int&gt; |\n",
       "|---|---|---|---|---|---|---|---|\n",
       "| 1 | 2018-01-02 | 42.5400 | 43.0750 | 42.3150 | 43.0650 | 40.77654 | 102223600 |\n",
       "| 2 | 2018-01-03 | 43.1325 | 43.6375 | 42.9900 | 43.0575 | 40.76942 | 118071600 |\n",
       "| 3 | 2018-01-04 | 43.1350 | 43.3675 | 43.0200 | 43.2575 | 40.95880 |  89738400 |\n",
       "| 4 | 2018-01-05 | 43.3600 | 43.8425 | 43.2625 | 43.7500 | 41.42513 |  94640000 |\n",
       "| 5 | 2018-01-08 | 43.5875 | 43.9025 | 43.4825 | 43.5875 | 41.27127 |  82271200 |\n",
       "| 6 | 2018-01-09 | 43.6375 | 43.7650 | 43.3525 | 43.5825 | 41.26651 |  86336000 |\n",
       "\n"
      ],
      "text/plain": [
       "  Date       Open    High    Low     Close   AdjClose Volume   \n",
       "1 2018-01-02 42.5400 43.0750 42.3150 43.0650 40.77654 102223600\n",
       "2 2018-01-03 43.1325 43.6375 42.9900 43.0575 40.76942 118071600\n",
       "3 2018-01-04 43.1350 43.3675 43.0200 43.2575 40.95880  89738400\n",
       "4 2018-01-05 43.3600 43.8425 43.2625 43.7500 41.42513  94640000\n",
       "5 2018-01-08 43.5875 43.9025 43.4825 43.5875 41.27127  82271200\n",
       "6 2018-01-09 43.6375 43.7650 43.3525 43.5825 41.26651  86336000"
      ]
     },
     "metadata": {},
     "output_type": "display_data"
    },
    {
     "data": {
      "text/html": [
       "'Microsoft Data'"
      ],
      "text/latex": [
       "'Microsoft Data'"
      ],
      "text/markdown": [
       "'Microsoft Data'"
      ],
      "text/plain": [
       "[1] \"Microsoft Data\""
      ]
     },
     "metadata": {},
     "output_type": "display_data"
    },
    {
     "data": {
      "text/html": [
       "<table class=\"dataframe\">\n",
       "<caption>A data.frame: 6 × 7</caption>\n",
       "<thead>\n",
       "\t<tr><th></th><th scope=col>Date</th><th scope=col>Open</th><th scope=col>High</th><th scope=col>Low</th><th scope=col>Close</th><th scope=col>AdjClose</th><th scope=col>Volume</th></tr>\n",
       "\t<tr><th></th><th scope=col>&lt;chr&gt;</th><th scope=col>&lt;dbl&gt;</th><th scope=col>&lt;dbl&gt;</th><th scope=col>&lt;dbl&gt;</th><th scope=col>&lt;dbl&gt;</th><th scope=col>&lt;dbl&gt;</th><th scope=col>&lt;int&gt;</th></tr>\n",
       "</thead>\n",
       "<tbody>\n",
       "\t<tr><th scope=row>1</th><td>2018-01-02</td><td>177.68</td><td>181.58</td><td>177.55</td><td>181.42</td><td>181.42</td><td>18151900</td></tr>\n",
       "\t<tr><th scope=row>2</th><td>2018-01-03</td><td>181.88</td><td>184.78</td><td>181.33</td><td>184.67</td><td>184.67</td><td>16886600</td></tr>\n",
       "\t<tr><th scope=row>3</th><td>2018-01-04</td><td>184.90</td><td>186.21</td><td>184.10</td><td>184.33</td><td>184.33</td><td>13880900</td></tr>\n",
       "\t<tr><th scope=row>4</th><td>2018-01-05</td><td>185.59</td><td>186.90</td><td>184.93</td><td>186.85</td><td>186.85</td><td>13574500</td></tr>\n",
       "\t<tr><th scope=row>5</th><td>2018-01-08</td><td>187.20</td><td>188.90</td><td>186.33</td><td>188.28</td><td>188.28</td><td>17994700</td></tr>\n",
       "\t<tr><th scope=row>6</th><td>2018-01-09</td><td>188.70</td><td>188.80</td><td>187.10</td><td>187.87</td><td>187.87</td><td>12393100</td></tr>\n",
       "</tbody>\n",
       "</table>\n"
      ],
      "text/latex": [
       "A data.frame: 6 × 7\n",
       "\\begin{tabular}{r|lllllll}\n",
       "  & Date & Open & High & Low & Close & AdjClose & Volume\\\\\n",
       "  & <chr> & <dbl> & <dbl> & <dbl> & <dbl> & <dbl> & <int>\\\\\n",
       "\\hline\n",
       "\t1 & 2018-01-02 & 177.68 & 181.58 & 177.55 & 181.42 & 181.42 & 18151900\\\\\n",
       "\t2 & 2018-01-03 & 181.88 & 184.78 & 181.33 & 184.67 & 184.67 & 16886600\\\\\n",
       "\t3 & 2018-01-04 & 184.90 & 186.21 & 184.10 & 184.33 & 184.33 & 13880900\\\\\n",
       "\t4 & 2018-01-05 & 185.59 & 186.90 & 184.93 & 186.85 & 186.85 & 13574500\\\\\n",
       "\t5 & 2018-01-08 & 187.20 & 188.90 & 186.33 & 188.28 & 188.28 & 17994700\\\\\n",
       "\t6 & 2018-01-09 & 188.70 & 188.80 & 187.10 & 187.87 & 187.87 & 12393100\\\\\n",
       "\\end{tabular}\n"
      ],
      "text/markdown": [
       "\n",
       "A data.frame: 6 × 7\n",
       "\n",
       "| <!--/--> | Date &lt;chr&gt; | Open &lt;dbl&gt; | High &lt;dbl&gt; | Low &lt;dbl&gt; | Close &lt;dbl&gt; | AdjClose &lt;dbl&gt; | Volume &lt;int&gt; |\n",
       "|---|---|---|---|---|---|---|---|\n",
       "| 1 | 2018-01-02 | 177.68 | 181.58 | 177.55 | 181.42 | 181.42 | 18151900 |\n",
       "| 2 | 2018-01-03 | 181.88 | 184.78 | 181.33 | 184.67 | 184.67 | 16886600 |\n",
       "| 3 | 2018-01-04 | 184.90 | 186.21 | 184.10 | 184.33 | 184.33 | 13880900 |\n",
       "| 4 | 2018-01-05 | 185.59 | 186.90 | 184.93 | 186.85 | 186.85 | 13574500 |\n",
       "| 5 | 2018-01-08 | 187.20 | 188.90 | 186.33 | 188.28 | 188.28 | 17994700 |\n",
       "| 6 | 2018-01-09 | 188.70 | 188.80 | 187.10 | 187.87 | 187.87 | 12393100 |\n",
       "\n"
      ],
      "text/plain": [
       "  Date       Open   High   Low    Close  AdjClose Volume  \n",
       "1 2018-01-02 177.68 181.58 177.55 181.42 181.42   18151900\n",
       "2 2018-01-03 181.88 184.78 181.33 184.67 184.67   16886600\n",
       "3 2018-01-04 184.90 186.21 184.10 184.33 184.33   13880900\n",
       "4 2018-01-05 185.59 186.90 184.93 186.85 186.85   13574500\n",
       "5 2018-01-08 187.20 188.90 186.33 188.28 188.28   17994700\n",
       "6 2018-01-09 188.70 188.80 187.10 187.87 187.87   12393100"
      ]
     },
     "metadata": {},
     "output_type": "display_data"
    },
    {
     "data": {
      "text/html": [
       "'Netflix Data'"
      ],
      "text/latex": [
       "'Netflix Data'"
      ],
      "text/markdown": [
       "'Netflix Data'"
      ],
      "text/plain": [
       "[1] \"Netflix Data\""
      ]
     },
     "metadata": {},
     "output_type": "display_data"
    },
    {
     "data": {
      "text/html": [
       "<table class=\"dataframe\">\n",
       "<caption>A data.frame: 6 × 7</caption>\n",
       "<thead>\n",
       "\t<tr><th></th><th scope=col>Date</th><th scope=col>Open</th><th scope=col>High</th><th scope=col>Low</th><th scope=col>Close</th><th scope=col>AdjClose</th><th scope=col>Volume</th></tr>\n",
       "\t<tr><th></th><th scope=col>&lt;chr&gt;</th><th scope=col>&lt;dbl&gt;</th><th scope=col>&lt;dbl&gt;</th><th scope=col>&lt;dbl&gt;</th><th scope=col>&lt;dbl&gt;</th><th scope=col>&lt;dbl&gt;</th><th scope=col>&lt;int&gt;</th></tr>\n",
       "</thead>\n",
       "<tbody>\n",
       "\t<tr><th scope=row>1</th><td>2018-01-02</td><td>196.10</td><td>201.65</td><td>195.42</td><td>201.07</td><td>201.07</td><td>10966900</td></tr>\n",
       "\t<tr><th scope=row>2</th><td>2018-01-03</td><td>202.05</td><td>206.21</td><td>201.50</td><td>205.05</td><td>205.05</td><td> 8591400</td></tr>\n",
       "\t<tr><th scope=row>3</th><td>2018-01-04</td><td>206.20</td><td>207.05</td><td>204.00</td><td>205.63</td><td>205.63</td><td> 6029600</td></tr>\n",
       "\t<tr><th scope=row>4</th><td>2018-01-05</td><td>207.25</td><td>210.02</td><td>205.59</td><td>209.99</td><td>209.99</td><td> 7033200</td></tr>\n",
       "\t<tr><th scope=row>5</th><td>2018-01-08</td><td>210.02</td><td>212.50</td><td>208.44</td><td>212.05</td><td>212.05</td><td> 5580200</td></tr>\n",
       "\t<tr><th scope=row>6</th><td>2018-01-09</td><td>212.11</td><td>212.98</td><td>208.59</td><td>209.31</td><td>209.31</td><td> 6125900</td></tr>\n",
       "</tbody>\n",
       "</table>\n"
      ],
      "text/latex": [
       "A data.frame: 6 × 7\n",
       "\\begin{tabular}{r|lllllll}\n",
       "  & Date & Open & High & Low & Close & AdjClose & Volume\\\\\n",
       "  & <chr> & <dbl> & <dbl> & <dbl> & <dbl> & <dbl> & <int>\\\\\n",
       "\\hline\n",
       "\t1 & 2018-01-02 & 196.10 & 201.65 & 195.42 & 201.07 & 201.07 & 10966900\\\\\n",
       "\t2 & 2018-01-03 & 202.05 & 206.21 & 201.50 & 205.05 & 205.05 &  8591400\\\\\n",
       "\t3 & 2018-01-04 & 206.20 & 207.05 & 204.00 & 205.63 & 205.63 &  6029600\\\\\n",
       "\t4 & 2018-01-05 & 207.25 & 210.02 & 205.59 & 209.99 & 209.99 &  7033200\\\\\n",
       "\t5 & 2018-01-08 & 210.02 & 212.50 & 208.44 & 212.05 & 212.05 &  5580200\\\\\n",
       "\t6 & 2018-01-09 & 212.11 & 212.98 & 208.59 & 209.31 & 209.31 &  6125900\\\\\n",
       "\\end{tabular}\n"
      ],
      "text/markdown": [
       "\n",
       "A data.frame: 6 × 7\n",
       "\n",
       "| <!--/--> | Date &lt;chr&gt; | Open &lt;dbl&gt; | High &lt;dbl&gt; | Low &lt;dbl&gt; | Close &lt;dbl&gt; | AdjClose &lt;dbl&gt; | Volume &lt;int&gt; |\n",
       "|---|---|---|---|---|---|---|---|\n",
       "| 1 | 2018-01-02 | 196.10 | 201.65 | 195.42 | 201.07 | 201.07 | 10966900 |\n",
       "| 2 | 2018-01-03 | 202.05 | 206.21 | 201.50 | 205.05 | 205.05 |  8591400 |\n",
       "| 3 | 2018-01-04 | 206.20 | 207.05 | 204.00 | 205.63 | 205.63 |  6029600 |\n",
       "| 4 | 2018-01-05 | 207.25 | 210.02 | 205.59 | 209.99 | 209.99 |  7033200 |\n",
       "| 5 | 2018-01-08 | 210.02 | 212.50 | 208.44 | 212.05 | 212.05 |  5580200 |\n",
       "| 6 | 2018-01-09 | 212.11 | 212.98 | 208.59 | 209.31 | 209.31 |  6125900 |\n",
       "\n"
      ],
      "text/plain": [
       "  Date       Open   High   Low    Close  AdjClose Volume  \n",
       "1 2018-01-02 196.10 201.65 195.42 201.07 201.07   10966900\n",
       "2 2018-01-03 202.05 206.21 201.50 205.05 205.05    8591400\n",
       "3 2018-01-04 206.20 207.05 204.00 205.63 205.63    6029600\n",
       "4 2018-01-05 207.25 210.02 205.59 209.99 209.99    7033200\n",
       "5 2018-01-08 210.02 212.50 208.44 212.05 212.05    5580200\n",
       "6 2018-01-09 212.11 212.98 208.59 209.31 209.31    6125900"
      ]
     },
     "metadata": {},
     "output_type": "display_data"
    },
    {
     "data": {
      "text/html": [
       "'Netflix Data'"
      ],
      "text/latex": [
       "'Netflix Data'"
      ],
      "text/markdown": [
       "'Netflix Data'"
      ],
      "text/plain": [
       "[1] \"Netflix Data\""
      ]
     },
     "metadata": {},
     "output_type": "display_data"
    },
    {
     "data": {
      "text/html": [
       "<table class=\"dataframe\">\n",
       "<caption>A data.frame: 6 × 7</caption>\n",
       "<thead>\n",
       "\t<tr><th></th><th scope=col>Date</th><th scope=col>Open</th><th scope=col>High</th><th scope=col>Low</th><th scope=col>Close</th><th scope=col>AdjClose</th><th scope=col>Volume</th></tr>\n",
       "\t<tr><th></th><th scope=col>&lt;chr&gt;</th><th scope=col>&lt;dbl&gt;</th><th scope=col>&lt;dbl&gt;</th><th scope=col>&lt;dbl&gt;</th><th scope=col>&lt;dbl&gt;</th><th scope=col>&lt;dbl&gt;</th><th scope=col>&lt;int&gt;</th></tr>\n",
       "</thead>\n",
       "<tbody>\n",
       "\t<tr><th scope=row>1</th><td>2018-01-02</td><td>47.57</td><td>47.80</td><td>46.17</td><td>46.63</td><td>42.43717</td><td>25380000</td></tr>\n",
       "\t<tr><th scope=row>2</th><td>2018-01-03</td><td>47.53</td><td>48.07</td><td>47.44</td><td>47.71</td><td>43.42005</td><td>24165000</td></tr>\n",
       "\t<tr><th scope=row>3</th><td>2018-01-04</td><td>47.99</td><td>48.19</td><td>47.72</td><td>48.18</td><td>43.84780</td><td>19815100</td></tr>\n",
       "\t<tr><th scope=row>4</th><td>2018-01-05</td><td>48.42</td><td>48.63</td><td>48.28</td><td>48.47</td><td>44.11172</td><td>14496400</td></tr>\n",
       "\t<tr><th scope=row>5</th><td>2018-01-08</td><td>48.30</td><td>49.07</td><td>47.94</td><td>48.98</td><td>44.57586</td><td>15075000</td></tr>\n",
       "\t<tr><th scope=row>6</th><td>2018-01-09</td><td>49.25</td><td>49.36</td><td>48.92</td><td>49.06</td><td>44.82255</td><td>14153700</td></tr>\n",
       "</tbody>\n",
       "</table>\n"
      ],
      "text/latex": [
       "A data.frame: 6 × 7\n",
       "\\begin{tabular}{r|lllllll}\n",
       "  & Date & Open & High & Low & Close & AdjClose & Volume\\\\\n",
       "  & <chr> & <dbl> & <dbl> & <dbl> & <dbl> & <dbl> & <int>\\\\\n",
       "\\hline\n",
       "\t1 & 2018-01-02 & 47.57 & 47.80 & 46.17 & 46.63 & 42.43717 & 25380000\\\\\n",
       "\t2 & 2018-01-03 & 47.53 & 48.07 & 47.44 & 47.71 & 43.42005 & 24165000\\\\\n",
       "\t3 & 2018-01-04 & 47.99 & 48.19 & 47.72 & 48.18 & 43.84780 & 19815100\\\\\n",
       "\t4 & 2018-01-05 & 48.42 & 48.63 & 48.28 & 48.47 & 44.11172 & 14496400\\\\\n",
       "\t5 & 2018-01-08 & 48.30 & 49.07 & 47.94 & 48.98 & 44.57586 & 15075000\\\\\n",
       "\t6 & 2018-01-09 & 49.25 & 49.36 & 48.92 & 49.06 & 44.82255 & 14153700\\\\\n",
       "\\end{tabular}\n"
      ],
      "text/markdown": [
       "\n",
       "A data.frame: 6 × 7\n",
       "\n",
       "| <!--/--> | Date &lt;chr&gt; | Open &lt;dbl&gt; | High &lt;dbl&gt; | Low &lt;dbl&gt; | Close &lt;dbl&gt; | AdjClose &lt;dbl&gt; | Volume &lt;int&gt; |\n",
       "|---|---|---|---|---|---|---|---|\n",
       "| 1 | 2018-01-02 | 47.57 | 47.80 | 46.17 | 46.63 | 42.43717 | 25380000 |\n",
       "| 2 | 2018-01-03 | 47.53 | 48.07 | 47.44 | 47.71 | 43.42005 | 24165000 |\n",
       "| 3 | 2018-01-04 | 47.99 | 48.19 | 47.72 | 48.18 | 43.84780 | 19815100 |\n",
       "| 4 | 2018-01-05 | 48.42 | 48.63 | 48.28 | 48.47 | 44.11172 | 14496400 |\n",
       "| 5 | 2018-01-08 | 48.30 | 49.07 | 47.94 | 48.98 | 44.57586 | 15075000 |\n",
       "| 6 | 2018-01-09 | 49.25 | 49.36 | 48.92 | 49.06 | 44.82255 | 14153700 |\n",
       "\n"
      ],
      "text/plain": [
       "  Date       Open  High  Low   Close AdjClose Volume  \n",
       "1 2018-01-02 47.57 47.80 46.17 46.63 42.43717 25380000\n",
       "2 2018-01-03 47.53 48.07 47.44 47.71 43.42005 24165000\n",
       "3 2018-01-04 47.99 48.19 47.72 48.18 43.84780 19815100\n",
       "4 2018-01-05 48.42 48.63 48.28 48.47 44.11172 14496400\n",
       "5 2018-01-08 48.30 49.07 47.94 48.98 44.57586 15075000\n",
       "6 2018-01-09 49.25 49.36 48.92 49.06 44.82255 14153700"
      ]
     },
     "metadata": {},
     "output_type": "display_data"
    },
    {
     "data": {
      "text/html": [
       "'Oracle Data'"
      ],
      "text/latex": [
       "'Oracle Data'"
      ],
      "text/markdown": [
       "'Oracle Data'"
      ],
      "text/plain": [
       "[1] \"Oracle Data\""
      ]
     },
     "metadata": {},
     "output_type": "display_data"
    },
    {
     "data": {
      "text/html": [
       "<table class=\"dataframe\">\n",
       "<caption>A data.frame: 6 × 7</caption>\n",
       "<thead>\n",
       "\t<tr><th></th><th scope=col>Date</th><th scope=col>Open</th><th scope=col>High</th><th scope=col>Low</th><th scope=col>Close</th><th scope=col>AdjClose</th><th scope=col>Volume</th></tr>\n",
       "\t<tr><th></th><th scope=col>&lt;chr&gt;</th><th scope=col>&lt;dbl&gt;</th><th scope=col>&lt;dbl&gt;</th><th scope=col>&lt;dbl&gt;</th><th scope=col>&lt;dbl&gt;</th><th scope=col>&lt;dbl&gt;</th><th scope=col>&lt;int&gt;</th></tr>\n",
       "</thead>\n",
       "<tbody>\n",
       "\t<tr><th scope=row>1</th><td>2018-01-02</td><td>111.23</td><td>112.42</td><td>111.13</td><td>112.39</td><td>101.2103</td><td>540600</td></tr>\n",
       "\t<tr><th scope=row>2</th><td>2018-01-03</td><td>112.63</td><td>113.69</td><td>112.55</td><td>113.31</td><td>102.0388</td><td>506200</td></tr>\n",
       "\t<tr><th scope=row>3</th><td>2018-01-04</td><td>114.78</td><td>115.30</td><td>114.70</td><td>115.05</td><td>103.6057</td><td>539300</td></tr>\n",
       "\t<tr><th scope=row>4</th><td>2018-01-05</td><td>115.45</td><td>116.50</td><td>115.36</td><td>116.33</td><td>104.7584</td><td>475300</td></tr>\n",
       "\t<tr><th scope=row>5</th><td>2018-01-08</td><td>115.09</td><td>115.42</td><td>114.76</td><td>114.80</td><td>103.3806</td><td>515400</td></tr>\n",
       "\t<tr><th scope=row>6</th><td>2018-01-09</td><td>114.36</td><td>114.46</td><td>113.45</td><td>114.16</td><td>102.8042</td><td>515900</td></tr>\n",
       "</tbody>\n",
       "</table>\n"
      ],
      "text/latex": [
       "A data.frame: 6 × 7\n",
       "\\begin{tabular}{r|lllllll}\n",
       "  & Date & Open & High & Low & Close & AdjClose & Volume\\\\\n",
       "  & <chr> & <dbl> & <dbl> & <dbl> & <dbl> & <dbl> & <int>\\\\\n",
       "\\hline\n",
       "\t1 & 2018-01-02 & 111.23 & 112.42 & 111.13 & 112.39 & 101.2103 & 540600\\\\\n",
       "\t2 & 2018-01-03 & 112.63 & 113.69 & 112.55 & 113.31 & 102.0388 & 506200\\\\\n",
       "\t3 & 2018-01-04 & 114.78 & 115.30 & 114.70 & 115.05 & 103.6057 & 539300\\\\\n",
       "\t4 & 2018-01-05 & 115.45 & 116.50 & 115.36 & 116.33 & 104.7584 & 475300\\\\\n",
       "\t5 & 2018-01-08 & 115.09 & 115.42 & 114.76 & 114.80 & 103.3806 & 515400\\\\\n",
       "\t6 & 2018-01-09 & 114.36 & 114.46 & 113.45 & 114.16 & 102.8042 & 515900\\\\\n",
       "\\end{tabular}\n"
      ],
      "text/markdown": [
       "\n",
       "A data.frame: 6 × 7\n",
       "\n",
       "| <!--/--> | Date &lt;chr&gt; | Open &lt;dbl&gt; | High &lt;dbl&gt; | Low &lt;dbl&gt; | Close &lt;dbl&gt; | AdjClose &lt;dbl&gt; | Volume &lt;int&gt; |\n",
       "|---|---|---|---|---|---|---|---|\n",
       "| 1 | 2018-01-02 | 111.23 | 112.42 | 111.13 | 112.39 | 101.2103 | 540600 |\n",
       "| 2 | 2018-01-03 | 112.63 | 113.69 | 112.55 | 113.31 | 102.0388 | 506200 |\n",
       "| 3 | 2018-01-04 | 114.78 | 115.30 | 114.70 | 115.05 | 103.6057 | 539300 |\n",
       "| 4 | 2018-01-05 | 115.45 | 116.50 | 115.36 | 116.33 | 104.7584 | 475300 |\n",
       "| 5 | 2018-01-08 | 115.09 | 115.42 | 114.76 | 114.80 | 103.3806 | 515400 |\n",
       "| 6 | 2018-01-09 | 114.36 | 114.46 | 113.45 | 114.16 | 102.8042 | 515900 |\n",
       "\n"
      ],
      "text/plain": [
       "  Date       Open   High   Low    Close  AdjClose Volume\n",
       "1 2018-01-02 111.23 112.42 111.13 112.39 101.2103 540600\n",
       "2 2018-01-03 112.63 113.69 112.55 113.31 102.0388 506200\n",
       "3 2018-01-04 114.78 115.30 114.70 115.05 103.6057 539300\n",
       "4 2018-01-05 115.45 116.50 115.36 116.33 104.7584 475300\n",
       "5 2018-01-08 115.09 115.42 114.76 114.80 103.3806 515400\n",
       "6 2018-01-09 114.36 114.46 113.45 114.16 102.8042 515900"
      ]
     },
     "metadata": {},
     "output_type": "display_data"
    },
    {
     "data": {
      "text/html": [
       "'SAP Data'"
      ],
      "text/latex": [
       "'SAP Data'"
      ],
      "text/markdown": [
       "'SAP Data'"
      ],
      "text/plain": [
       "[1] \"SAP Data\""
      ]
     },
     "metadata": {},
     "output_type": "display_data"
    },
    {
     "data": {
      "text/html": [
       "<table class=\"dataframe\">\n",
       "<caption>A data.frame: 6 × 7</caption>\n",
       "<thead>\n",
       "\t<tr><th></th><th scope=col>Date</th><th scope=col>Open</th><th scope=col>High</th><th scope=col>Low</th><th scope=col>Close</th><th scope=col>AdjClose</th><th scope=col>Volume</th></tr>\n",
       "\t<tr><th></th><th scope=col>&lt;chr&gt;</th><th scope=col>&lt;dbl&gt;</th><th scope=col>&lt;dbl&gt;</th><th scope=col>&lt;dbl&gt;</th><th scope=col>&lt;dbl&gt;</th><th scope=col>&lt;dbl&gt;</th><th scope=col>&lt;int&gt;</th></tr>\n",
       "</thead>\n",
       "<tbody>\n",
       "\t<tr><th scope=row>1</th><td>2018-01-02</td><td>20.80000</td><td>21.47400</td><td>20.73333</td><td>21.36867</td><td>21.36867</td><td> 65283000</td></tr>\n",
       "\t<tr><th scope=row>2</th><td>2018-01-03</td><td>21.40000</td><td>21.68333</td><td>21.03667</td><td>21.15000</td><td>21.15000</td><td> 67822500</td></tr>\n",
       "\t<tr><th scope=row>3</th><td>2018-01-04</td><td>20.85800</td><td>21.23667</td><td>20.37867</td><td>20.97467</td><td>20.97467</td><td>149194500</td></tr>\n",
       "\t<tr><th scope=row>4</th><td>2018-01-05</td><td>21.10800</td><td>21.14933</td><td>20.80000</td><td>21.10533</td><td>21.10533</td><td> 68868000</td></tr>\n",
       "\t<tr><th scope=row>5</th><td>2018-01-08</td><td>21.06667</td><td>22.46800</td><td>21.03333</td><td>22.42733</td><td>22.42733</td><td>147891000</td></tr>\n",
       "\t<tr><th scope=row>6</th><td>2018-01-09</td><td>22.34400</td><td>22.58667</td><td>21.82667</td><td>22.24600</td><td>22.24600</td><td>107199000</td></tr>\n",
       "</tbody>\n",
       "</table>\n"
      ],
      "text/latex": [
       "A data.frame: 6 × 7\n",
       "\\begin{tabular}{r|lllllll}\n",
       "  & Date & Open & High & Low & Close & AdjClose & Volume\\\\\n",
       "  & <chr> & <dbl> & <dbl> & <dbl> & <dbl> & <dbl> & <int>\\\\\n",
       "\\hline\n",
       "\t1 & 2018-01-02 & 20.80000 & 21.47400 & 20.73333 & 21.36867 & 21.36867 &  65283000\\\\\n",
       "\t2 & 2018-01-03 & 21.40000 & 21.68333 & 21.03667 & 21.15000 & 21.15000 &  67822500\\\\\n",
       "\t3 & 2018-01-04 & 20.85800 & 21.23667 & 20.37867 & 20.97467 & 20.97467 & 149194500\\\\\n",
       "\t4 & 2018-01-05 & 21.10800 & 21.14933 & 20.80000 & 21.10533 & 21.10533 &  68868000\\\\\n",
       "\t5 & 2018-01-08 & 21.06667 & 22.46800 & 21.03333 & 22.42733 & 22.42733 & 147891000\\\\\n",
       "\t6 & 2018-01-09 & 22.34400 & 22.58667 & 21.82667 & 22.24600 & 22.24600 & 107199000\\\\\n",
       "\\end{tabular}\n"
      ],
      "text/markdown": [
       "\n",
       "A data.frame: 6 × 7\n",
       "\n",
       "| <!--/--> | Date &lt;chr&gt; | Open &lt;dbl&gt; | High &lt;dbl&gt; | Low &lt;dbl&gt; | Close &lt;dbl&gt; | AdjClose &lt;dbl&gt; | Volume &lt;int&gt; |\n",
       "|---|---|---|---|---|---|---|---|\n",
       "| 1 | 2018-01-02 | 20.80000 | 21.47400 | 20.73333 | 21.36867 | 21.36867 |  65283000 |\n",
       "| 2 | 2018-01-03 | 21.40000 | 21.68333 | 21.03667 | 21.15000 | 21.15000 |  67822500 |\n",
       "| 3 | 2018-01-04 | 20.85800 | 21.23667 | 20.37867 | 20.97467 | 20.97467 | 149194500 |\n",
       "| 4 | 2018-01-05 | 21.10800 | 21.14933 | 20.80000 | 21.10533 | 21.10533 |  68868000 |\n",
       "| 5 | 2018-01-08 | 21.06667 | 22.46800 | 21.03333 | 22.42733 | 22.42733 | 147891000 |\n",
       "| 6 | 2018-01-09 | 22.34400 | 22.58667 | 21.82667 | 22.24600 | 22.24600 | 107199000 |\n",
       "\n"
      ],
      "text/plain": [
       "  Date       Open     High     Low      Close    AdjClose Volume   \n",
       "1 2018-01-02 20.80000 21.47400 20.73333 21.36867 21.36867  65283000\n",
       "2 2018-01-03 21.40000 21.68333 21.03667 21.15000 21.15000  67822500\n",
       "3 2018-01-04 20.85800 21.23667 20.37867 20.97467 20.97467 149194500\n",
       "4 2018-01-05 21.10800 21.14933 20.80000 21.10533 21.10533  68868000\n",
       "5 2018-01-08 21.06667 22.46800 21.03333 22.42733 22.42733 147891000\n",
       "6 2018-01-09 22.34400 22.58667 21.82667 22.24600 22.24600 107199000"
      ]
     },
     "metadata": {},
     "output_type": "display_data"
    }
   ],
   "source": [
    "IBM = read.csv('IBM.csv')\n",
    "MSFT = read.csv('MSFT.csv')\n",
    "GOOG = read.csv('GOOG.csv')\n",
    "AMZN = read.csv('AMZN.csv')\n",
    "AAPL = read.csv('AAPL.csv')\n",
    "FB = read.csv('META.csv')\n",
    "NFLX = read.csv('NFLX.csv')\n",
    "TSLA = read.csv('TSLA.csv')\n",
    "ORCL = read.csv('ORCL.csv')\n",
    "SAP = read.csv('SAP.csv')\n",
    "JPY = read.csv('JPY.csv')\n",
    "\n",
    "# Printing the head of all files\n",
    "'IBM Data'\n",
    "head(IBM)\n",
    "'Microsoft Data'\n",
    "head(MSFT)\n",
    "'Amazon Data'\n",
    "head(GOOG)\n",
    "'Google Data'\n",
    "head(AMZN)\n",
    "'Amazon Data'\n",
    "head(AAPL)\n",
    "'Microsoft Data'\n",
    "head(FB)\n",
    "'Netflix Data'\n",
    "head(NFLX)\n",
    "'Netflix Data'\n",
    "head(ORCL)\n",
    "'Oracle Data'\n",
    "head(SAP)\n",
    "'SAP Data'\n",
    "head(TSLA)"
   ]
  },
  {
   "cell_type": "markdown",
   "id": "ea471b61-c1f4-4254-9e88-707b9b92984b",
   "metadata": {},
   "source": [
    "## Retrieving the \"Close\" and \"Adj Close\" values for each stock"
   ]
  },
  {
   "cell_type": "code",
   "execution_count": 7,
   "id": "068b585d-b099-4fba-bd80-4ce2f070314f",
   "metadata": {
    "vscode": {
     "languageId": "r"
    }
   },
   "outputs": [
    {
     "data": {
      "text/html": [
       "<table class=\"dataframe\">\n",
       "<caption>A data.frame: 6 × 21</caption>\n",
       "<thead>\n",
       "\t<tr><th></th><th scope=col>Date</th><th scope=col>IBM_Close</th><th scope=col>IBM_AdjClose</th><th scope=col>MSFT_Close</th><th scope=col>MSFT_AdjClose</th><th scope=col>GOOG_Close</th><th scope=col>GOOG_AdjClose</th><th scope=col>AAPL_Close</th><th scope=col>AAPL_AdjClose</th><th scope=col>AMZN_Close</th><th scope=col>⋯</th><th scope=col>META_Close</th><th scope=col>META_AdjClose</th><th scope=col>NFLX_Close</th><th scope=col>NFLX_AdjClose</th><th scope=col>ORCL_Close</th><th scope=col>ORCL_AdjClose</th><th scope=col>SAP_Close</th><th scope=col>SAP_AdjClose</th><th scope=col>TSLA_Close</th><th scope=col>TSLA_AdjClose</th></tr>\n",
       "\t<tr><th></th><th scope=col>&lt;chr&gt;</th><th scope=col>&lt;dbl&gt;</th><th scope=col>&lt;dbl&gt;</th><th scope=col>&lt;dbl&gt;</th><th scope=col>&lt;dbl&gt;</th><th scope=col>&lt;dbl&gt;</th><th scope=col>&lt;dbl&gt;</th><th scope=col>&lt;dbl&gt;</th><th scope=col>&lt;dbl&gt;</th><th scope=col>&lt;dbl&gt;</th><th scope=col>⋯</th><th scope=col>&lt;dbl&gt;</th><th scope=col>&lt;dbl&gt;</th><th scope=col>&lt;dbl&gt;</th><th scope=col>&lt;dbl&gt;</th><th scope=col>&lt;dbl&gt;</th><th scope=col>&lt;dbl&gt;</th><th scope=col>&lt;dbl&gt;</th><th scope=col>&lt;dbl&gt;</th><th scope=col>&lt;dbl&gt;</th><th scope=col>&lt;dbl&gt;</th></tr>\n",
       "</thead>\n",
       "<tbody>\n",
       "\t<tr><th scope=row>1</th><td>2018-01-02</td><td>147.4665</td><td>111.8001</td><td>85.95</td><td>80.39184</td><td>53.2500</td><td>53.2500</td><td>43.0650</td><td>40.77654</td><td>59.4505</td><td>⋯</td><td>181.42</td><td>181.42</td><td>201.07</td><td>201.07</td><td>46.63</td><td>42.43717</td><td>112.39</td><td>101.2103</td><td>21.36867</td><td>21.36867</td></tr>\n",
       "\t<tr><th scope=row>2</th><td>2018-01-03</td><td>151.5201</td><td>114.8733</td><td>86.35</td><td>80.76599</td><td>54.1240</td><td>54.1240</td><td>43.0575</td><td>40.76942</td><td>60.2100</td><td>⋯</td><td>184.67</td><td>184.67</td><td>205.05</td><td>205.05</td><td>47.71</td><td>43.42005</td><td>113.31</td><td>102.0388</td><td>21.15000</td><td>21.15000</td></tr>\n",
       "\t<tr><th scope=row>3</th><td>2018-01-04</td><td>154.5889</td><td>117.1999</td><td>87.11</td><td>81.47683</td><td>54.3200</td><td>54.3200</td><td>43.2575</td><td>40.95880</td><td>60.4795</td><td>⋯</td><td>184.33</td><td>184.33</td><td>205.63</td><td>205.63</td><td>48.18</td><td>43.84780</td><td>115.05</td><td>103.6057</td><td>20.97467</td><td>20.97467</td></tr>\n",
       "\t<tr><th scope=row>4</th><td>2018-01-05</td><td>155.3442</td><td>117.7725</td><td>88.19</td><td>82.48699</td><td>55.1115</td><td>55.1115</td><td>43.7500</td><td>41.42513</td><td>61.4570</td><td>⋯</td><td>186.85</td><td>186.85</td><td>209.99</td><td>209.99</td><td>48.47</td><td>44.11172</td><td>116.33</td><td>104.7584</td><td>21.10533</td><td>21.10533</td></tr>\n",
       "\t<tr><th scope=row>5</th><td>2018-01-08</td><td>156.2811</td><td>118.4828</td><td>88.28</td><td>82.57117</td><td>55.3470</td><td>55.3470</td><td>43.5875</td><td>41.27127</td><td>62.3435</td><td>⋯</td><td>188.28</td><td>188.28</td><td>212.05</td><td>212.05</td><td>48.98</td><td>44.57586</td><td>114.80</td><td>103.3806</td><td>22.42733</td><td>22.42733</td></tr>\n",
       "\t<tr><th scope=row>6</th><td>2018-01-09</td><td>156.6252</td><td>118.7437</td><td>88.22</td><td>82.51505</td><td>55.3130</td><td>55.3130</td><td>43.5825</td><td>41.26651</td><td>62.6350</td><td>⋯</td><td>187.87</td><td>187.87</td><td>209.31</td><td>209.31</td><td>49.06</td><td>44.82255</td><td>114.16</td><td>102.8042</td><td>22.24600</td><td>22.24600</td></tr>\n",
       "</tbody>\n",
       "</table>\n"
      ],
      "text/latex": [
       "A data.frame: 6 × 21\n",
       "\\begin{tabular}{r|lllllllllllllllllllll}\n",
       "  & Date & IBM\\_Close & IBM\\_AdjClose & MSFT\\_Close & MSFT\\_AdjClose & GOOG\\_Close & GOOG\\_AdjClose & AAPL\\_Close & AAPL\\_AdjClose & AMZN\\_Close & ⋯ & META\\_Close & META\\_AdjClose & NFLX\\_Close & NFLX\\_AdjClose & ORCL\\_Close & ORCL\\_AdjClose & SAP\\_Close & SAP\\_AdjClose & TSLA\\_Close & TSLA\\_AdjClose\\\\\n",
       "  & <chr> & <dbl> & <dbl> & <dbl> & <dbl> & <dbl> & <dbl> & <dbl> & <dbl> & <dbl> & ⋯ & <dbl> & <dbl> & <dbl> & <dbl> & <dbl> & <dbl> & <dbl> & <dbl> & <dbl> & <dbl>\\\\\n",
       "\\hline\n",
       "\t1 & 2018-01-02 & 147.4665 & 111.8001 & 85.95 & 80.39184 & 53.2500 & 53.2500 & 43.0650 & 40.77654 & 59.4505 & ⋯ & 181.42 & 181.42 & 201.07 & 201.07 & 46.63 & 42.43717 & 112.39 & 101.2103 & 21.36867 & 21.36867\\\\\n",
       "\t2 & 2018-01-03 & 151.5201 & 114.8733 & 86.35 & 80.76599 & 54.1240 & 54.1240 & 43.0575 & 40.76942 & 60.2100 & ⋯ & 184.67 & 184.67 & 205.05 & 205.05 & 47.71 & 43.42005 & 113.31 & 102.0388 & 21.15000 & 21.15000\\\\\n",
       "\t3 & 2018-01-04 & 154.5889 & 117.1999 & 87.11 & 81.47683 & 54.3200 & 54.3200 & 43.2575 & 40.95880 & 60.4795 & ⋯ & 184.33 & 184.33 & 205.63 & 205.63 & 48.18 & 43.84780 & 115.05 & 103.6057 & 20.97467 & 20.97467\\\\\n",
       "\t4 & 2018-01-05 & 155.3442 & 117.7725 & 88.19 & 82.48699 & 55.1115 & 55.1115 & 43.7500 & 41.42513 & 61.4570 & ⋯ & 186.85 & 186.85 & 209.99 & 209.99 & 48.47 & 44.11172 & 116.33 & 104.7584 & 21.10533 & 21.10533\\\\\n",
       "\t5 & 2018-01-08 & 156.2811 & 118.4828 & 88.28 & 82.57117 & 55.3470 & 55.3470 & 43.5875 & 41.27127 & 62.3435 & ⋯ & 188.28 & 188.28 & 212.05 & 212.05 & 48.98 & 44.57586 & 114.80 & 103.3806 & 22.42733 & 22.42733\\\\\n",
       "\t6 & 2018-01-09 & 156.6252 & 118.7437 & 88.22 & 82.51505 & 55.3130 & 55.3130 & 43.5825 & 41.26651 & 62.6350 & ⋯ & 187.87 & 187.87 & 209.31 & 209.31 & 49.06 & 44.82255 & 114.16 & 102.8042 & 22.24600 & 22.24600\\\\\n",
       "\\end{tabular}\n"
      ],
      "text/markdown": [
       "\n",
       "A data.frame: 6 × 21\n",
       "\n",
       "| <!--/--> | Date &lt;chr&gt; | IBM_Close &lt;dbl&gt; | IBM_AdjClose &lt;dbl&gt; | MSFT_Close &lt;dbl&gt; | MSFT_AdjClose &lt;dbl&gt; | GOOG_Close &lt;dbl&gt; | GOOG_AdjClose &lt;dbl&gt; | AAPL_Close &lt;dbl&gt; | AAPL_AdjClose &lt;dbl&gt; | AMZN_Close &lt;dbl&gt; | ⋯ ⋯ | META_Close &lt;dbl&gt; | META_AdjClose &lt;dbl&gt; | NFLX_Close &lt;dbl&gt; | NFLX_AdjClose &lt;dbl&gt; | ORCL_Close &lt;dbl&gt; | ORCL_AdjClose &lt;dbl&gt; | SAP_Close &lt;dbl&gt; | SAP_AdjClose &lt;dbl&gt; | TSLA_Close &lt;dbl&gt; | TSLA_AdjClose &lt;dbl&gt; |\n",
       "|---|---|---|---|---|---|---|---|---|---|---|---|---|---|---|---|---|---|---|---|---|---|\n",
       "| 1 | 2018-01-02 | 147.4665 | 111.8001 | 85.95 | 80.39184 | 53.2500 | 53.2500 | 43.0650 | 40.77654 | 59.4505 | ⋯ | 181.42 | 181.42 | 201.07 | 201.07 | 46.63 | 42.43717 | 112.39 | 101.2103 | 21.36867 | 21.36867 |\n",
       "| 2 | 2018-01-03 | 151.5201 | 114.8733 | 86.35 | 80.76599 | 54.1240 | 54.1240 | 43.0575 | 40.76942 | 60.2100 | ⋯ | 184.67 | 184.67 | 205.05 | 205.05 | 47.71 | 43.42005 | 113.31 | 102.0388 | 21.15000 | 21.15000 |\n",
       "| 3 | 2018-01-04 | 154.5889 | 117.1999 | 87.11 | 81.47683 | 54.3200 | 54.3200 | 43.2575 | 40.95880 | 60.4795 | ⋯ | 184.33 | 184.33 | 205.63 | 205.63 | 48.18 | 43.84780 | 115.05 | 103.6057 | 20.97467 | 20.97467 |\n",
       "| 4 | 2018-01-05 | 155.3442 | 117.7725 | 88.19 | 82.48699 | 55.1115 | 55.1115 | 43.7500 | 41.42513 | 61.4570 | ⋯ | 186.85 | 186.85 | 209.99 | 209.99 | 48.47 | 44.11172 | 116.33 | 104.7584 | 21.10533 | 21.10533 |\n",
       "| 5 | 2018-01-08 | 156.2811 | 118.4828 | 88.28 | 82.57117 | 55.3470 | 55.3470 | 43.5875 | 41.27127 | 62.3435 | ⋯ | 188.28 | 188.28 | 212.05 | 212.05 | 48.98 | 44.57586 | 114.80 | 103.3806 | 22.42733 | 22.42733 |\n",
       "| 6 | 2018-01-09 | 156.6252 | 118.7437 | 88.22 | 82.51505 | 55.3130 | 55.3130 | 43.5825 | 41.26651 | 62.6350 | ⋯ | 187.87 | 187.87 | 209.31 | 209.31 | 49.06 | 44.82255 | 114.16 | 102.8042 | 22.24600 | 22.24600 |\n",
       "\n"
      ],
      "text/plain": [
       "  Date       IBM_Close IBM_AdjClose MSFT_Close MSFT_AdjClose GOOG_Close\n",
       "1 2018-01-02 147.4665  111.8001     85.95      80.39184      53.2500   \n",
       "2 2018-01-03 151.5201  114.8733     86.35      80.76599      54.1240   \n",
       "3 2018-01-04 154.5889  117.1999     87.11      81.47683      54.3200   \n",
       "4 2018-01-05 155.3442  117.7725     88.19      82.48699      55.1115   \n",
       "5 2018-01-08 156.2811  118.4828     88.28      82.57117      55.3470   \n",
       "6 2018-01-09 156.6252  118.7437     88.22      82.51505      55.3130   \n",
       "  GOOG_AdjClose AAPL_Close AAPL_AdjClose AMZN_Close ⋯ META_Close META_AdjClose\n",
       "1 53.2500       43.0650    40.77654      59.4505    ⋯ 181.42     181.42       \n",
       "2 54.1240       43.0575    40.76942      60.2100    ⋯ 184.67     184.67       \n",
       "3 54.3200       43.2575    40.95880      60.4795    ⋯ 184.33     184.33       \n",
       "4 55.1115       43.7500    41.42513      61.4570    ⋯ 186.85     186.85       \n",
       "5 55.3470       43.5875    41.27127      62.3435    ⋯ 188.28     188.28       \n",
       "6 55.3130       43.5825    41.26651      62.6350    ⋯ 187.87     187.87       \n",
       "  NFLX_Close NFLX_AdjClose ORCL_Close ORCL_AdjClose SAP_Close SAP_AdjClose\n",
       "1 201.07     201.07        46.63      42.43717      112.39    101.2103    \n",
       "2 205.05     205.05        47.71      43.42005      113.31    102.0388    \n",
       "3 205.63     205.63        48.18      43.84780      115.05    103.6057    \n",
       "4 209.99     209.99        48.47      44.11172      116.33    104.7584    \n",
       "5 212.05     212.05        48.98      44.57586      114.80    103.3806    \n",
       "6 209.31     209.31        49.06      44.82255      114.16    102.8042    \n",
       "  TSLA_Close TSLA_AdjClose\n",
       "1 21.36867   21.36867     \n",
       "2 21.15000   21.15000     \n",
       "3 20.97467   20.97467     \n",
       "4 21.10533   21.10533     \n",
       "5 22.42733   22.42733     \n",
       "6 22.24600   22.24600     "
      ]
     },
     "metadata": {},
     "output_type": "display_data"
    }
   ],
   "source": [
    "# Creating a new dataframe Close_AdjClose_df, with Date, \"Close\" and \"Adj Close\" values for each stock\n",
    "\n",
    "universe = c(\"IBM.csv\", \"MSFT.csv\", \"GOOG.csv\", \"AAPL.csv\", \"AMZN.csv\", \"META.csv\",\"NFLX.csv\",\"ORCL.csv\",\"SAP.csv\",\n",
    "               \"TSLA.csv\")\n",
    "\n",
    "# Read and store CSV files in a list of data frames\n",
    "dfs <- lapply(universe, function(file) {\n",
    "  read.csv(file, header = TRUE, stringsAsFactors = FALSE)\n",
    "})\n",
    "\n",
    "# Filter and extract Close and AdjClose columns from each data frame\n",
    "close_adjclose_list <- lapply(dfs, function(df) {\n",
    "  if (\"Close\" %in% colnames(df) && \"AdjClose\" %in% colnames(df)) {\n",
    "    df[, c(\"Close\", \"AdjClose\")]\n",
    "  } else {\n",
    "    NULL  # Return NULL for data frames without Close and AdjClose columns\n",
    "  }\n",
    "})\n",
    "\n",
    "# Remove NULL elements from the list (data frames without Close and AdjClose columns)\n",
    "close_adjclose_list <- Filter(function(x) !is.null(x), close_adjclose_list)\n",
    "\n",
    "# Check if there are data frames with Close and AdjClose columns\n",
    "if(length(close_adjclose_list) == 0) {\n",
    "  stop(\"No data frames with 'Close' and 'AdjClose' columns found.\")\n",
    "}\n",
    "\n",
    "# Extract stock names\n",
    "stock_names <- gsub(\".csv\", \"\", universe)\n",
    "\n",
    "# Combine Close and AdjClose columns into a single data frame\n",
    "Close_AdjClose_df <- do.call(cbind, close_adjclose_list)\n",
    "\n",
    "# Extract Date column from the first data frame (assuming all data frames have a Date column)\n",
    "Date <- dfs[[1]]$Date\n",
    "\n",
    "# Combine Date and Close_AdjClose_df into the final data frame\n",
    "Close_AdjClose_df <- cbind(Date, Close_AdjClose_df)\n",
    "\n",
    "# Rename columns with stock names\n",
    "colnames(Close_AdjClose_df) <- c(\"Date\", \n",
    "                                 paste(rep(stock_names, each = 2), c(\"Close\", \"AdjClose\"), sep = \"_\"))\n",
    "\n",
    "# The data frame Close_AdjClose_df retrieves the Close and Adj Close values for each stock. The data frame has 20 columns for the 10 stocks. \n",
    "# Assuming you've already executed the code to create Close_AdjClose_df\n",
    "\n",
    "# Create the Stocks data frame\n",
    "Stocks <- Close_AdjClose_df\n",
    "\n",
    "# Print the first few rows of the Stocks data frame\n",
    "head(Stocks)\n"
   ]
  },
  {
   "cell_type": "markdown",
   "id": "10efce83-7aaa-4ad2-9752-e45d4ba76ba3",
   "metadata": {},
   "source": [
    "## 1.\n",
    "On Jan 02 2018, you split the 5 million dollars into 5 one million dollars, and use them to buy 5 stocks from the 10 stocks. For example, IBM close price was 154.25 dollars. With 1 million dollars, you can buy a maximum of 6482 shares with a cost of 999,848.5 dollars, leaving you with 151.5 dollars in cash. You decided to spend 1 million dollars on each of ['IBM', 'MSFT', 'GOOG', 'AAPL', 'AMZN'] respectively and keep the rest of the cash in a zero-interest cash account. On Jan 02 2018, your mark to market value (MTM) is 5 million dollars when combining all stocks' value and cash. Your holdings of stocks and cash account make up your portfolio."
   ]
  },
  {
   "cell_type": "code",
   "execution_count": 8,
   "id": "fc571433-f781-4d9a-9ae8-b1f61efbe292",
   "metadata": {
    "vscode": {
     "languageId": "r"
    }
   },
   "outputs": [
    {
     "data": {
      "text/html": [
       "<table class=\"dataframe\">\n",
       "<caption>A data.frame: 1 × 21</caption>\n",
       "<thead>\n",
       "\t<tr><th></th><th scope=col>Date</th><th scope=col>IBM_Close</th><th scope=col>IBM_AdjClose</th><th scope=col>MSFT_Close</th><th scope=col>MSFT_AdjClose</th><th scope=col>GOOG_Close</th><th scope=col>GOOG_AdjClose</th><th scope=col>AAPL_Close</th><th scope=col>AAPL_AdjClose</th><th scope=col>AMZN_Close</th><th scope=col>⋯</th><th scope=col>META_Close</th><th scope=col>META_AdjClose</th><th scope=col>NFLX_Close</th><th scope=col>NFLX_AdjClose</th><th scope=col>ORCL_Close</th><th scope=col>ORCL_AdjClose</th><th scope=col>SAP_Close</th><th scope=col>SAP_AdjClose</th><th scope=col>TSLA_Close</th><th scope=col>TSLA_AdjClose</th></tr>\n",
       "\t<tr><th></th><th scope=col>&lt;date&gt;</th><th scope=col>&lt;dbl&gt;</th><th scope=col>&lt;dbl&gt;</th><th scope=col>&lt;dbl&gt;</th><th scope=col>&lt;dbl&gt;</th><th scope=col>&lt;dbl&gt;</th><th scope=col>&lt;dbl&gt;</th><th scope=col>&lt;dbl&gt;</th><th scope=col>&lt;dbl&gt;</th><th scope=col>&lt;dbl&gt;</th><th scope=col>⋯</th><th scope=col>&lt;dbl&gt;</th><th scope=col>&lt;dbl&gt;</th><th scope=col>&lt;dbl&gt;</th><th scope=col>&lt;dbl&gt;</th><th scope=col>&lt;dbl&gt;</th><th scope=col>&lt;dbl&gt;</th><th scope=col>&lt;dbl&gt;</th><th scope=col>&lt;dbl&gt;</th><th scope=col>&lt;dbl&gt;</th><th scope=col>&lt;dbl&gt;</th></tr>\n",
       "</thead>\n",
       "<tbody>\n",
       "\t<tr><th scope=row>1</th><td>2018-01-02</td><td>147.4665</td><td>111.8001</td><td>85.95</td><td>80.39184</td><td>53.25</td><td>53.25</td><td>43.065</td><td>40.77654</td><td>59.4505</td><td>⋯</td><td>181.42</td><td>181.42</td><td>201.07</td><td>201.07</td><td>46.63</td><td>42.43717</td><td>112.39</td><td>101.2103</td><td>21.36867</td><td>21.36867</td></tr>\n",
       "</tbody>\n",
       "</table>\n"
      ],
      "text/latex": [
       "A data.frame: 1 × 21\n",
       "\\begin{tabular}{r|lllllllllllllllllllll}\n",
       "  & Date & IBM\\_Close & IBM\\_AdjClose & MSFT\\_Close & MSFT\\_AdjClose & GOOG\\_Close & GOOG\\_AdjClose & AAPL\\_Close & AAPL\\_AdjClose & AMZN\\_Close & ⋯ & META\\_Close & META\\_AdjClose & NFLX\\_Close & NFLX\\_AdjClose & ORCL\\_Close & ORCL\\_AdjClose & SAP\\_Close & SAP\\_AdjClose & TSLA\\_Close & TSLA\\_AdjClose\\\\\n",
       "  & <date> & <dbl> & <dbl> & <dbl> & <dbl> & <dbl> & <dbl> & <dbl> & <dbl> & <dbl> & ⋯ & <dbl> & <dbl> & <dbl> & <dbl> & <dbl> & <dbl> & <dbl> & <dbl> & <dbl> & <dbl>\\\\\n",
       "\\hline\n",
       "\t1 & 2018-01-02 & 147.4665 & 111.8001 & 85.95 & 80.39184 & 53.25 & 53.25 & 43.065 & 40.77654 & 59.4505 & ⋯ & 181.42 & 181.42 & 201.07 & 201.07 & 46.63 & 42.43717 & 112.39 & 101.2103 & 21.36867 & 21.36867\\\\\n",
       "\\end{tabular}\n"
      ],
      "text/markdown": [
       "\n",
       "A data.frame: 1 × 21\n",
       "\n",
       "| <!--/--> | Date &lt;date&gt; | IBM_Close &lt;dbl&gt; | IBM_AdjClose &lt;dbl&gt; | MSFT_Close &lt;dbl&gt; | MSFT_AdjClose &lt;dbl&gt; | GOOG_Close &lt;dbl&gt; | GOOG_AdjClose &lt;dbl&gt; | AAPL_Close &lt;dbl&gt; | AAPL_AdjClose &lt;dbl&gt; | AMZN_Close &lt;dbl&gt; | ⋯ ⋯ | META_Close &lt;dbl&gt; | META_AdjClose &lt;dbl&gt; | NFLX_Close &lt;dbl&gt; | NFLX_AdjClose &lt;dbl&gt; | ORCL_Close &lt;dbl&gt; | ORCL_AdjClose &lt;dbl&gt; | SAP_Close &lt;dbl&gt; | SAP_AdjClose &lt;dbl&gt; | TSLA_Close &lt;dbl&gt; | TSLA_AdjClose &lt;dbl&gt; |\n",
       "|---|---|---|---|---|---|---|---|---|---|---|---|---|---|---|---|---|---|---|---|---|---|\n",
       "| 1 | 2018-01-02 | 147.4665 | 111.8001 | 85.95 | 80.39184 | 53.25 | 53.25 | 43.065 | 40.77654 | 59.4505 | ⋯ | 181.42 | 181.42 | 201.07 | 201.07 | 46.63 | 42.43717 | 112.39 | 101.2103 | 21.36867 | 21.36867 |\n",
       "\n"
      ],
      "text/plain": [
       "  Date       IBM_Close IBM_AdjClose MSFT_Close MSFT_AdjClose GOOG_Close\n",
       "1 2018-01-02 147.4665  111.8001     85.95      80.39184      53.25     \n",
       "  GOOG_AdjClose AAPL_Close AAPL_AdjClose AMZN_Close ⋯ META_Close META_AdjClose\n",
       "1 53.25         43.065     40.77654      59.4505    ⋯ 181.42     181.42       \n",
       "  NFLX_Close NFLX_AdjClose ORCL_Close ORCL_AdjClose SAP_Close SAP_AdjClose\n",
       "1 201.07     201.07        46.63      42.43717      112.39    101.2103    \n",
       "  TSLA_Close TSLA_AdjClose\n",
       "1 21.36867   21.36867     "
      ]
     },
     "metadata": {},
     "output_type": "display_data"
    }
   ],
   "source": [
    "StockSplit_5 = Stocks[seq(1,nrow(Stocks),5),]\n",
    "StockSplit_5$Date = as.Date(StockSplit_5$Date)\n",
    "\n",
    "StockSplit_5[StockSplit_5$Date=='2018-01-02',]\n",
    "\n",
    "a = StockSplit_5[StockSplit_5$Date=='2018-01-02',\n",
    "                  c('IBM_Close','MSFT_Close','GOOG_Close','AAPL_Close','AMZN_Close')]"
   ]
  },
  {
   "cell_type": "code",
   "execution_count": 13,
   "id": "067b4dd2-bf91-467d-97d5-bbffa98bb482",
   "metadata": {
    "vscode": {
     "languageId": "r"
    }
   },
   "outputs": [
    {
     "name": "stdout",
     "output_type": "stream",
     "text": [
      "StockSplit_5 5299981.580892 \n",
      "Profit: 299981.580892 \n"
     ]
    },
    {
     "data": {
      "text/html": [
       "<table class=\"dataframe\">\n",
       "<caption>A data.frame: 6 × 23</caption>\n",
       "<thead>\n",
       "\t<tr><th></th><th scope=col>Date</th><th scope=col>IBM_Close</th><th scope=col>IBM_AdjClose</th><th scope=col>MSFT_Close</th><th scope=col>MSFT_AdjClose</th><th scope=col>GOOG_Close</th><th scope=col>GOOG_AdjClose</th><th scope=col>AAPL_Close</th><th scope=col>AAPL_AdjClose</th><th scope=col>AMZN_Close</th><th scope=col>⋯</th><th scope=col>NFLX_Close</th><th scope=col>NFLX_AdjClose</th><th scope=col>ORCL_Close</th><th scope=col>ORCL_AdjClose</th><th scope=col>SAP_Close</th><th scope=col>SAP_AdjClose</th><th scope=col>TSLA_Close</th><th scope=col>TSLA_AdjClose</th><th scope=col>Remaining</th><th scope=col>MTM</th></tr>\n",
       "\t<tr><th></th><th scope=col>&lt;chr&gt;</th><th scope=col>&lt;dbl&gt;</th><th scope=col>&lt;dbl&gt;</th><th scope=col>&lt;dbl&gt;</th><th scope=col>&lt;dbl&gt;</th><th scope=col>&lt;dbl&gt;</th><th scope=col>&lt;dbl&gt;</th><th scope=col>&lt;dbl&gt;</th><th scope=col>&lt;dbl&gt;</th><th scope=col>&lt;dbl&gt;</th><th scope=col>⋯</th><th scope=col>&lt;dbl&gt;</th><th scope=col>&lt;dbl&gt;</th><th scope=col>&lt;dbl&gt;</th><th scope=col>&lt;dbl&gt;</th><th scope=col>&lt;dbl&gt;</th><th scope=col>&lt;dbl&gt;</th><th scope=col>&lt;dbl&gt;</th><th scope=col>&lt;dbl&gt;</th><th scope=col>&lt;dbl&gt;</th><th scope=col>&lt;dbl&gt;</th></tr>\n",
       "</thead>\n",
       "<tbody>\n",
       "\t<tr><th scope=row>1</th><td>2018-01-02</td><td>147.466537</td><td>111.800133</td><td>85.949997</td><td>80.391838</td><td>53.250000</td><td>53.250000</td><td>43.064999</td><td>40.776535</td><td>59.450500</td><td>⋯</td><td>201.070007</td><td>201.070007</td><td>46.630001</td><td>42.437168</td><td>112.389999</td><td>101.210281</td><td>21.368668</td><td>21.368668</td><td>178.710725</td><td>5000000.00</td></tr>\n",
       "\t<tr><th scope=row>2</th><td>2018-01-03</td><td>151.520081</td><td>114.873283</td><td>86.349998</td><td>80.765991</td><td>54.124001</td><td>54.124001</td><td>43.057499</td><td>40.769417</td><td>60.209999</td><td>⋯</td><td>205.050003</td><td>205.050003</td><td>47.709999</td><td>43.420052</td><td>113.309998</td><td>102.038773</td><td>21.150000</td><td>21.150000</td><td>178.710725</td><td>5060975.47</td></tr>\n",
       "\t<tr><th scope=row>3</th><td>2018-01-04</td><td>154.588913</td><td>117.199875</td><td>87.110001</td><td>81.476830</td><td>54.320000</td><td>54.320000</td><td>43.257500</td><td>40.958797</td><td>60.479500</td><td>⋯</td><td>205.630005</td><td>205.630005</td><td>48.180000</td><td>43.847797</td><td>115.050003</td><td>103.605690</td><td>20.974667</td><td>20.974667</td><td>178.710725</td><td>5103484.79</td></tr>\n",
       "\t<tr><th scope=row>4</th><td>2018-01-05</td><td>155.344162</td><td>117.772476</td><td>88.190002</td><td>82.486992</td><td>55.111500</td><td>55.111500</td><td>43.750000</td><td>41.425133</td><td>61.457001</td><td>⋯</td><td>209.990005</td><td>209.990005</td><td>48.470001</td><td>44.111725</td><td>116.330002</td><td>104.758369</td><td>21.105333</td><td>21.105333</td><td>178.710725</td><td>5163911.86</td></tr>\n",
       "\t<tr><th scope=row>5</th><td>2018-01-08</td><td>156.281067</td><td>118.482796</td><td>88.279999</td><td>82.571175</td><td>55.347000</td><td>55.347000</td><td>43.587502</td><td>41.271267</td><td>62.343498</td><td>⋯</td><td>212.050003</td><td>212.050003</td><td>48.980000</td><td>44.575859</td><td>114.800003</td><td>103.380562</td><td>22.427334</td><td>22.427334</td><td>178.710725</td><td>5186872.17</td></tr>\n",
       "\t<tr><th scope=row>6</th><td>2018-01-09</td><td>156.625244</td><td>118.743690</td><td>88.220001</td><td>82.515045</td><td>55.313000</td><td>55.313000</td><td>43.582500</td><td>41.266514</td><td>62.634998</td><td>⋯</td><td>209.309998</td><td>209.309998</td><td>49.060001</td><td>44.822552</td><td>114.160004</td><td>102.804230</td><td>22.246000</td><td>22.246000</td><td>166.104263</td><td>5192835.13</td></tr>\n",
       "</tbody>\n",
       "</table>\n"
      ],
      "text/latex": [
       "A data.frame: 6 × 23\n",
       "\\begin{tabular}{r|lllllllllllllllllllll}\n",
       "  & Date & IBM\\_Close & IBM\\_AdjClose & MSFT\\_Close & MSFT\\_AdjClose & GOOG\\_Close & GOOG\\_AdjClose & AAPL\\_Close & AAPL\\_AdjClose & AMZN\\_Close & ⋯ & NFLX\\_Close & NFLX\\_AdjClose & ORCL\\_Close & ORCL\\_AdjClose & SAP\\_Close & SAP\\_AdjClose & TSLA\\_Close & TSLA\\_AdjClose & Remaining & MTM\\\\\n",
       "  & <chr> & <dbl> & <dbl> & <dbl> & <dbl> & <dbl> & <dbl> & <dbl> & <dbl> & <dbl> & ⋯ & <dbl> & <dbl> & <dbl> & <dbl> & <dbl> & <dbl> & <dbl> & <dbl> & <dbl> & <dbl>\\\\\n",
       "\\hline\n",
       "\t1 & 2018-01-02 & 147.466537 & 111.800133 & 85.949997 & 80.391838 & 53.250000 & 53.250000 & 43.064999 & 40.776535 & 59.450500 & ⋯ & 201.070007 & 201.070007 & 46.630001 & 42.437168 & 112.389999 & 101.210281 & 21.368668 & 21.368668 & 178.710725 & 5000000.00\\\\\n",
       "\t2 & 2018-01-03 & 151.520081 & 114.873283 & 86.349998 & 80.765991 & 54.124001 & 54.124001 & 43.057499 & 40.769417 & 60.209999 & ⋯ & 205.050003 & 205.050003 & 47.709999 & 43.420052 & 113.309998 & 102.038773 & 21.150000 & 21.150000 & 178.710725 & 5060975.47\\\\\n",
       "\t3 & 2018-01-04 & 154.588913 & 117.199875 & 87.110001 & 81.476830 & 54.320000 & 54.320000 & 43.257500 & 40.958797 & 60.479500 & ⋯ & 205.630005 & 205.630005 & 48.180000 & 43.847797 & 115.050003 & 103.605690 & 20.974667 & 20.974667 & 178.710725 & 5103484.79\\\\\n",
       "\t4 & 2018-01-05 & 155.344162 & 117.772476 & 88.190002 & 82.486992 & 55.111500 & 55.111500 & 43.750000 & 41.425133 & 61.457001 & ⋯ & 209.990005 & 209.990005 & 48.470001 & 44.111725 & 116.330002 & 104.758369 & 21.105333 & 21.105333 & 178.710725 & 5163911.86\\\\\n",
       "\t5 & 2018-01-08 & 156.281067 & 118.482796 & 88.279999 & 82.571175 & 55.347000 & 55.347000 & 43.587502 & 41.271267 & 62.343498 & ⋯ & 212.050003 & 212.050003 & 48.980000 & 44.575859 & 114.800003 & 103.380562 & 22.427334 & 22.427334 & 178.710725 & 5186872.17\\\\\n",
       "\t6 & 2018-01-09 & 156.625244 & 118.743690 & 88.220001 & 82.515045 & 55.313000 & 55.313000 & 43.582500 & 41.266514 & 62.634998 & ⋯ & 209.309998 & 209.309998 & 49.060001 & 44.822552 & 114.160004 & 102.804230 & 22.246000 & 22.246000 & 166.104263 & 5192835.13\\\\\n",
       "\\end{tabular}\n"
      ],
      "text/markdown": [
       "\n",
       "A data.frame: 6 × 23\n",
       "\n",
       "| <!--/--> | Date &lt;chr&gt; | IBM_Close &lt;dbl&gt; | IBM_AdjClose &lt;dbl&gt; | MSFT_Close &lt;dbl&gt; | MSFT_AdjClose &lt;dbl&gt; | GOOG_Close &lt;dbl&gt; | GOOG_AdjClose &lt;dbl&gt; | AAPL_Close &lt;dbl&gt; | AAPL_AdjClose &lt;dbl&gt; | AMZN_Close &lt;dbl&gt; | ⋯ ⋯ | NFLX_Close &lt;dbl&gt; | NFLX_AdjClose &lt;dbl&gt; | ORCL_Close &lt;dbl&gt; | ORCL_AdjClose &lt;dbl&gt; | SAP_Close &lt;dbl&gt; | SAP_AdjClose &lt;dbl&gt; | TSLA_Close &lt;dbl&gt; | TSLA_AdjClose &lt;dbl&gt; | Remaining &lt;dbl&gt; | MTM &lt;dbl&gt; |\n",
       "|---|---|---|---|---|---|---|---|---|---|---|---|---|---|---|---|---|---|---|---|---|---|\n",
       "| 1 | 2018-01-02 | 147.466537 | 111.800133 | 85.949997 | 80.391838 | 53.250000 | 53.250000 | 43.064999 | 40.776535 | 59.450500 | ⋯ | 201.070007 | 201.070007 | 46.630001 | 42.437168 | 112.389999 | 101.210281 | 21.368668 | 21.368668 | 178.710725 | 5000000.00 |\n",
       "| 2 | 2018-01-03 | 151.520081 | 114.873283 | 86.349998 | 80.765991 | 54.124001 | 54.124001 | 43.057499 | 40.769417 | 60.209999 | ⋯ | 205.050003 | 205.050003 | 47.709999 | 43.420052 | 113.309998 | 102.038773 | 21.150000 | 21.150000 | 178.710725 | 5060975.47 |\n",
       "| 3 | 2018-01-04 | 154.588913 | 117.199875 | 87.110001 | 81.476830 | 54.320000 | 54.320000 | 43.257500 | 40.958797 | 60.479500 | ⋯ | 205.630005 | 205.630005 | 48.180000 | 43.847797 | 115.050003 | 103.605690 | 20.974667 | 20.974667 | 178.710725 | 5103484.79 |\n",
       "| 4 | 2018-01-05 | 155.344162 | 117.772476 | 88.190002 | 82.486992 | 55.111500 | 55.111500 | 43.750000 | 41.425133 | 61.457001 | ⋯ | 209.990005 | 209.990005 | 48.470001 | 44.111725 | 116.330002 | 104.758369 | 21.105333 | 21.105333 | 178.710725 | 5163911.86 |\n",
       "| 5 | 2018-01-08 | 156.281067 | 118.482796 | 88.279999 | 82.571175 | 55.347000 | 55.347000 | 43.587502 | 41.271267 | 62.343498 | ⋯ | 212.050003 | 212.050003 | 48.980000 | 44.575859 | 114.800003 | 103.380562 | 22.427334 | 22.427334 | 178.710725 | 5186872.17 |\n",
       "| 6 | 2018-01-09 | 156.625244 | 118.743690 | 88.220001 | 82.515045 | 55.313000 | 55.313000 | 43.582500 | 41.266514 | 62.634998 | ⋯ | 209.309998 | 209.309998 | 49.060001 | 44.822552 | 114.160004 | 102.804230 | 22.246000 | 22.246000 | 166.104263 | 5192835.13 |\n",
       "\n"
      ],
      "text/plain": [
       "  Date       IBM_Close  IBM_AdjClose MSFT_Close MSFT_AdjClose GOOG_Close\n",
       "1 2018-01-02 147.466537 111.800133   85.949997  80.391838     53.250000 \n",
       "2 2018-01-03 151.520081 114.873283   86.349998  80.765991     54.124001 \n",
       "3 2018-01-04 154.588913 117.199875   87.110001  81.476830     54.320000 \n",
       "4 2018-01-05 155.344162 117.772476   88.190002  82.486992     55.111500 \n",
       "5 2018-01-08 156.281067 118.482796   88.279999  82.571175     55.347000 \n",
       "6 2018-01-09 156.625244 118.743690   88.220001  82.515045     55.313000 \n",
       "  GOOG_AdjClose AAPL_Close AAPL_AdjClose AMZN_Close ⋯ NFLX_Close NFLX_AdjClose\n",
       "1 53.250000     43.064999  40.776535     59.450500  ⋯ 201.070007 201.070007   \n",
       "2 54.124001     43.057499  40.769417     60.209999  ⋯ 205.050003 205.050003   \n",
       "3 54.320000     43.257500  40.958797     60.479500  ⋯ 205.630005 205.630005   \n",
       "4 55.111500     43.750000  41.425133     61.457001  ⋯ 209.990005 209.990005   \n",
       "5 55.347000     43.587502  41.271267     62.343498  ⋯ 212.050003 212.050003   \n",
       "6 55.313000     43.582500  41.266514     62.634998  ⋯ 209.309998 209.309998   \n",
       "  ORCL_Close ORCL_AdjClose SAP_Close  SAP_AdjClose TSLA_Close TSLA_AdjClose\n",
       "1 46.630001  42.437168     112.389999 101.210281   21.368668  21.368668    \n",
       "2 47.709999  43.420052     113.309998 102.038773   21.150000  21.150000    \n",
       "3 48.180000  43.847797     115.050003 103.605690   20.974667  20.974667    \n",
       "4 48.470001  44.111725     116.330002 104.758369   21.105333  21.105333    \n",
       "5 48.980000  44.575859     114.800003 103.380562   22.427334  22.427334    \n",
       "6 49.060001  44.822552     114.160004 102.804230   22.246000  22.246000    \n",
       "  Remaining  MTM       \n",
       "1 178.710725 5000000.00\n",
       "2 178.710725 5060975.47\n",
       "3 178.710725 5103484.79\n",
       "4 178.710725 5163911.86\n",
       "5 178.710725 5186872.17\n",
       "6 166.104263 5192835.13"
      ]
     },
     "metadata": {},
     "output_type": "display_data"
    }
   ],
   "source": [
    "Total <- 5000000\n",
    "options(digits = 9)\n",
    "Remaining <- Total\n",
    "split <- Total / 5\n",
    "MTM <- 0\n",
    "start_date <- mdy('01/02/2018')  # Use mdy from lubridate for date parsing\n",
    "begin_date <- mdy('01/02/2018')\n",
    "end_date <- mdy('12/31/2018')\n",
    "AllStocks <- c('IBM_AdjClose', 'MSFT_AdjClose', 'GOOG_AdjClose', 'AAPL_AdjClose', 'AMZN_AdjClose', 'META_AdjClose', 'NFLX_AdjClose', 'TSLA_AdjClose', 'ORCL_AdjClose', 'SAP_AdjClose')\n",
    "InitialStocks <- c('IBM_Close', 'MSFT_Close', 'GOOG_Close', 'AAPL_Close', 'AMZN_Close')\n",
    "SharesCount <- list()\n",
    "\n",
    "while (start_date <= end_date) {\n",
    "  if (start_date == mdy('01/02/2018')) {  # Execute on the first day\n",
    "    for (i in InitialStocks) {\n",
    "      a <- Stocks[Stocks$Date == start_date, InitialStocks]\n",
    "      b <- floor(split / a[i])\n",
    "      SharesCount[i] <- b[[i]]\n",
    "      Remaining <- Remaining - b * a[i]\n",
    "      MTM <- MTM + b * a[i]\n",
    "    }\n",
    "    colnames(Remaining) <- 'Remaining'\n",
    "    Stocks[Stocks$Date == start_date, 'Remaining'] <- Remaining\n",
    "    colnames(MTM) <- 'MTM'\n",
    "    MTM <- MTM + Remaining\n",
    "    Stocks[Stocks$Date == start_date, 'MTM'] <- MTM\n",
    "  } else if (start_date %in% StockSplit_5$Date) {\n",
    "    MTM <- 0\n",
    "    for (i in InitialStocks) {\n",
    "      a <- Stocks[Stocks$Date == start_date, InitialStocks]\n",
    "      MTM <- MTM + SharesCount[[i]] * a[i]\n",
    "    }\n",
    "    Total <- MTM + Remaining\n",
    "    Remaining <- Total\n",
    "    split <- Total / 5\n",
    "    colnames(Total) <- 'Total'\n",
    "    colnames(MTM) <- 'MTM'\n",
    "    calculated_stocks <- list()\n",
    "    for (i in AllStocks) {\n",
    "      x <- Stocks[Stocks$Date == start_date, AllStocks]\n",
    "      y <- Stocks[Stocks$Date == begin_date, AllStocks]\n",
    "      percent_change <- 100 * ((x[i] - y[i]) / y[i])\n",
    "      col <- paste0(i, \"_PC\")\n",
    "      calculated_stocks[col] <- percent_change\n",
    "    }\n",
    "    calculated_stocks <- calculated_stocks[order(unlist(calculated_stocks))]\n",
    "    calculated_stocks <- head(calculated_stocks, 5)\n",
    "    initial_col_list <- names(calculated_stocks)\n",
    "    initial_col_list <- sub('_.*', '', initial_col_list)\n",
    "    initial_col_list <- paste0(initial_col_list, '_Close')\n",
    "    InitialStocks <- initial_col_list\n",
    "    SharesCount <- list()\n",
    "    b <- list()\n",
    "    MTM <- 0\n",
    "    for (i in InitialStocks) {\n",
    "      a <- Stocks[Stocks$Date == start_date, InitialStocks]\n",
    "      b <- floor(split[, 1] / a[i])\n",
    "      SharesCount[i] <- b[[i]]\n",
    "      Remaining <- Remaining - b * a[i]\n",
    "      MTM <- MTM + b * a[i]\n",
    "    }\n",
    "    MTM <- MTM + Remaining\n",
    "    Stocks[Stocks$Date == start_date, 'MTM'] <- MTM\n",
    "    Stocks[Stocks$Date == start_date, 'Remaining'] <- Remaining\n",
    "  } else {\n",
    "    MTM <- 0\n",
    "    for (i in InitialStocks) {\n",
    "      a <- Stocks[Stocks$Date == start_date, InitialStocks]\n",
    "      MTM <- MTM + SharesCount[[i]] * a[i]\n",
    "    }\n",
    "    colnames(MTM) <- 'MTM'\n",
    "    Stocks[Stocks$Date == start_date, 'Remaining'] <- Remaining\n",
    "    Stocks[Stocks$Date == start_date, 'MTM'] <- MTM\n",
    "  }\n",
    "  start_date <- start_date + 1\n",
    "}\n",
    "\n",
    "# Define the total profit after the last stock split\n",
    "sr1_5 <- c('StockSplit_5', MTM = tail(Stocks$MTM, 1))\n",
    "\n",
    "# Calculate and display the profit\n",
    "output_1 <- c('Profit:', tail(Stocks$MTM, 1) - 5000000)\n",
    "\n",
    "# Display the specific results\n",
    "cat(sr1_5, \"\\n\")\n",
    "cat(output_1, \"\\n\")\n",
    "\n",
    "# Display the head of the Stocks data frame\n",
    "head(Stocks)"
   ]
  },
  {
   "cell_type": "markdown",
   "id": "afc9d66a-de6a-4d1e-8a0d-ca74b3ad450c",
   "metadata": {},
   "source": [
    "## 2. \n",
    "Your trading strategy is \"5 days rebalancing of buying low\". Here is how it works. You keep your portfolio unchanged until 5 days\n",
    "later on Jan 09 2018. Now you want to re-check the market and adjust your portfolio. You will compute the \"Adj Close\" price\n",
    "changes from Jan 02 to Jan 09, and find the 5 stocks whose \"Adj Close\" prices dropped the most in terms of percentage. You sell all\n",
    "current holdings on Jan 09 \"Close\" prices to convert your portfolio to all cash. Then immediately split your cash, including your cash\n",
    "account, to 5 equal parts to buy the 5 stocks that dropped the most from Jan 02 to Jan 09 on 'Adj Close' prices. You always buy the\n",
    "max shares of stock on the \"Close\" price and keep the rest cash in cash account. Now the portfolio should be different from 5 days\n",
    "ago. This operation is called \"rebalancing\".\n",
    "Keep in mind, the MTM will change every day, even when your portfolio holdings don't change, because the stock prices change."
   ]
  },
  {
   "cell_type": "code",
   "execution_count": 14,
   "id": "c7ee17f7-4cd5-48ea-89d3-991481df71c8",
   "metadata": {
    "vscode": {
     "languageId": "r"
    }
   },
   "outputs": [
    {
     "data": {
      "text/html": [
       "<style>\n",
       ".dl-inline {width: auto; margin:0; padding: 0}\n",
       ".dl-inline>dt, .dl-inline>dd {float: none; width: auto; display: inline-block}\n",
       ".dl-inline>dt::after {content: \":\\0020\"; padding-right: .5ex}\n",
       ".dl-inline>dt:not(:first-of-type) {padding-left: .5ex}\n",
       "</style><dl class=dl-inline><dt>1</dt><dd>'StockSplit_5'</dd><dt>MTM</dt><dd>'4740557.697042'</dd></dl>\n"
      ],
      "text/latex": [
       "\\begin{description*}\n",
       "\\item[1] 'StockSplit\\_5'\n",
       "\\item[MTM] '4740557.697042'\n",
       "\\end{description*}\n"
      ],
      "text/markdown": [
       "1\n",
       ":   'StockSplit_5'MTM\n",
       ":   '4740557.697042'\n",
       "\n"
      ],
      "text/plain": [
       "                              MTM \n",
       "  \"StockSplit_5\" \"4740557.697042\" "
      ]
     },
     "metadata": {},
     "output_type": "display_data"
    },
    {
     "data": {
      "text/html": [
       "<style>\n",
       ".list-inline {list-style: none; margin:0; padding: 0}\n",
       ".list-inline>li {display: inline-block}\n",
       ".list-inline>li:not(:last-child)::after {content: \"\\00b7\"; padding: 0 .5ex}\n",
       "</style>\n",
       "<ol class=list-inline><li>'Loss:'</li><li>'259442.302958'</li></ol>\n"
      ],
      "text/latex": [
       "\\begin{enumerate*}\n",
       "\\item 'Loss:'\n",
       "\\item '259442.302958'\n",
       "\\end{enumerate*}\n"
      ],
      "text/markdown": [
       "1. 'Loss:'\n",
       "2. '259442.302958'\n",
       "\n",
       "\n"
      ],
      "text/plain": [
       "[1] \"Loss:\"         \"259442.302958\""
      ]
     },
     "metadata": {},
     "output_type": "display_data"
    },
    {
     "data": {
      "text/html": [
       "<table class=\"dataframe\">\n",
       "<caption>A data.frame: 6 × 23</caption>\n",
       "<thead>\n",
       "\t<tr><th></th><th scope=col>Date</th><th scope=col>IBM_Close</th><th scope=col>IBM_AdjClose</th><th scope=col>MSFT_Close</th><th scope=col>MSFT_AdjClose</th><th scope=col>GOOG_Close</th><th scope=col>GOOG_AdjClose</th><th scope=col>AAPL_Close</th><th scope=col>AAPL_AdjClose</th><th scope=col>AMZN_Close</th><th scope=col>⋯</th><th scope=col>NFLX_Close</th><th scope=col>NFLX_AdjClose</th><th scope=col>ORCL_Close</th><th scope=col>ORCL_AdjClose</th><th scope=col>SAP_Close</th><th scope=col>SAP_AdjClose</th><th scope=col>TSLA_Close</th><th scope=col>TSLA_AdjClose</th><th scope=col>Remaining</th><th scope=col>MTM</th></tr>\n",
       "\t<tr><th></th><th scope=col>&lt;chr&gt;</th><th scope=col>&lt;dbl&gt;</th><th scope=col>&lt;dbl&gt;</th><th scope=col>&lt;dbl&gt;</th><th scope=col>&lt;dbl&gt;</th><th scope=col>&lt;dbl&gt;</th><th scope=col>&lt;dbl&gt;</th><th scope=col>&lt;dbl&gt;</th><th scope=col>&lt;dbl&gt;</th><th scope=col>&lt;dbl&gt;</th><th scope=col>⋯</th><th scope=col>&lt;dbl&gt;</th><th scope=col>&lt;dbl&gt;</th><th scope=col>&lt;dbl&gt;</th><th scope=col>&lt;dbl&gt;</th><th scope=col>&lt;dbl&gt;</th><th scope=col>&lt;dbl&gt;</th><th scope=col>&lt;dbl&gt;</th><th scope=col>&lt;dbl&gt;</th><th scope=col>&lt;dbl&gt;</th><th scope=col>&lt;dbl&gt;</th></tr>\n",
       "</thead>\n",
       "<tbody>\n",
       "\t<tr><th scope=row>245</th><td>2018-12-20</td><td>108.049713</td><td>85.621971</td><td>101.510002</td><td>96.589256</td><td>50.470501</td><td>50.470501</td><td>39.207500</td><td>37.681366</td><td>73.041496</td><td>⋯</td><td>260.579987</td><td>260.579987</td><td>46.240002</td><td>42.758892</td><td>100.099998</td><td>91.522636</td><td>21.025333</td><td>21.025333</td><td>138.777656</td><td>4734482.40</td></tr>\n",
       "\t<tr><th scope=row>246</th><td>2018-12-21</td><td>106.061188</td><td>84.046196</td><td> 98.230003</td><td>93.468269</td><td>48.977001</td><td>48.977001</td><td>37.682499</td><td>36.215721</td><td>68.872498</td><td>⋯</td><td>246.389999</td><td>246.389999</td><td>44.000000</td><td>40.687523</td><td> 96.139999</td><td>87.901962</td><td>21.318001</td><td>21.318001</td><td>223.309377</td><td>4561031.52</td></tr>\n",
       "\t<tr><th scope=row>247</th><td>2018-12-24</td><td>102.839386</td><td>81.493141</td><td> 94.129997</td><td>89.567017</td><td>48.811001</td><td>48.811001</td><td>36.707500</td><td>35.278679</td><td>67.197998</td><td>⋯</td><td>233.880005</td><td>233.880005</td><td>42.689999</td><td>39.476147</td><td> 95.000000</td><td>86.859642</td><td>19.692667</td><td>19.692667</td><td>223.309377</td><td>4357540.81</td></tr>\n",
       "\t<tr><th scope=row>248</th><td>2018-12-26</td><td>106.491394</td><td>84.387115</td><td>100.559998</td><td>95.685303</td><td>51.973000</td><td>51.973000</td><td>39.292500</td><td>37.763050</td><td>73.544998</td><td>⋯</td><td>253.669998</td><td>253.669998</td><td>44.590000</td><td>41.233101</td><td> 98.379997</td><td>89.950012</td><td>21.739332</td><td>21.739332</td><td>223.309377</td><td>4701537.73</td></tr>\n",
       "\t<tr><th scope=row>249</th><td>2018-12-27</td><td>108.776291</td><td>86.197739</td><td>101.180000</td><td>96.275253</td><td>52.194000</td><td>52.194000</td><td>39.037498</td><td>37.517979</td><td>73.082001</td><td>⋯</td><td>255.570007</td><td>255.570007</td><td>44.970001</td><td>41.584496</td><td> 98.989998</td><td>90.507744</td><td>21.075333</td><td>21.075333</td><td>223.309377</td><td>4687662.26</td></tr>\n",
       "\t<tr><th scope=row>250</th><td>2018-12-28</td><td>108.059273</td><td>85.629555</td><td>100.389999</td><td>95.523552</td><td>51.854000</td><td>51.854000</td><td>39.057499</td><td>37.537197</td><td>73.901001</td><td>⋯</td><td>256.079987</td><td>256.079987</td><td>44.820000</td><td>41.445793</td><td> 99.199997</td><td>90.699760</td><td>22.257999</td><td>22.257999</td><td>223.309377</td><td>4740557.70</td></tr>\n",
       "</tbody>\n",
       "</table>\n"
      ],
      "text/latex": [
       "A data.frame: 6 × 23\n",
       "\\begin{tabular}{r|lllllllllllllllllllll}\n",
       "  & Date & IBM\\_Close & IBM\\_AdjClose & MSFT\\_Close & MSFT\\_AdjClose & GOOG\\_Close & GOOG\\_AdjClose & AAPL\\_Close & AAPL\\_AdjClose & AMZN\\_Close & ⋯ & NFLX\\_Close & NFLX\\_AdjClose & ORCL\\_Close & ORCL\\_AdjClose & SAP\\_Close & SAP\\_AdjClose & TSLA\\_Close & TSLA\\_AdjClose & Remaining & MTM\\\\\n",
       "  & <chr> & <dbl> & <dbl> & <dbl> & <dbl> & <dbl> & <dbl> & <dbl> & <dbl> & <dbl> & ⋯ & <dbl> & <dbl> & <dbl> & <dbl> & <dbl> & <dbl> & <dbl> & <dbl> & <dbl> & <dbl>\\\\\n",
       "\\hline\n",
       "\t245 & 2018-12-20 & 108.049713 & 85.621971 & 101.510002 & 96.589256 & 50.470501 & 50.470501 & 39.207500 & 37.681366 & 73.041496 & ⋯ & 260.579987 & 260.579987 & 46.240002 & 42.758892 & 100.099998 & 91.522636 & 21.025333 & 21.025333 & 138.777656 & 4734482.40\\\\\n",
       "\t246 & 2018-12-21 & 106.061188 & 84.046196 &  98.230003 & 93.468269 & 48.977001 & 48.977001 & 37.682499 & 36.215721 & 68.872498 & ⋯ & 246.389999 & 246.389999 & 44.000000 & 40.687523 &  96.139999 & 87.901962 & 21.318001 & 21.318001 & 223.309377 & 4561031.52\\\\\n",
       "\t247 & 2018-12-24 & 102.839386 & 81.493141 &  94.129997 & 89.567017 & 48.811001 & 48.811001 & 36.707500 & 35.278679 & 67.197998 & ⋯ & 233.880005 & 233.880005 & 42.689999 & 39.476147 &  95.000000 & 86.859642 & 19.692667 & 19.692667 & 223.309377 & 4357540.81\\\\\n",
       "\t248 & 2018-12-26 & 106.491394 & 84.387115 & 100.559998 & 95.685303 & 51.973000 & 51.973000 & 39.292500 & 37.763050 & 73.544998 & ⋯ & 253.669998 & 253.669998 & 44.590000 & 41.233101 &  98.379997 & 89.950012 & 21.739332 & 21.739332 & 223.309377 & 4701537.73\\\\\n",
       "\t249 & 2018-12-27 & 108.776291 & 86.197739 & 101.180000 & 96.275253 & 52.194000 & 52.194000 & 39.037498 & 37.517979 & 73.082001 & ⋯ & 255.570007 & 255.570007 & 44.970001 & 41.584496 &  98.989998 & 90.507744 & 21.075333 & 21.075333 & 223.309377 & 4687662.26\\\\\n",
       "\t250 & 2018-12-28 & 108.059273 & 85.629555 & 100.389999 & 95.523552 & 51.854000 & 51.854000 & 39.057499 & 37.537197 & 73.901001 & ⋯ & 256.079987 & 256.079987 & 44.820000 & 41.445793 &  99.199997 & 90.699760 & 22.257999 & 22.257999 & 223.309377 & 4740557.70\\\\\n",
       "\\end{tabular}\n"
      ],
      "text/markdown": [
       "\n",
       "A data.frame: 6 × 23\n",
       "\n",
       "| <!--/--> | Date &lt;chr&gt; | IBM_Close &lt;dbl&gt; | IBM_AdjClose &lt;dbl&gt; | MSFT_Close &lt;dbl&gt; | MSFT_AdjClose &lt;dbl&gt; | GOOG_Close &lt;dbl&gt; | GOOG_AdjClose &lt;dbl&gt; | AAPL_Close &lt;dbl&gt; | AAPL_AdjClose &lt;dbl&gt; | AMZN_Close &lt;dbl&gt; | ⋯ ⋯ | NFLX_Close &lt;dbl&gt; | NFLX_AdjClose &lt;dbl&gt; | ORCL_Close &lt;dbl&gt; | ORCL_AdjClose &lt;dbl&gt; | SAP_Close &lt;dbl&gt; | SAP_AdjClose &lt;dbl&gt; | TSLA_Close &lt;dbl&gt; | TSLA_AdjClose &lt;dbl&gt; | Remaining &lt;dbl&gt; | MTM &lt;dbl&gt; |\n",
       "|---|---|---|---|---|---|---|---|---|---|---|---|---|---|---|---|---|---|---|---|---|---|\n",
       "| 245 | 2018-12-20 | 108.049713 | 85.621971 | 101.510002 | 96.589256 | 50.470501 | 50.470501 | 39.207500 | 37.681366 | 73.041496 | ⋯ | 260.579987 | 260.579987 | 46.240002 | 42.758892 | 100.099998 | 91.522636 | 21.025333 | 21.025333 | 138.777656 | 4734482.40 |\n",
       "| 246 | 2018-12-21 | 106.061188 | 84.046196 |  98.230003 | 93.468269 | 48.977001 | 48.977001 | 37.682499 | 36.215721 | 68.872498 | ⋯ | 246.389999 | 246.389999 | 44.000000 | 40.687523 |  96.139999 | 87.901962 | 21.318001 | 21.318001 | 223.309377 | 4561031.52 |\n",
       "| 247 | 2018-12-24 | 102.839386 | 81.493141 |  94.129997 | 89.567017 | 48.811001 | 48.811001 | 36.707500 | 35.278679 | 67.197998 | ⋯ | 233.880005 | 233.880005 | 42.689999 | 39.476147 |  95.000000 | 86.859642 | 19.692667 | 19.692667 | 223.309377 | 4357540.81 |\n",
       "| 248 | 2018-12-26 | 106.491394 | 84.387115 | 100.559998 | 95.685303 | 51.973000 | 51.973000 | 39.292500 | 37.763050 | 73.544998 | ⋯ | 253.669998 | 253.669998 | 44.590000 | 41.233101 |  98.379997 | 89.950012 | 21.739332 | 21.739332 | 223.309377 | 4701537.73 |\n",
       "| 249 | 2018-12-27 | 108.776291 | 86.197739 | 101.180000 | 96.275253 | 52.194000 | 52.194000 | 39.037498 | 37.517979 | 73.082001 | ⋯ | 255.570007 | 255.570007 | 44.970001 | 41.584496 |  98.989998 | 90.507744 | 21.075333 | 21.075333 | 223.309377 | 4687662.26 |\n",
       "| 250 | 2018-12-28 | 108.059273 | 85.629555 | 100.389999 | 95.523552 | 51.854000 | 51.854000 | 39.057499 | 37.537197 | 73.901001 | ⋯ | 256.079987 | 256.079987 | 44.820000 | 41.445793 |  99.199997 | 90.699760 | 22.257999 | 22.257999 | 223.309377 | 4740557.70 |\n",
       "\n"
      ],
      "text/plain": [
       "    Date       IBM_Close  IBM_AdjClose MSFT_Close MSFT_AdjClose GOOG_Close\n",
       "245 2018-12-20 108.049713 85.621971    101.510002 96.589256     50.470501 \n",
       "246 2018-12-21 106.061188 84.046196     98.230003 93.468269     48.977001 \n",
       "247 2018-12-24 102.839386 81.493141     94.129997 89.567017     48.811001 \n",
       "248 2018-12-26 106.491394 84.387115    100.559998 95.685303     51.973000 \n",
       "249 2018-12-27 108.776291 86.197739    101.180000 96.275253     52.194000 \n",
       "250 2018-12-28 108.059273 85.629555    100.389999 95.523552     51.854000 \n",
       "    GOOG_AdjClose AAPL_Close AAPL_AdjClose AMZN_Close ⋯ NFLX_Close\n",
       "245 50.470501     39.207500  37.681366     73.041496  ⋯ 260.579987\n",
       "246 48.977001     37.682499  36.215721     68.872498  ⋯ 246.389999\n",
       "247 48.811001     36.707500  35.278679     67.197998  ⋯ 233.880005\n",
       "248 51.973000     39.292500  37.763050     73.544998  ⋯ 253.669998\n",
       "249 52.194000     39.037498  37.517979     73.082001  ⋯ 255.570007\n",
       "250 51.854000     39.057499  37.537197     73.901001  ⋯ 256.079987\n",
       "    NFLX_AdjClose ORCL_Close ORCL_AdjClose SAP_Close  SAP_AdjClose TSLA_Close\n",
       "245 260.579987    46.240002  42.758892     100.099998 91.522636    21.025333 \n",
       "246 246.389999    44.000000  40.687523      96.139999 87.901962    21.318001 \n",
       "247 233.880005    42.689999  39.476147      95.000000 86.859642    19.692667 \n",
       "248 253.669998    44.590000  41.233101      98.379997 89.950012    21.739332 \n",
       "249 255.570007    44.970001  41.584496      98.989998 90.507744    21.075333 \n",
       "250 256.079987    44.820000  41.445793      99.199997 90.699760    22.257999 \n",
       "    TSLA_AdjClose Remaining  MTM       \n",
       "245 21.025333     138.777656 4734482.40\n",
       "246 21.318001     223.309377 4561031.52\n",
       "247 19.692667     223.309377 4357540.81\n",
       "248 21.739332     223.309377 4701537.73\n",
       "249 21.075333     223.309377 4687662.26\n",
       "250 22.257999     223.309377 4740557.70"
      ]
     },
     "metadata": {},
     "output_type": "display_data"
    }
   ],
   "source": [
    "options(digits=9)\n",
    "Total = 5000000\n",
    "Remaining = Total\n",
    "split = Total/5\n",
    "MTM = 0\n",
    "begin_date = mdy('01/02/2018')\n",
    "start_date = begin_date\n",
    "end_date =  mdy('12/31/2018')\n",
    "AllStocks = c('IBM_AdjClose','MSFT_AdjClose','GOOG_AdjClose','AAPL_AdjClose','AMZN_AdjClose','META_AdjClose','NFLX_AdjClose','TSLA_AdjClose','ORCL_AdjClose','SAP_AdjClose')\n",
    "IntialStocks = c('IBM_Close','MSFT_Close','GOOG_Close','AAPL_Close','AMZN_Close')\n",
    "SharesCount = list()\n",
    "\n",
    "\n",
    "while(start_date <= end_date){\n",
    "\n",
    "    if(start_date == '2018-01-02'){\n",
    "          for(i in IntialStocks) {\n",
    "        a = Stocks[Stocks$Date== start_date, IntialStocks]\n",
    "        b= floor(split/a[i])\n",
    "        SharesCount[i] =  b[[i]] \n",
    "        Remaining = Remaining - b*a[i]\n",
    "        MTM = MTM + b*a[i]\n",
    "        }\n",
    "        colnames(Remaining) = 'Remaining'\n",
    "        Stocks[Stocks$Date == start_date,'Remaining'] = Remaining\n",
    "        colnames(MTM) = 'MTM'\n",
    "        MTM = MTM + Remaining\n",
    "        Stocks[Stocks$Date == start_date,'MTM'] = MTM\n",
    "        \n",
    "}\n",
    "\n",
    "        else if(start_date %in% StockSplit_5$Date) {\n",
    "        MTM = 0\n",
    "        for(i in IntialStocks) {\n",
    "        a = Stocks[Stocks$Date== start_date, IntialStocks]\n",
    "        MTM = MTM + SharesCount[[i]]*a[i]\n",
    "        }\n",
    "        Total = MTM + Remaining\n",
    "        Remaining = Total\n",
    "        split = Total / 5\n",
    "        colnames(Total) = 'Total'\n",
    "        colnames(MTM) = 'MTM'\n",
    "        calculated_stocks = list()\n",
    "        for(i in AllStocks){\n",
    "           \n",
    "            x = Stocks[Stocks$Date== start_date, AllStocks]\n",
    "            y = Stocks[Stocks$Date== begin_date, AllStocks]\n",
    "            percent_change = 100 * ((x[i] - y[i])/ y[i])\n",
    "            col = paste0(i, \"_PC\")\n",
    "            calculated_stocks[col] = percent_change\n",
    "            \n",
    "        }\n",
    "        calculated_stocks = calculated_stocks[order(unlist(calculated_stocks))]\n",
    "        calculated_stocks = tail(calculated_stocks,5)\n",
    "        \n",
    "\n",
    "        initial_col_list = names(calculated_stocks)\n",
    "        initial_col_list = sub('_.*','',initial_col_list)\n",
    "        initial_col_list = paste0(initial_col_list,'_Close')\n",
    "        IntialStocks = initial_col_list\n",
    "        SharesCount = list()\n",
    "        b = list()\n",
    "        MTM = 0\n",
    "        for(i in IntialStocks) {\n",
    "        a = Stocks[Stocks$Date== start_date, IntialStocks]\n",
    "        b= floor(split[,1]/a[i])\n",
    "        SharesCount[i] =  b[[i]]\n",
    "        Remaining = Remaining - b*a[i]\n",
    "        MTM = MTM + b*a[i]\n",
    "        }\n",
    "        MTM = MTM + Remaining\n",
    "        Stocks[Stocks$Date == start_date,'MTM'] = MTM\n",
    "        Stocks[Stocks$Date == start_date,'Remaining'] = Remaining    \n",
    "    }\n",
    "        \n",
    "    else {\n",
    "        MTM = 0\n",
    "        for(i in IntialStocks) {\n",
    "        a = Stocks[Stocks$Date== start_date, IntialStocks]\n",
    "        MTM = MTM + SharesCount[[i]]*a[i]\n",
    "        }\n",
    "        colnames(MTM) = 'MTM'\n",
    "        Stocks[Stocks$Date == start_date,'Remaining'] = Remaining\n",
    "        Stocks[Stocks$Date == start_date,'MTM'] = MTM\n",
    "      \n",
    "    }\n",
    "            \n",
    "start_date = start_date+1\n",
    "}\n",
    "sr2_5 = c('StockSplit_5',MTM = tail(Stocks$MTM,1))\n",
    "output_2 = c('Loss:', 5000000 - tail(Stocks$MTM,1))\n",
    "sr2_5\n",
    "output_2\n",
    "tail(Stocks)"
   ]
  },
  {
   "cell_type": "markdown",
   "id": "dca8a595-db48-4092-af5a-a3ba16660a2f",
   "metadata": {},
   "source": [
    "## 3. \n",
    "Corporations generally issue stock dividends on some days. The total dividend you get on such a day is the stock dividend times your shares if you have shares of this stock on the dividend day. If you buy shares on the dividend day, these bought shares are not qualified to get dividend. If you sell shares on the dividend day, the sold shares are qualified to get dividend. For example, on 2/8/2018, IBM issued a 1.5 dividend per share. In your cash account, you will automatically get $1.5 × (𝑦𝑜𝑢𝑟 𝐼𝐵𝑀 𝑠ℎ𝑎𝑟𝑒𝑠 𝑜𝑛 2/8/2018)"
   ]
  },
  {
   "cell_type": "code",
   "execution_count": 16,
   "id": "0d17ecda-b952-4f37-9c78-f6c7048734bd",
   "metadata": {
    "vscode": {
     "languageId": "r"
    }
   },
   "outputs": [
    {
     "name": "stdout",
     "output_type": "stream",
     "text": [
      "IBM \n",
      "    IBM_Date Absolute_Dividend\n",
      "1 2018-02-08        1.43405195\n",
      "2 2018-05-09        1.50096682\n",
      "3 2018-08-09        1.50093124\n",
      "4 2018-11-08        1.50094403\n",
      "\n",
      "MSFT \n",
      "   MSFT_Date Absolute_Dividend\n",
      "1 2018-02-14       0.419999860\n",
      "2 2018-05-16       0.420019278\n",
      "3 2018-08-15       0.419984951\n",
      "4 2018-11-14       0.460005127\n",
      "\n",
      "GOOG \n",
      "[1] GOOG_Date         Absolute_Dividend\n",
      "<0 rows> (or 0-length row.names)\n",
      "\n",
      "AAPL \n",
      "   AAPL_Date Absolute_Dividend\n",
      "1 2018-02-09       0.157492439\n",
      "2 2018-05-11       0.182510093\n",
      "3 2018-08-10       0.182504908\n",
      "4 2018-11-08       0.182513910\n",
      "\n",
      "AMZN \n",
      "[1] AMZN_Date         Absolute_Dividend\n",
      "<0 rows> (or 0-length row.names)\n",
      "\n",
      "FB \n",
      "[1] FB_Date           Absolute_Dividend\n",
      "<0 rows> (or 0-length row.names)\n",
      "\n",
      "NFLX \n",
      "[1] NFLX_Date         Absolute_Dividend\n",
      "<0 rows> (or 0-length row.names)\n",
      "\n",
      "TSLA \n",
      "[1] TSLA_Date         Absolute_Dividend\n",
      "<0 rows> (or 0-length row.names)\n",
      "\n",
      "ORCL \n",
      "   ORCL_Date Absolute_Dividend\n",
      "1 2018-01-09       0.190013943\n",
      "2 2018-04-16       0.190007806\n",
      "3 2018-07-16       0.189998566\n",
      "4 2018-10-15       0.189992408\n",
      "\n",
      "SAP \n",
      "    SAP_Date Absolute_Dividend\n",
      "1 2018-05-18        1.72700814\n",
      "\n"
     ]
    }
   ],
   "source": [
    "# Define a list of stock symbols\n",
    "stock_symbols <- c(\"IBM\", \"MSFT\", \"GOOG\", \"AAPL\", \"AMZN\", \"FB\", \"NFLX\", \"TSLA\", \"ORCL\", \"SAP\")\n",
    "\n",
    "# Create an empty list to store the results for each stock\n",
    "results_list <- list()\n",
    "\n",
    "# Loop through each stock symbol\n",
    "for (symbol in stock_symbols) {\n",
    "  stock_data <- get(symbol)  # Assumes you have data loaded with appropriate variable names\n",
    "\n",
    "  # Perform the calculations for each stock\n",
    "  result <- stock_data %>%\n",
    "    mutate(Ratio.AdjClose = lag(AdjClose, default = 0) / AdjClose,\n",
    "           Ratio.Close = lag(Close, default = 0) / Close) %>%\n",
    "    mutate(Difference = Ratio.AdjClose - Ratio.Close) %>%\n",
    "    mutate(Dividend = Difference * Close)\n",
    "\n",
    "  result$Absolute_Dividend = abs(result$Dividend)\n",
    "  result = select(result, Date, Absolute_Dividend) %>%\n",
    "    filter(Absolute_Dividend > 0.01)\n",
    "\n",
    "  # Rename the columns\n",
    "  colnames(result) <- c(paste(symbol, \"Date\", sep = \"_\"), \"Absolute_Dividend\")\n",
    "\n",
    "  # Store the results in the list\n",
    "  results_list[[symbol]] <- result\n",
    "}\n",
    "\n",
    "# Print the results for each stock\n",
    "for (symbol in stock_symbols) {\n",
    "  cat(symbol, \"\\n\")\n",
    "  print(results_list[[symbol]])\n",
    "  cat(\"\\n\")\n",
    "}\n"
   ]
  },
  {
   "cell_type": "code",
   "execution_count": 18,
   "id": "93d7c5b1-b47c-41f6-bfc0-f2d752563a61",
   "metadata": {
    "vscode": {
     "languageId": "r"
    }
   },
   "outputs": [
    {
     "data": {
      "text/html": [
       "<table class=\"dataframe\">\n",
       "<caption>A data.frame: 4 × 10</caption>\n",
       "<thead>\n",
       "\t<tr><th scope=col>IBM_Date</th><th scope=col>IBM_Absolute_Dividend</th><th scope=col>MSFT_Date</th><th scope=col>MSFT_Absolute_Dividend</th><th scope=col>AAPL_Date</th><th scope=col>AAPL_Absolute_Dividend</th><th scope=col>ORCL_Date</th><th scope=col>ORCL_Absolute_Dividend</th><th scope=col>SAP_Date</th><th scope=col>SAP_Absolute_Dividend</th></tr>\n",
       "\t<tr><th scope=col>&lt;chr&gt;</th><th scope=col>&lt;dbl&gt;</th><th scope=col>&lt;chr&gt;</th><th scope=col>&lt;dbl&gt;</th><th scope=col>&lt;chr&gt;</th><th scope=col>&lt;dbl&gt;</th><th scope=col>&lt;chr&gt;</th><th scope=col>&lt;dbl&gt;</th><th scope=col>&lt;chr&gt;</th><th scope=col>&lt;dbl&gt;</th></tr>\n",
       "</thead>\n",
       "<tbody>\n",
       "\t<tr><td>2018-02-08</td><td>1.43405195</td><td>2018-02-14</td><td>0.419999860</td><td>2018-02-09</td><td>0.157492439</td><td>2018-01-09</td><td>0.190013943</td><td>2018-05-18</td><td>1.72700814</td></tr>\n",
       "\t<tr><td>2018-05-09</td><td>1.50096682</td><td>2018-05-16</td><td>0.420019278</td><td>2018-05-11</td><td>0.182510093</td><td>2018-04-16</td><td>0.190007806</td><td>2018-05-18</td><td>1.72700814</td></tr>\n",
       "\t<tr><td>2018-08-09</td><td>1.50093124</td><td>2018-08-15</td><td>0.419984951</td><td>2018-08-10</td><td>0.182504908</td><td>2018-07-16</td><td>0.189998566</td><td>2018-05-18</td><td>1.72700814</td></tr>\n",
       "\t<tr><td>2018-11-08</td><td>1.50094403</td><td>2018-11-14</td><td>0.460005127</td><td>2018-11-08</td><td>0.182513910</td><td>2018-10-15</td><td>0.189992408</td><td>2018-05-18</td><td>1.72700814</td></tr>\n",
       "</tbody>\n",
       "</table>\n"
      ],
      "text/latex": [
       "A data.frame: 4 × 10\n",
       "\\begin{tabular}{llllllllll}\n",
       " IBM\\_Date & IBM\\_Absolute\\_Dividend & MSFT\\_Date & MSFT\\_Absolute\\_Dividend & AAPL\\_Date & AAPL\\_Absolute\\_Dividend & ORCL\\_Date & ORCL\\_Absolute\\_Dividend & SAP\\_Date & SAP\\_Absolute\\_Dividend\\\\\n",
       " <chr> & <dbl> & <chr> & <dbl> & <chr> & <dbl> & <chr> & <dbl> & <chr> & <dbl>\\\\\n",
       "\\hline\n",
       "\t 2018-02-08 & 1.43405195 & 2018-02-14 & 0.419999860 & 2018-02-09 & 0.157492439 & 2018-01-09 & 0.190013943 & 2018-05-18 & 1.72700814\\\\\n",
       "\t 2018-05-09 & 1.50096682 & 2018-05-16 & 0.420019278 & 2018-05-11 & 0.182510093 & 2018-04-16 & 0.190007806 & 2018-05-18 & 1.72700814\\\\\n",
       "\t 2018-08-09 & 1.50093124 & 2018-08-15 & 0.419984951 & 2018-08-10 & 0.182504908 & 2018-07-16 & 0.189998566 & 2018-05-18 & 1.72700814\\\\\n",
       "\t 2018-11-08 & 1.50094403 & 2018-11-14 & 0.460005127 & 2018-11-08 & 0.182513910 & 2018-10-15 & 0.189992408 & 2018-05-18 & 1.72700814\\\\\n",
       "\\end{tabular}\n"
      ],
      "text/markdown": [
       "\n",
       "A data.frame: 4 × 10\n",
       "\n",
       "| IBM_Date &lt;chr&gt; | IBM_Absolute_Dividend &lt;dbl&gt; | MSFT_Date &lt;chr&gt; | MSFT_Absolute_Dividend &lt;dbl&gt; | AAPL_Date &lt;chr&gt; | AAPL_Absolute_Dividend &lt;dbl&gt; | ORCL_Date &lt;chr&gt; | ORCL_Absolute_Dividend &lt;dbl&gt; | SAP_Date &lt;chr&gt; | SAP_Absolute_Dividend &lt;dbl&gt; |\n",
       "|---|---|---|---|---|---|---|---|---|---|\n",
       "| 2018-02-08 | 1.43405195 | 2018-02-14 | 0.419999860 | 2018-02-09 | 0.157492439 | 2018-01-09 | 0.190013943 | 2018-05-18 | 1.72700814 |\n",
       "| 2018-05-09 | 1.50096682 | 2018-05-16 | 0.420019278 | 2018-05-11 | 0.182510093 | 2018-04-16 | 0.190007806 | 2018-05-18 | 1.72700814 |\n",
       "| 2018-08-09 | 1.50093124 | 2018-08-15 | 0.419984951 | 2018-08-10 | 0.182504908 | 2018-07-16 | 0.189998566 | 2018-05-18 | 1.72700814 |\n",
       "| 2018-11-08 | 1.50094403 | 2018-11-14 | 0.460005127 | 2018-11-08 | 0.182513910 | 2018-10-15 | 0.189992408 | 2018-05-18 | 1.72700814 |\n",
       "\n"
      ],
      "text/plain": [
       "  IBM_Date   IBM_Absolute_Dividend MSFT_Date  MSFT_Absolute_Dividend AAPL_Date \n",
       "1 2018-02-08 1.43405195            2018-02-14 0.419999860            2018-02-09\n",
       "2 2018-05-09 1.50096682            2018-05-16 0.420019278            2018-05-11\n",
       "3 2018-08-09 1.50093124            2018-08-15 0.419984951            2018-08-10\n",
       "4 2018-11-08 1.50094403            2018-11-14 0.460005127            2018-11-08\n",
       "  AAPL_Absolute_Dividend ORCL_Date  ORCL_Absolute_Dividend SAP_Date  \n",
       "1 0.157492439            2018-01-09 0.190013943            2018-05-18\n",
       "2 0.182510093            2018-04-16 0.190007806            2018-05-18\n",
       "3 0.182504908            2018-07-16 0.189998566            2018-05-18\n",
       "4 0.182513910            2018-10-15 0.189992408            2018-05-18\n",
       "  SAP_Absolute_Dividend\n",
       "1 1.72700814           \n",
       "2 1.72700814           \n",
       "3 1.72700814           \n",
       "4 1.72700814           "
      ]
     },
     "metadata": {},
     "output_type": "display_data"
    }
   ],
   "source": [
    "# Define a list of stock symbols which yields Dividend\n",
    "stock_symbols <- c(\"IBM\", \"MSFT\", \"AAPL\", \"ORCL\", \"SAP\")\n",
    "\n",
    "# Create an empty list to store the data frames for each stock\n",
    "results_list <- list()\n",
    "\n",
    "# Loop through each stock symbol\n",
    "for (symbol in stock_symbols) {\n",
    "  stock_data <- get(symbol)  # Assumes you have data loaded with appropriate variable names\n",
    "\n",
    "  result <- stock_data %>%\n",
    "    mutate(Ratio.AdjClose = lag(AdjClose, default = 0) / AdjClose,\n",
    "           Ratio.Close = lag(Close, default = 0) / Close) %>%\n",
    "    mutate(Difference = Ratio.AdjClose - Ratio.Close) %>%\n",
    "    mutate(Dividend = Difference * Close) %>%\n",
    "    mutate(Absolute_Dividend = abs(Dividend)) %>%\n",
    "    select(Date, Absolute_Dividend) %>%\n",
    "    filter(Absolute_Dividend > 0.01)\n",
    "\n",
    "  colnames(result) <- c(paste(symbol, \"Date\", sep = \"_\"), paste(symbol, \"Absolute_Dividend\", sep = \"_\"))\n",
    "\n",
    "  results_list[[symbol]] <- result\n",
    "}\n",
    "\n",
    "# Combine data frames into a single table\n",
    "dividend_stocks <- bind_cols(results_list)\n",
    "\n",
    "# Print the combined data frame\n",
    "dividend_stocks"
   ]
  },
  {
   "cell_type": "markdown",
   "id": "466b7dcd-812c-4bfd-9274-67ca5f5cbc26",
   "metadata": {},
   "source": [
    "## 4. \n",
    "5 business days later on Jan 17 (Jan 15 was a holiday), you re-check the market and adjust your portfolio again. You will have a new portfolio on Jan 17."
   ]
  },
  {
   "cell_type": "code",
   "execution_count": 20,
   "id": "4f2238f7-610d-4a54-ae23-3364a57e053b",
   "metadata": {
    "vscode": {
     "languageId": "r"
    }
   },
   "outputs": [
    {
     "data": {
      "text/html": [
       "<style>\n",
       ".dl-inline {width: auto; margin:0; padding: 0}\n",
       ".dl-inline>dt, .dl-inline>dd {float: none; width: auto; display: inline-block}\n",
       ".dl-inline>dt::after {content: \":\\0020\"; padding-right: .5ex}\n",
       ".dl-inline>dt:not(:first-of-type) {padding-left: .5ex}\n",
       "</style><dl class=dl-inline><dt>1</dt><dd>'StockSplit_5'</dd><dt>MTM</dt><dd>'5299981.580892'</dd></dl>\n"
      ],
      "text/latex": [
       "\\begin{description*}\n",
       "\\item[1] 'StockSplit\\_5'\n",
       "\\item[MTM] '5299981.580892'\n",
       "\\end{description*}\n"
      ],
      "text/markdown": [
       "1\n",
       ":   'StockSplit_5'MTM\n",
       ":   '5299981.580892'\n",
       "\n"
      ],
      "text/plain": [
       "                              MTM \n",
       "  \"StockSplit_5\" \"5299981.580892\" "
      ]
     },
     "metadata": {},
     "output_type": "display_data"
    },
    {
     "data": {
      "text/html": [
       "<style>\n",
       ".list-inline {list-style: none; margin:0; padding: 0}\n",
       ".list-inline>li {display: inline-block}\n",
       ".list-inline>li:not(:last-child)::after {content: \"\\00b7\"; padding: 0 .5ex}\n",
       "</style>\n",
       "<ol class=list-inline><li>'Profit:'</li><li>'299981.580892'</li></ol>\n"
      ],
      "text/latex": [
       "\\begin{enumerate*}\n",
       "\\item 'Profit:'\n",
       "\\item '299981.580892'\n",
       "\\end{enumerate*}\n"
      ],
      "text/markdown": [
       "1. 'Profit:'\n",
       "2. '299981.580892'\n",
       "\n",
       "\n"
      ],
      "text/plain": [
       "[1] \"Profit:\"       \"299981.580892\""
      ]
     },
     "metadata": {},
     "output_type": "display_data"
    },
    {
     "data": {
      "text/html": [
       "<table class=\"dataframe\">\n",
       "<caption>A data.frame: 6 × 23</caption>\n",
       "<thead>\n",
       "\t<tr><th></th><th scope=col>Date</th><th scope=col>IBM_Close</th><th scope=col>IBM_AdjClose</th><th scope=col>MSFT_Close</th><th scope=col>MSFT_AdjClose</th><th scope=col>GOOG_Close</th><th scope=col>GOOG_AdjClose</th><th scope=col>AAPL_Close</th><th scope=col>AAPL_AdjClose</th><th scope=col>AMZN_Close</th><th scope=col>⋯</th><th scope=col>NFLX_Close</th><th scope=col>NFLX_AdjClose</th><th scope=col>ORCL_Close</th><th scope=col>ORCL_AdjClose</th><th scope=col>SAP_Close</th><th scope=col>SAP_AdjClose</th><th scope=col>TSLA_Close</th><th scope=col>TSLA_AdjClose</th><th scope=col>Remaining</th><th scope=col>MTM</th></tr>\n",
       "\t<tr><th></th><th scope=col>&lt;chr&gt;</th><th scope=col>&lt;dbl&gt;</th><th scope=col>&lt;dbl&gt;</th><th scope=col>&lt;dbl&gt;</th><th scope=col>&lt;dbl&gt;</th><th scope=col>&lt;dbl&gt;</th><th scope=col>&lt;dbl&gt;</th><th scope=col>&lt;dbl&gt;</th><th scope=col>&lt;dbl&gt;</th><th scope=col>&lt;dbl&gt;</th><th scope=col>⋯</th><th scope=col>&lt;dbl&gt;</th><th scope=col>&lt;dbl&gt;</th><th scope=col>&lt;dbl&gt;</th><th scope=col>&lt;dbl&gt;</th><th scope=col>&lt;dbl&gt;</th><th scope=col>&lt;dbl&gt;</th><th scope=col>&lt;dbl&gt;</th><th scope=col>&lt;dbl&gt;</th><th scope=col>&lt;dbl&gt;</th><th scope=col>&lt;dbl&gt;</th></tr>\n",
       "</thead>\n",
       "<tbody>\n",
       "\t<tr><th scope=row>245</th><td>2018-12-20</td><td>108.049713</td><td>85.621971</td><td>101.510002</td><td>96.589256</td><td>50.470501</td><td>50.470501</td><td>39.207500</td><td>37.681366</td><td>73.041496</td><td>⋯</td><td>260.579987</td><td>260.579987</td><td>46.240002</td><td>42.758892</td><td>100.099998</td><td>91.522636</td><td>21.025333</td><td>21.025333</td><td>308.867369</td><td>5284449.04</td></tr>\n",
       "\t<tr><th scope=row>246</th><td>2018-12-21</td><td>106.061188</td><td>84.046196</td><td> 98.230003</td><td>93.468269</td><td>48.977001</td><td>48.977001</td><td>37.682499</td><td>36.215721</td><td>68.872498</td><td>⋯</td><td>246.389999</td><td>246.389999</td><td>44.000000</td><td>40.687523</td><td> 96.139999</td><td>87.901962</td><td>21.318001</td><td>21.318001</td><td>304.724110</td><td>5084782.31</td></tr>\n",
       "\t<tr><th scope=row>247</th><td>2018-12-24</td><td>102.839386</td><td>81.493141</td><td> 94.129997</td><td>89.567017</td><td>48.811001</td><td>48.811001</td><td>36.707500</td><td>35.278679</td><td>67.197998</td><td>⋯</td><td>233.880005</td><td>233.880005</td><td>42.689999</td><td>39.476147</td><td> 95.000000</td><td>86.859642</td><td>19.692667</td><td>19.692667</td><td>304.724110</td><td>5004527.41</td></tr>\n",
       "\t<tr><th scope=row>248</th><td>2018-12-26</td><td>106.491394</td><td>84.387115</td><td>100.559998</td><td>95.685303</td><td>51.973000</td><td>51.973000</td><td>39.292500</td><td>37.763050</td><td>73.544998</td><td>⋯</td><td>253.669998</td><td>253.669998</td><td>44.590000</td><td>41.233101</td><td> 98.379997</td><td>89.950012</td><td>21.739332</td><td>21.739332</td><td>304.724110</td><td>5293063.59</td></tr>\n",
       "\t<tr><th scope=row>249</th><td>2018-12-27</td><td>108.776291</td><td>86.197739</td><td>101.180000</td><td>96.275253</td><td>52.194000</td><td>52.194000</td><td>39.037498</td><td>37.517979</td><td>73.082001</td><td>⋯</td><td>255.570007</td><td>255.570007</td><td>44.970001</td><td>41.584496</td><td> 98.989998</td><td>90.507744</td><td>21.075333</td><td>21.075333</td><td>304.724110</td><td>5321897.06</td></tr>\n",
       "\t<tr><th scope=row>250</th><td>2018-12-28</td><td>108.059273</td><td>85.629555</td><td>100.389999</td><td>95.523552</td><td>51.854000</td><td>51.854000</td><td>39.057499</td><td>37.537197</td><td>73.901001</td><td>⋯</td><td>256.079987</td><td>256.079987</td><td>44.820000</td><td>41.445793</td><td> 99.199997</td><td>90.699760</td><td>22.257999</td><td>22.257999</td><td>304.724110</td><td>5299981.58</td></tr>\n",
       "</tbody>\n",
       "</table>\n"
      ],
      "text/latex": [
       "A data.frame: 6 × 23\n",
       "\\begin{tabular}{r|lllllllllllllllllllll}\n",
       "  & Date & IBM\\_Close & IBM\\_AdjClose & MSFT\\_Close & MSFT\\_AdjClose & GOOG\\_Close & GOOG\\_AdjClose & AAPL\\_Close & AAPL\\_AdjClose & AMZN\\_Close & ⋯ & NFLX\\_Close & NFLX\\_AdjClose & ORCL\\_Close & ORCL\\_AdjClose & SAP\\_Close & SAP\\_AdjClose & TSLA\\_Close & TSLA\\_AdjClose & Remaining & MTM\\\\\n",
       "  & <chr> & <dbl> & <dbl> & <dbl> & <dbl> & <dbl> & <dbl> & <dbl> & <dbl> & <dbl> & ⋯ & <dbl> & <dbl> & <dbl> & <dbl> & <dbl> & <dbl> & <dbl> & <dbl> & <dbl> & <dbl>\\\\\n",
       "\\hline\n",
       "\t245 & 2018-12-20 & 108.049713 & 85.621971 & 101.510002 & 96.589256 & 50.470501 & 50.470501 & 39.207500 & 37.681366 & 73.041496 & ⋯ & 260.579987 & 260.579987 & 46.240002 & 42.758892 & 100.099998 & 91.522636 & 21.025333 & 21.025333 & 308.867369 & 5284449.04\\\\\n",
       "\t246 & 2018-12-21 & 106.061188 & 84.046196 &  98.230003 & 93.468269 & 48.977001 & 48.977001 & 37.682499 & 36.215721 & 68.872498 & ⋯ & 246.389999 & 246.389999 & 44.000000 & 40.687523 &  96.139999 & 87.901962 & 21.318001 & 21.318001 & 304.724110 & 5084782.31\\\\\n",
       "\t247 & 2018-12-24 & 102.839386 & 81.493141 &  94.129997 & 89.567017 & 48.811001 & 48.811001 & 36.707500 & 35.278679 & 67.197998 & ⋯ & 233.880005 & 233.880005 & 42.689999 & 39.476147 &  95.000000 & 86.859642 & 19.692667 & 19.692667 & 304.724110 & 5004527.41\\\\\n",
       "\t248 & 2018-12-26 & 106.491394 & 84.387115 & 100.559998 & 95.685303 & 51.973000 & 51.973000 & 39.292500 & 37.763050 & 73.544998 & ⋯ & 253.669998 & 253.669998 & 44.590000 & 41.233101 &  98.379997 & 89.950012 & 21.739332 & 21.739332 & 304.724110 & 5293063.59\\\\\n",
       "\t249 & 2018-12-27 & 108.776291 & 86.197739 & 101.180000 & 96.275253 & 52.194000 & 52.194000 & 39.037498 & 37.517979 & 73.082001 & ⋯ & 255.570007 & 255.570007 & 44.970001 & 41.584496 &  98.989998 & 90.507744 & 21.075333 & 21.075333 & 304.724110 & 5321897.06\\\\\n",
       "\t250 & 2018-12-28 & 108.059273 & 85.629555 & 100.389999 & 95.523552 & 51.854000 & 51.854000 & 39.057499 & 37.537197 & 73.901001 & ⋯ & 256.079987 & 256.079987 & 44.820000 & 41.445793 &  99.199997 & 90.699760 & 22.257999 & 22.257999 & 304.724110 & 5299981.58\\\\\n",
       "\\end{tabular}\n"
      ],
      "text/markdown": [
       "\n",
       "A data.frame: 6 × 23\n",
       "\n",
       "| <!--/--> | Date &lt;chr&gt; | IBM_Close &lt;dbl&gt; | IBM_AdjClose &lt;dbl&gt; | MSFT_Close &lt;dbl&gt; | MSFT_AdjClose &lt;dbl&gt; | GOOG_Close &lt;dbl&gt; | GOOG_AdjClose &lt;dbl&gt; | AAPL_Close &lt;dbl&gt; | AAPL_AdjClose &lt;dbl&gt; | AMZN_Close &lt;dbl&gt; | ⋯ ⋯ | NFLX_Close &lt;dbl&gt; | NFLX_AdjClose &lt;dbl&gt; | ORCL_Close &lt;dbl&gt; | ORCL_AdjClose &lt;dbl&gt; | SAP_Close &lt;dbl&gt; | SAP_AdjClose &lt;dbl&gt; | TSLA_Close &lt;dbl&gt; | TSLA_AdjClose &lt;dbl&gt; | Remaining &lt;dbl&gt; | MTM &lt;dbl&gt; |\n",
       "|---|---|---|---|---|---|---|---|---|---|---|---|---|---|---|---|---|---|---|---|---|---|\n",
       "| 245 | 2018-12-20 | 108.049713 | 85.621971 | 101.510002 | 96.589256 | 50.470501 | 50.470501 | 39.207500 | 37.681366 | 73.041496 | ⋯ | 260.579987 | 260.579987 | 46.240002 | 42.758892 | 100.099998 | 91.522636 | 21.025333 | 21.025333 | 308.867369 | 5284449.04 |\n",
       "| 246 | 2018-12-21 | 106.061188 | 84.046196 |  98.230003 | 93.468269 | 48.977001 | 48.977001 | 37.682499 | 36.215721 | 68.872498 | ⋯ | 246.389999 | 246.389999 | 44.000000 | 40.687523 |  96.139999 | 87.901962 | 21.318001 | 21.318001 | 304.724110 | 5084782.31 |\n",
       "| 247 | 2018-12-24 | 102.839386 | 81.493141 |  94.129997 | 89.567017 | 48.811001 | 48.811001 | 36.707500 | 35.278679 | 67.197998 | ⋯ | 233.880005 | 233.880005 | 42.689999 | 39.476147 |  95.000000 | 86.859642 | 19.692667 | 19.692667 | 304.724110 | 5004527.41 |\n",
       "| 248 | 2018-12-26 | 106.491394 | 84.387115 | 100.559998 | 95.685303 | 51.973000 | 51.973000 | 39.292500 | 37.763050 | 73.544998 | ⋯ | 253.669998 | 253.669998 | 44.590000 | 41.233101 |  98.379997 | 89.950012 | 21.739332 | 21.739332 | 304.724110 | 5293063.59 |\n",
       "| 249 | 2018-12-27 | 108.776291 | 86.197739 | 101.180000 | 96.275253 | 52.194000 | 52.194000 | 39.037498 | 37.517979 | 73.082001 | ⋯ | 255.570007 | 255.570007 | 44.970001 | 41.584496 |  98.989998 | 90.507744 | 21.075333 | 21.075333 | 304.724110 | 5321897.06 |\n",
       "| 250 | 2018-12-28 | 108.059273 | 85.629555 | 100.389999 | 95.523552 | 51.854000 | 51.854000 | 39.057499 | 37.537197 | 73.901001 | ⋯ | 256.079987 | 256.079987 | 44.820000 | 41.445793 |  99.199997 | 90.699760 | 22.257999 | 22.257999 | 304.724110 | 5299981.58 |\n",
       "\n"
      ],
      "text/plain": [
       "    Date       IBM_Close  IBM_AdjClose MSFT_Close MSFT_AdjClose GOOG_Close\n",
       "245 2018-12-20 108.049713 85.621971    101.510002 96.589256     50.470501 \n",
       "246 2018-12-21 106.061188 84.046196     98.230003 93.468269     48.977001 \n",
       "247 2018-12-24 102.839386 81.493141     94.129997 89.567017     48.811001 \n",
       "248 2018-12-26 106.491394 84.387115    100.559998 95.685303     51.973000 \n",
       "249 2018-12-27 108.776291 86.197739    101.180000 96.275253     52.194000 \n",
       "250 2018-12-28 108.059273 85.629555    100.389999 95.523552     51.854000 \n",
       "    GOOG_AdjClose AAPL_Close AAPL_AdjClose AMZN_Close ⋯ NFLX_Close\n",
       "245 50.470501     39.207500  37.681366     73.041496  ⋯ 260.579987\n",
       "246 48.977001     37.682499  36.215721     68.872498  ⋯ 246.389999\n",
       "247 48.811001     36.707500  35.278679     67.197998  ⋯ 233.880005\n",
       "248 51.973000     39.292500  37.763050     73.544998  ⋯ 253.669998\n",
       "249 52.194000     39.037498  37.517979     73.082001  ⋯ 255.570007\n",
       "250 51.854000     39.057499  37.537197     73.901001  ⋯ 256.079987\n",
       "    NFLX_AdjClose ORCL_Close ORCL_AdjClose SAP_Close  SAP_AdjClose TSLA_Close\n",
       "245 260.579987    46.240002  42.758892     100.099998 91.522636    21.025333 \n",
       "246 246.389999    44.000000  40.687523      96.139999 87.901962    21.318001 \n",
       "247 233.880005    42.689999  39.476147      95.000000 86.859642    19.692667 \n",
       "248 253.669998    44.590000  41.233101      98.379997 89.950012    21.739332 \n",
       "249 255.570007    44.970001  41.584496      98.989998 90.507744    21.075333 \n",
       "250 256.079987    44.820000  41.445793      99.199997 90.699760    22.257999 \n",
       "    TSLA_AdjClose Remaining  MTM       \n",
       "245 21.025333     308.867369 5284449.04\n",
       "246 21.318001     304.724110 5084782.31\n",
       "247 19.692667     304.724110 5004527.41\n",
       "248 21.739332     304.724110 5293063.59\n",
       "249 21.075333     304.724110 5321897.06\n",
       "250 22.257999     304.724110 5299981.58"
      ]
     },
     "metadata": {},
     "output_type": "display_data"
    }
   ],
   "source": [
    "options(digits=9)\n",
    "Total = 5000000\n",
    "Remaining = Total\n",
    "split = Total/5\n",
    "MTM = 0\n",
    "begin_date = mdy('01/02/2018')\n",
    "start_date = begin_date\n",
    "end_date =  mdy('12/31/2018')\n",
    "AllStocks = c('IBM_AdjClose','MSFT_AdjClose','GOOG_AdjClose','AAPL_AdjClose','AMZN_AdjClose','META_AdjClose','NFLX_AdjClose','TSLA_AdjClose','ORCL_AdjClose','SAP_AdjClose')\n",
    "IntialStocks = c('IBM_Close','MSFT_Close','GOOG_Close','AAPL_Close','AMZN_Close')\n",
    "SharesCount = list()\n",
    "\n",
    "while(start_date <= end_date){\n",
    "\n",
    "    if(start_date == '2018-01-02'){\n",
    "        for(i in IntialStocks) {\n",
    "        a = Stocks[Stocks$Date== start_date, IntialStocks]\n",
    "        b= floor(split/a[i])\n",
    "        SharesCount[i] =  b[[i]] \n",
    "        Remaining = Remaining - b*a[i]\n",
    "        st_name= sub('_.*','',i)\n",
    "        name = paste0(st_name,'_','Date')\n",
    "        name = as.name(name) \n",
    "        value = paste0(st_name,'_Absolute_Dividend')\n",
    "        value = as.name(value)           \n",
    "        if(start_date %in% dividend_stocks$name){\n",
    "          print('Hello')\n",
    "        }\n",
    "        MTM = MTM + b*a[i]\n",
    "        }       \n",
    "}\n",
    "\n",
    "    else if(start_date %in% StockSplit_5$Date) {\n",
    "        MTM = 0\n",
    "        for(i in IntialStocks) {\n",
    "        a = Stocks[Stocks$Date== start_date, IntialStocks]\n",
    "        MTM = MTM + SharesCount[[i]]*a[i]\n",
    "        }\n",
    "        Total = MTM + Remaining\n",
    "        Remaining = Total\n",
    "        split = Total / 5\n",
    "        colnames(Total) = 'Total'\n",
    "        colnames(MTM) = 'MTM'\n",
    "        calculated_stocks = list()\n",
    "        for(i in AllStocks){\n",
    "           \n",
    "            x = Stocks[Stocks$Date== start_date, AllStocks]\n",
    "            y = Stocks[Stocks$Date== begin_date, AllStocks]\n",
    "            percent_change = 100 * ((x[i] - y[i])/ y[i])\n",
    "            col = paste0(i, \"_PC\")\n",
    "            calculated_stocks[col] = percent_change\n",
    "            \n",
    "        }\n",
    "        calculated_stocks = calculated_stocks[order(unlist(calculated_stocks))]\n",
    "        calculated_stocks = head(calculated_stocks,5)\n",
    "        \n",
    "        # update initial stocks\n",
    "        initial_col_list = names(calculated_stocks)\n",
    "        initial_col_list = sub('_.*','',initial_col_list)\n",
    "        initial_col_list = paste0(initial_col_list,'_Close')\n",
    "        IntialStocks = initial_col_list\n",
    "        SharesCount = list()\n",
    "        b = list()\n",
    "        MTM = 0\n",
    "        for(i in IntialStocks) {\n",
    "        a = Stocks[Stocks$Date== start_date, IntialStocks]\n",
    "        b= floor(split[,1]/a[i])\n",
    "        SharesCount[i] =  b[[i]]\n",
    "        Remaining = Remaining - b*a[i]\n",
    "        MTM = MTM + b*a[i]\n",
    "        }\n",
    "        MTM = MTM + Remaining\n",
    "        Stocks[Stocks$Date == start_date,'MTM'] = MTM\n",
    "        Stocks[Stocks$Date == start_date,'Remaining'] = Remaining  \n",
    "    }\n",
    "        \n",
    "    # This logic executes every day except the 5th day and returns MTM\n",
    "    else {\n",
    "        MTM = 0\n",
    "        for(i in IntialStocks) {\n",
    "        a = Stocks[Stocks$Date== start_date, IntialStocks]\n",
    "        MTM = MTM + SharesCount[[i]]*a[i]\n",
    "        }\n",
    "        colnames(MTM) = 'MTM'\n",
    "        Stocks[Stocks$Date == start_date,'Remaining'] = Remaining\n",
    "        Stocks[Stocks$Date == start_date,'MTM'] = MTM\n",
    "      \n",
    "    }\n",
    "        \n",
    "start_date = start_date+1\n",
    "    \n",
    "}\n",
    "sr1_5 = c('StockSplit_5',MTM = tail(Stocks$MTM,1))\n",
    "output_3 = c('Profit:', tail(Stocks$MTM,1)-5000000)\n",
    "sr1_5\n",
    "output_3\n",
    "tail(Stocks)"
   ]
  },
  {
   "cell_type": "markdown",
   "id": "b36a5ce9-3586-4064-9d26-0e3dd0b86a40",
   "metadata": {},
   "source": [
    "## 5.\n",
    "If you run this strategy every 5 days all the way to Dec 31 2018, you will have a daily MTM. You expect the MTM on Dec 31 2018 should be higher than $5m because you always buy the stocks that dropped the most, i.e., you always buy low"
   ]
  },
  {
   "cell_type": "code",
   "execution_count": 21,
   "id": "34cd3deb-904c-4d8b-91c0-1fab1e417405",
   "metadata": {
    "vscode": {
     "languageId": "r"
    }
   },
   "outputs": [
    {
     "data": {
      "text/html": [
       "<style>\n",
       ".dl-inline {width: auto; margin:0; padding: 0}\n",
       ".dl-inline>dt, .dl-inline>dd {float: none; width: auto; display: inline-block}\n",
       ".dl-inline>dt::after {content: \":\\0020\"; padding-right: .5ex}\n",
       ".dl-inline>dt:not(:first-of-type) {padding-left: .5ex}\n",
       "</style><dl class=dl-inline><dt>1</dt><dd>'StockSplit_5'</dd><dt>MTM</dt><dd>'4740557.697042'</dd></dl>\n"
      ],
      "text/latex": [
       "\\begin{description*}\n",
       "\\item[1] 'StockSplit\\_5'\n",
       "\\item[MTM] '4740557.697042'\n",
       "\\end{description*}\n"
      ],
      "text/markdown": [
       "1\n",
       ":   'StockSplit_5'MTM\n",
       ":   '4740557.697042'\n",
       "\n"
      ],
      "text/plain": [
       "                              MTM \n",
       "  \"StockSplit_5\" \"4740557.697042\" "
      ]
     },
     "metadata": {},
     "output_type": "display_data"
    },
    {
     "data": {
      "text/html": [
       "<style>\n",
       ".list-inline {list-style: none; margin:0; padding: 0}\n",
       ".list-inline>li {display: inline-block}\n",
       ".list-inline>li:not(:last-child)::after {content: \"\\00b7\"; padding: 0 .5ex}\n",
       "</style>\n",
       "<ol class=list-inline><li>'Loss:'</li><li>'259442.302958'</li></ol>\n"
      ],
      "text/latex": [
       "\\begin{enumerate*}\n",
       "\\item 'Loss:'\n",
       "\\item '259442.302958'\n",
       "\\end{enumerate*}\n"
      ],
      "text/markdown": [
       "1. 'Loss:'\n",
       "2. '259442.302958'\n",
       "\n",
       "\n"
      ],
      "text/plain": [
       "[1] \"Loss:\"         \"259442.302958\""
      ]
     },
     "metadata": {},
     "output_type": "display_data"
    },
    {
     "data": {
      "text/html": [
       "<table class=\"dataframe\">\n",
       "<caption>A data.frame: 6 × 23</caption>\n",
       "<thead>\n",
       "\t<tr><th></th><th scope=col>Date</th><th scope=col>IBM_Close</th><th scope=col>IBM_AdjClose</th><th scope=col>MSFT_Close</th><th scope=col>MSFT_AdjClose</th><th scope=col>GOOG_Close</th><th scope=col>GOOG_AdjClose</th><th scope=col>AAPL_Close</th><th scope=col>AAPL_AdjClose</th><th scope=col>AMZN_Close</th><th scope=col>⋯</th><th scope=col>NFLX_Close</th><th scope=col>NFLX_AdjClose</th><th scope=col>ORCL_Close</th><th scope=col>ORCL_AdjClose</th><th scope=col>SAP_Close</th><th scope=col>SAP_AdjClose</th><th scope=col>TSLA_Close</th><th scope=col>TSLA_AdjClose</th><th scope=col>Remaining</th><th scope=col>MTM</th></tr>\n",
       "\t<tr><th></th><th scope=col>&lt;chr&gt;</th><th scope=col>&lt;dbl&gt;</th><th scope=col>&lt;dbl&gt;</th><th scope=col>&lt;dbl&gt;</th><th scope=col>&lt;dbl&gt;</th><th scope=col>&lt;dbl&gt;</th><th scope=col>&lt;dbl&gt;</th><th scope=col>&lt;dbl&gt;</th><th scope=col>&lt;dbl&gt;</th><th scope=col>&lt;dbl&gt;</th><th scope=col>⋯</th><th scope=col>&lt;dbl&gt;</th><th scope=col>&lt;dbl&gt;</th><th scope=col>&lt;dbl&gt;</th><th scope=col>&lt;dbl&gt;</th><th scope=col>&lt;dbl&gt;</th><th scope=col>&lt;dbl&gt;</th><th scope=col>&lt;dbl&gt;</th><th scope=col>&lt;dbl&gt;</th><th scope=col>&lt;dbl&gt;</th><th scope=col>&lt;dbl&gt;</th></tr>\n",
       "</thead>\n",
       "<tbody>\n",
       "\t<tr><th scope=row>245</th><td>2018-12-20</td><td>108.049713</td><td>85.621971</td><td>101.510002</td><td>96.589256</td><td>50.470501</td><td>50.470501</td><td>39.207500</td><td>37.681366</td><td>73.041496</td><td>⋯</td><td>260.579987</td><td>260.579987</td><td>46.240002</td><td>42.758892</td><td>100.099998</td><td>91.522636</td><td>21.025333</td><td>21.025333</td><td>138.777656</td><td>4734482.40</td></tr>\n",
       "\t<tr><th scope=row>246</th><td>2018-12-21</td><td>106.061188</td><td>84.046196</td><td> 98.230003</td><td>93.468269</td><td>48.977001</td><td>48.977001</td><td>37.682499</td><td>36.215721</td><td>68.872498</td><td>⋯</td><td>246.389999</td><td>246.389999</td><td>44.000000</td><td>40.687523</td><td> 96.139999</td><td>87.901962</td><td>21.318001</td><td>21.318001</td><td>223.309377</td><td>4561031.52</td></tr>\n",
       "\t<tr><th scope=row>247</th><td>2018-12-24</td><td>102.839386</td><td>81.493141</td><td> 94.129997</td><td>89.567017</td><td>48.811001</td><td>48.811001</td><td>36.707500</td><td>35.278679</td><td>67.197998</td><td>⋯</td><td>233.880005</td><td>233.880005</td><td>42.689999</td><td>39.476147</td><td> 95.000000</td><td>86.859642</td><td>19.692667</td><td>19.692667</td><td>223.309377</td><td>4357540.81</td></tr>\n",
       "\t<tr><th scope=row>248</th><td>2018-12-26</td><td>106.491394</td><td>84.387115</td><td>100.559998</td><td>95.685303</td><td>51.973000</td><td>51.973000</td><td>39.292500</td><td>37.763050</td><td>73.544998</td><td>⋯</td><td>253.669998</td><td>253.669998</td><td>44.590000</td><td>41.233101</td><td> 98.379997</td><td>89.950012</td><td>21.739332</td><td>21.739332</td><td>223.309377</td><td>4701537.73</td></tr>\n",
       "\t<tr><th scope=row>249</th><td>2018-12-27</td><td>108.776291</td><td>86.197739</td><td>101.180000</td><td>96.275253</td><td>52.194000</td><td>52.194000</td><td>39.037498</td><td>37.517979</td><td>73.082001</td><td>⋯</td><td>255.570007</td><td>255.570007</td><td>44.970001</td><td>41.584496</td><td> 98.989998</td><td>90.507744</td><td>21.075333</td><td>21.075333</td><td>223.309377</td><td>4687662.26</td></tr>\n",
       "\t<tr><th scope=row>250</th><td>2018-12-28</td><td>108.059273</td><td>85.629555</td><td>100.389999</td><td>95.523552</td><td>51.854000</td><td>51.854000</td><td>39.057499</td><td>37.537197</td><td>73.901001</td><td>⋯</td><td>256.079987</td><td>256.079987</td><td>44.820000</td><td>41.445793</td><td> 99.199997</td><td>90.699760</td><td>22.257999</td><td>22.257999</td><td>223.309377</td><td>4740557.70</td></tr>\n",
       "</tbody>\n",
       "</table>\n"
      ],
      "text/latex": [
       "A data.frame: 6 × 23\n",
       "\\begin{tabular}{r|lllllllllllllllllllll}\n",
       "  & Date & IBM\\_Close & IBM\\_AdjClose & MSFT\\_Close & MSFT\\_AdjClose & GOOG\\_Close & GOOG\\_AdjClose & AAPL\\_Close & AAPL\\_AdjClose & AMZN\\_Close & ⋯ & NFLX\\_Close & NFLX\\_AdjClose & ORCL\\_Close & ORCL\\_AdjClose & SAP\\_Close & SAP\\_AdjClose & TSLA\\_Close & TSLA\\_AdjClose & Remaining & MTM\\\\\n",
       "  & <chr> & <dbl> & <dbl> & <dbl> & <dbl> & <dbl> & <dbl> & <dbl> & <dbl> & <dbl> & ⋯ & <dbl> & <dbl> & <dbl> & <dbl> & <dbl> & <dbl> & <dbl> & <dbl> & <dbl> & <dbl>\\\\\n",
       "\\hline\n",
       "\t245 & 2018-12-20 & 108.049713 & 85.621971 & 101.510002 & 96.589256 & 50.470501 & 50.470501 & 39.207500 & 37.681366 & 73.041496 & ⋯ & 260.579987 & 260.579987 & 46.240002 & 42.758892 & 100.099998 & 91.522636 & 21.025333 & 21.025333 & 138.777656 & 4734482.40\\\\\n",
       "\t246 & 2018-12-21 & 106.061188 & 84.046196 &  98.230003 & 93.468269 & 48.977001 & 48.977001 & 37.682499 & 36.215721 & 68.872498 & ⋯ & 246.389999 & 246.389999 & 44.000000 & 40.687523 &  96.139999 & 87.901962 & 21.318001 & 21.318001 & 223.309377 & 4561031.52\\\\\n",
       "\t247 & 2018-12-24 & 102.839386 & 81.493141 &  94.129997 & 89.567017 & 48.811001 & 48.811001 & 36.707500 & 35.278679 & 67.197998 & ⋯ & 233.880005 & 233.880005 & 42.689999 & 39.476147 &  95.000000 & 86.859642 & 19.692667 & 19.692667 & 223.309377 & 4357540.81\\\\\n",
       "\t248 & 2018-12-26 & 106.491394 & 84.387115 & 100.559998 & 95.685303 & 51.973000 & 51.973000 & 39.292500 & 37.763050 & 73.544998 & ⋯ & 253.669998 & 253.669998 & 44.590000 & 41.233101 &  98.379997 & 89.950012 & 21.739332 & 21.739332 & 223.309377 & 4701537.73\\\\\n",
       "\t249 & 2018-12-27 & 108.776291 & 86.197739 & 101.180000 & 96.275253 & 52.194000 & 52.194000 & 39.037498 & 37.517979 & 73.082001 & ⋯ & 255.570007 & 255.570007 & 44.970001 & 41.584496 &  98.989998 & 90.507744 & 21.075333 & 21.075333 & 223.309377 & 4687662.26\\\\\n",
       "\t250 & 2018-12-28 & 108.059273 & 85.629555 & 100.389999 & 95.523552 & 51.854000 & 51.854000 & 39.057499 & 37.537197 & 73.901001 & ⋯ & 256.079987 & 256.079987 & 44.820000 & 41.445793 &  99.199997 & 90.699760 & 22.257999 & 22.257999 & 223.309377 & 4740557.70\\\\\n",
       "\\end{tabular}\n"
      ],
      "text/markdown": [
       "\n",
       "A data.frame: 6 × 23\n",
       "\n",
       "| <!--/--> | Date &lt;chr&gt; | IBM_Close &lt;dbl&gt; | IBM_AdjClose &lt;dbl&gt; | MSFT_Close &lt;dbl&gt; | MSFT_AdjClose &lt;dbl&gt; | GOOG_Close &lt;dbl&gt; | GOOG_AdjClose &lt;dbl&gt; | AAPL_Close &lt;dbl&gt; | AAPL_AdjClose &lt;dbl&gt; | AMZN_Close &lt;dbl&gt; | ⋯ ⋯ | NFLX_Close &lt;dbl&gt; | NFLX_AdjClose &lt;dbl&gt; | ORCL_Close &lt;dbl&gt; | ORCL_AdjClose &lt;dbl&gt; | SAP_Close &lt;dbl&gt; | SAP_AdjClose &lt;dbl&gt; | TSLA_Close &lt;dbl&gt; | TSLA_AdjClose &lt;dbl&gt; | Remaining &lt;dbl&gt; | MTM &lt;dbl&gt; |\n",
       "|---|---|---|---|---|---|---|---|---|---|---|---|---|---|---|---|---|---|---|---|---|---|\n",
       "| 245 | 2018-12-20 | 108.049713 | 85.621971 | 101.510002 | 96.589256 | 50.470501 | 50.470501 | 39.207500 | 37.681366 | 73.041496 | ⋯ | 260.579987 | 260.579987 | 46.240002 | 42.758892 | 100.099998 | 91.522636 | 21.025333 | 21.025333 | 138.777656 | 4734482.40 |\n",
       "| 246 | 2018-12-21 | 106.061188 | 84.046196 |  98.230003 | 93.468269 | 48.977001 | 48.977001 | 37.682499 | 36.215721 | 68.872498 | ⋯ | 246.389999 | 246.389999 | 44.000000 | 40.687523 |  96.139999 | 87.901962 | 21.318001 | 21.318001 | 223.309377 | 4561031.52 |\n",
       "| 247 | 2018-12-24 | 102.839386 | 81.493141 |  94.129997 | 89.567017 | 48.811001 | 48.811001 | 36.707500 | 35.278679 | 67.197998 | ⋯ | 233.880005 | 233.880005 | 42.689999 | 39.476147 |  95.000000 | 86.859642 | 19.692667 | 19.692667 | 223.309377 | 4357540.81 |\n",
       "| 248 | 2018-12-26 | 106.491394 | 84.387115 | 100.559998 | 95.685303 | 51.973000 | 51.973000 | 39.292500 | 37.763050 | 73.544998 | ⋯ | 253.669998 | 253.669998 | 44.590000 | 41.233101 |  98.379997 | 89.950012 | 21.739332 | 21.739332 | 223.309377 | 4701537.73 |\n",
       "| 249 | 2018-12-27 | 108.776291 | 86.197739 | 101.180000 | 96.275253 | 52.194000 | 52.194000 | 39.037498 | 37.517979 | 73.082001 | ⋯ | 255.570007 | 255.570007 | 44.970001 | 41.584496 |  98.989998 | 90.507744 | 21.075333 | 21.075333 | 223.309377 | 4687662.26 |\n",
       "| 250 | 2018-12-28 | 108.059273 | 85.629555 | 100.389999 | 95.523552 | 51.854000 | 51.854000 | 39.057499 | 37.537197 | 73.901001 | ⋯ | 256.079987 | 256.079987 | 44.820000 | 41.445793 |  99.199997 | 90.699760 | 22.257999 | 22.257999 | 223.309377 | 4740557.70 |\n",
       "\n"
      ],
      "text/plain": [
       "    Date       IBM_Close  IBM_AdjClose MSFT_Close MSFT_AdjClose GOOG_Close\n",
       "245 2018-12-20 108.049713 85.621971    101.510002 96.589256     50.470501 \n",
       "246 2018-12-21 106.061188 84.046196     98.230003 93.468269     48.977001 \n",
       "247 2018-12-24 102.839386 81.493141     94.129997 89.567017     48.811001 \n",
       "248 2018-12-26 106.491394 84.387115    100.559998 95.685303     51.973000 \n",
       "249 2018-12-27 108.776291 86.197739    101.180000 96.275253     52.194000 \n",
       "250 2018-12-28 108.059273 85.629555    100.389999 95.523552     51.854000 \n",
       "    GOOG_AdjClose AAPL_Close AAPL_AdjClose AMZN_Close ⋯ NFLX_Close\n",
       "245 50.470501     39.207500  37.681366     73.041496  ⋯ 260.579987\n",
       "246 48.977001     37.682499  36.215721     68.872498  ⋯ 246.389999\n",
       "247 48.811001     36.707500  35.278679     67.197998  ⋯ 233.880005\n",
       "248 51.973000     39.292500  37.763050     73.544998  ⋯ 253.669998\n",
       "249 52.194000     39.037498  37.517979     73.082001  ⋯ 255.570007\n",
       "250 51.854000     39.057499  37.537197     73.901001  ⋯ 256.079987\n",
       "    NFLX_AdjClose ORCL_Close ORCL_AdjClose SAP_Close  SAP_AdjClose TSLA_Close\n",
       "245 260.579987    46.240002  42.758892     100.099998 91.522636    21.025333 \n",
       "246 246.389999    44.000000  40.687523      96.139999 87.901962    21.318001 \n",
       "247 233.880005    42.689999  39.476147      95.000000 86.859642    19.692667 \n",
       "248 253.669998    44.590000  41.233101      98.379997 89.950012    21.739332 \n",
       "249 255.570007    44.970001  41.584496      98.989998 90.507744    21.075333 \n",
       "250 256.079987    44.820000  41.445793      99.199997 90.699760    22.257999 \n",
       "    TSLA_AdjClose Remaining  MTM       \n",
       "245 21.025333     138.777656 4734482.40\n",
       "246 21.318001     223.309377 4561031.52\n",
       "247 19.692667     223.309377 4357540.81\n",
       "248 21.739332     223.309377 4701537.73\n",
       "249 21.075333     223.309377 4687662.26\n",
       "250 22.257999     223.309377 4740557.70"
      ]
     },
     "metadata": {},
     "output_type": "display_data"
    }
   ],
   "source": [
    "options(digits=9)\n",
    "Total = 5000000\n",
    "Remaining = Total\n",
    "split = Total/5\n",
    "MTM = 0\n",
    "begin_date = mdy('01/02/2018')\n",
    "start_date = begin_date\n",
    "end_date =  mdy('12/31/2018')\n",
    "AllStocks = c('IBM_AdjClose','MSFT_AdjClose','GOOG_AdjClose','AAPL_AdjClose','AMZN_AdjClose','META_AdjClose','NFLX_AdjClose','TSLA_AdjClose','ORCL_AdjClose','SAP_AdjClose')\n",
    "IntialStocks = c('IBM_Close','MSFT_Close','GOOG_Close','AAPL_Close','AMZN_Close')\n",
    "SharesCount = list()\n",
    "\n",
    "while(start_date <= end_date){\n",
    "    \n",
    "\n",
    "    if(start_date == '2018-01-02'){\n",
    "          for(i in IntialStocks) {\n",
    "        a = Stocks[Stocks$Date== start_date, IntialStocks]\n",
    "        b= floor(split/a[i])\n",
    "        SharesCount[i] =  b[[i]] \n",
    "        Remaining = Remaining - b*a[i]\n",
    "        MTM = MTM + b*a[i]\n",
    "        }\n",
    "        colnames(Remaining) = 'Remaining'\n",
    "        Stocks[Stocks$Date == start_date,'Remaining'] = Remaining\n",
    "        colnames(MTM) = 'MTM'\n",
    "        MTM = MTM + Remaining\n",
    "        Stocks[Stocks$Date == start_date,'MTM'] = MTM    \n",
    "}\n",
    "\n",
    "    else if(start_date %in% StockSplit_5$Date) {\n",
    "        MTM = 0\n",
    "        for(i in IntialStocks) {\n",
    "        a = Stocks[Stocks$Date== start_date, IntialStocks]\n",
    "        MTM = MTM + SharesCount[[i]]*a[i]\n",
    "        }\n",
    "        Total = MTM + Remaining\n",
    "        Remaining = Total\n",
    "        split = Total / 5\n",
    "        colnames(Total) = 'Total'\n",
    "        colnames(MTM) = 'MTM'\n",
    "        calculated_stocks = list()\n",
    "        for(i in AllStocks){\n",
    "           \n",
    "            x = Stocks[Stocks$Date== start_date, AllStocks]\n",
    "            y = Stocks[Stocks$Date== begin_date, AllStocks]\n",
    "            percent_change = 100 * ((x[i] - y[i])/ y[i])\n",
    "            col = paste0(i, \"_PC\")\n",
    "            calculated_stocks[col] = percent_change\n",
    "            \n",
    "        }\n",
    "        calculated_stocks = calculated_stocks[order(unlist(calculated_stocks))]\n",
    "        calculated_stocks = tail(calculated_stocks,5)\n",
    "        \n",
    "\n",
    "        initial_col_list = names(calculated_stocks)\n",
    "        initial_col_list = sub('_.*','',initial_col_list)\n",
    "        initial_col_list = paste0(initial_col_list,'_Close')\n",
    "        IntialStocks = initial_col_list\n",
    "        SharesCount = list()\n",
    "        b = list()\n",
    "        MTM = 0\n",
    "        for(i in IntialStocks) {\n",
    "        a = Stocks[Stocks$Date== start_date, IntialStocks]\n",
    "        b= floor(split[,1]/a[i])\n",
    "        SharesCount[i] =  b[[i]]\n",
    "        Remaining = Remaining - b*a[i]\n",
    "        MTM = MTM + b*a[i]\n",
    "        }\n",
    "        MTM = MTM + Remaining\n",
    "        Stocks[Stocks$Date == start_date,'MTM'] = MTM\n",
    "        Stocks[Stocks$Date == start_date,'Remaining'] = Remaining\n",
    "        \n",
    "        \n",
    "    }\n",
    "        \n",
    "    else {\n",
    "        MTM = 0\n",
    "        for(i in IntialStocks) {\n",
    "        a = Stocks[Stocks$Date== start_date, IntialStocks]\n",
    "        MTM = MTM + SharesCount[[i]]*a[i]\n",
    "        }\n",
    "        colnames(MTM) = 'MTM'\n",
    "        Stocks[Stocks$Date == start_date,'Remaining'] = Remaining\n",
    "        Stocks[Stocks$Date == start_date,'MTM'] = MTM\n",
    "      \n",
    "    }\n",
    "start_date = start_date+1\n",
    "}\n",
    "sr2_5 = c('StockSplit_5',MTM = tail(Stocks$MTM,1))\n",
    "output_4 = c('Loss:', 5000000-tail(Stocks$MTM,1))\n",
    "sr2_5\n",
    "output_4\n",
    "tail(Stocks)"
   ]
  },
  {
   "cell_type": "markdown",
   "id": "1757b484-8871-45d4-a37c-1a869e03cf00",
   "metadata": {},
   "source": [
    "## 7.\n",
    "You will create a \"high tech index\" which is simply the daily average of the 10 stocks \"Close\" prices. Compare your MTM series with\n",
    "the \"high tech index\" and plot their curves. To plot the two curves together, you may want to convert the series to daily percentage\n",
    "change with regard to Jan 02 2018."
   ]
  },
  {
   "cell_type": "code",
   "execution_count": 22,
   "id": "2adc45c9-ca38-4cd7-b3c5-961827f7e66e",
   "metadata": {
    "vscode": {
     "languageId": "r"
    }
   },
   "outputs": [],
   "source": [
    "Stocks$HTI=rowMeans(Stocks[,c('IBM_Close','MSFT_Close','GOOG_Close','AMZN_Close','META_Close','AAPL_Close','NFLX_Close','TSLA_Close','ORCL_Close','SAP_Close')], na.rm=TRUE)"
   ]
  },
  {
   "cell_type": "code",
   "execution_count": 32,
   "id": "22df7cf8-7aea-4d87-964f-7fd0ec518a7d",
   "metadata": {
    "vscode": {
     "languageId": "r"
    }
   },
   "outputs": [],
   "source": [
    "library(tidyverse)\n",
    "library(reshape2)"
   ]
  },
  {
   "cell_type": "code",
   "execution_count": 33,
   "id": "595caf70-7756-4e2a-90b3-0b122426640f",
   "metadata": {
    "vscode": {
     "languageId": "r"
    }
   },
   "outputs": [
    {
     "name": "stderr",
     "output_type": "stream",
     "text": [
      "Warning message:\n",
      "\"\u001b[1m\u001b[22mRemoved 446 rows containing missing values (`geom_line()`).\"\n"
     ]
    },
    {
     "data": {
      "image/png": "[encoded data removed]",
      "text/plain": [
       "plot without title"
      ]
     },
     "metadata": {
      "image/png": {
       "height": 420,
       "width": 420
      }
     },
     "output_type": "display_data"
    }
   ],
   "source": [
    "data.frame(Date=Stocks$Date, \n",
    "         HTIchange= transmute(Stocks, HTIchange=((HTI-lag(HTI))/lag(HTI))*100), \n",
    "        MTMchange = transmute(Stocks, MTMchange=((MTM-lag(MTM))/lag(MTM))*100)) %>%\n",
    "reshape2::melt(id.vars=\"Date\") %>%\n",
    "ggplot(aes(x=as.Date(Date,\"%Y-%m-%d\"), y=value, group=variable, color=variable)) + geom_line(size=1) +\n",
    " scale_x_date(limit=c(as.Date(\"2018-01-01\"),as.Date(\"2018-02-11\")))"
   ]
  },
  {
   "cell_type": "code",
   "execution_count": 34,
   "id": "233a8afd-5098-4e5f-a697-df2fb22414f6",
   "metadata": {
    "vscode": {
     "languageId": "r"
    }
   },
   "outputs": [
    {
     "name": "stderr",
     "output_type": "stream",
     "text": [
      "Warning message:\n",
      "\"\u001b[1m\u001b[22mRemoved 2 rows containing missing values (`geom_line()`).\"\n"
     ]
    },
    {
     "data": {
      "image/png": "[encoded data removed]",
      "text/plain": [
       "plot without title"
      ]
     },
     "metadata": {
      "image/png": {
       "height": 420,
       "width": 420
      }
     },
     "output_type": "display_data"
    }
   ],
   "source": [
    "data.frame(Date=Stocks$Date, \n",
    "         HTIchange= transmute(Stocks, HTIchange=((HTI-lag(HTI))/lag(HTI))*100), \n",
    "        MTMchange = transmute(Stocks, MTMchange=((MTM-lag(MTM))/lag(MTM))*100)) %>%\n",
    "reshape2::melt(id.vars=\"Date\") %>%\n",
    "ggplot(aes(x=Date, y=value, group=variable, color=variable)) + geom_line(size=1) "
   ]
  },
  {
   "cell_type": "markdown",
   "id": "ec1d8be9-b886-465d-bb98-ec5486033aa9",
   "metadata": {},
   "source": [
    "## 8.\n",
    "Download the USD/JPY 2018 historical data at https://www.myfxbook.com/en/forex-market/currencies/USDJPY-historical-data\n",
    "(https://www.myfxbook.com/en/forex-market/currencies/USDJPY-historical-data) then use the \"Close\" column as the rate to convert\n",
    "your MTM series from USD to JPY. Plot the two MTM curves. You will need to convert to daily percentage change t.oo"
   ]
  },
  {
   "cell_type": "code",
   "execution_count": 35,
   "id": "ab0d6119-913c-45b8-9ea2-c9d62e2433c9",
   "metadata": {
    "vscode": {
     "languageId": "r"
    }
   },
   "outputs": [
    {
     "data": {
      "text/html": [
       "261"
      ],
      "text/latex": [
       "261"
      ],
      "text/markdown": [
       "261"
      ],
      "text/plain": [
       "[1] 261"
      ]
     },
     "metadata": {},
     "output_type": "display_data"
    },
    {
     "data": {
      "text/html": [
       "<table class=\"dataframe\">\n",
       "<caption>A data.frame: 6 × 2</caption>\n",
       "<thead>\n",
       "\t<tr><th></th><th scope=col>Date</th><th scope=col>JPY_Close</th></tr>\n",
       "\t<tr><th></th><th scope=col>&lt;chr&gt;</th><th scope=col>&lt;dbl&gt;</th></tr>\n",
       "</thead>\n",
       "<tbody>\n",
       "\t<tr><th scope=row>1</th><td>1/1/2018</td><td>112.666000</td></tr>\n",
       "\t<tr><th scope=row>2</th><td>1/2/2018</td><td>112.769997</td></tr>\n",
       "\t<tr><th scope=row>3</th><td>1/3/2018</td><td>112.244003</td></tr>\n",
       "\t<tr><th scope=row>4</th><td>1/4/2018</td><td>112.607002</td></tr>\n",
       "\t<tr><th scope=row>5</th><td>1/5/2018</td><td>112.782997</td></tr>\n",
       "\t<tr><th scope=row>6</th><td>1/8/2018</td><td>113.153999</td></tr>\n",
       "</tbody>\n",
       "</table>\n"
      ],
      "text/latex": [
       "A data.frame: 6 × 2\n",
       "\\begin{tabular}{r|ll}\n",
       "  & Date & JPY\\_Close\\\\\n",
       "  & <chr> & <dbl>\\\\\n",
       "\\hline\n",
       "\t1 & 1/1/2018 & 112.666000\\\\\n",
       "\t2 & 1/2/2018 & 112.769997\\\\\n",
       "\t3 & 1/3/2018 & 112.244003\\\\\n",
       "\t4 & 1/4/2018 & 112.607002\\\\\n",
       "\t5 & 1/5/2018 & 112.782997\\\\\n",
       "\t6 & 1/8/2018 & 113.153999\\\\\n",
       "\\end{tabular}\n"
      ],
      "text/markdown": [
       "\n",
       "A data.frame: 6 × 2\n",
       "\n",
       "| <!--/--> | Date &lt;chr&gt; | JPY_Close &lt;dbl&gt; |\n",
       "|---|---|---|\n",
       "| 1 | 1/1/2018 | 112.666000 |\n",
       "| 2 | 1/2/2018 | 112.769997 |\n",
       "| 3 | 1/3/2018 | 112.244003 |\n",
       "| 4 | 1/4/2018 | 112.607002 |\n",
       "| 5 | 1/5/2018 | 112.782997 |\n",
       "| 6 | 1/8/2018 | 113.153999 |\n",
       "\n"
      ],
      "text/plain": [
       "  Date     JPY_Close \n",
       "1 1/1/2018 112.666000\n",
       "2 1/2/2018 112.769997\n",
       "3 1/3/2018 112.244003\n",
       "4 1/4/2018 112.607002\n",
       "5 1/5/2018 112.782997\n",
       "6 1/8/2018 113.153999"
      ]
     },
     "metadata": {},
     "output_type": "display_data"
    }
   ],
   "source": [
    "JPY = read.csv('JPY.csv')\n",
    "jpy_close = JPY[, c('Date', 'Close')]\n",
    "#jpy_close$Date = as.Date(jpy_close$Date)\n",
    "nrow(jpy_close)\n",
    "jpy_close = rename(jpy_close, 'JPY_Close' = 'Close')\n",
    "head(jpy_close)"
   ]
  },
  {
   "cell_type": "code",
   "execution_count": 36,
   "id": "5aab4bff-c496-456c-a277-0c8f08bc09b1",
   "metadata": {
    "vscode": {
     "languageId": "r"
    }
   },
   "outputs": [
    {
     "data": {
      "text/html": [
       "<table class=\"dataframe\">\n",
       "<caption>A data.frame: 6 × 25</caption>\n",
       "<thead>\n",
       "\t<tr><th></th><th scope=col>Date</th><th scope=col>IBM_Close</th><th scope=col>IBM_AdjClose</th><th scope=col>MSFT_Close</th><th scope=col>MSFT_AdjClose</th><th scope=col>GOOG_Close</th><th scope=col>GOOG_AdjClose</th><th scope=col>AAPL_Close</th><th scope=col>AAPL_AdjClose</th><th scope=col>AMZN_Close</th><th scope=col>⋯</th><th scope=col>ORCL_Close</th><th scope=col>ORCL_AdjClose</th><th scope=col>SAP_Close</th><th scope=col>SAP_AdjClose</th><th scope=col>TSLA_Close</th><th scope=col>TSLA_AdjClose</th><th scope=col>Remaining</th><th scope=col>MTM</th><th scope=col>HTI</th><th scope=col>JPY_Close</th></tr>\n",
       "\t<tr><th></th><th scope=col>&lt;chr&gt;</th><th scope=col>&lt;dbl&gt;</th><th scope=col>&lt;dbl&gt;</th><th scope=col>&lt;dbl&gt;</th><th scope=col>&lt;dbl&gt;</th><th scope=col>&lt;dbl&gt;</th><th scope=col>&lt;dbl&gt;</th><th scope=col>&lt;dbl&gt;</th><th scope=col>&lt;dbl&gt;</th><th scope=col>&lt;dbl&gt;</th><th scope=col>⋯</th><th scope=col>&lt;dbl&gt;</th><th scope=col>&lt;dbl&gt;</th><th scope=col>&lt;dbl&gt;</th><th scope=col>&lt;dbl&gt;</th><th scope=col>&lt;dbl&gt;</th><th scope=col>&lt;dbl&gt;</th><th scope=col>&lt;dbl&gt;</th><th scope=col>&lt;dbl&gt;</th><th scope=col>&lt;dbl&gt;</th><th scope=col>&lt;dbl&gt;</th></tr>\n",
       "</thead>\n",
       "<tbody>\n",
       "\t<tr><th scope=row>1</th><td>2018-01-02</td><td>147.466537</td><td>111.800133</td><td>85.949997</td><td>80.391838</td><td>53.250000</td><td>53.250000</td><td>43.064999</td><td>40.776535</td><td>59.450500</td><td>⋯</td><td>46.630001</td><td>42.437168</td><td>112.389999</td><td>101.210281</td><td>21.368668</td><td>21.368668</td><td>178.710725</td><td>5000000.00</td><td>95.2060706</td><td>112.769997</td></tr>\n",
       "\t<tr><th scope=row>2</th><td>2018-01-03</td><td>151.520081</td><td>114.873283</td><td>86.349998</td><td>80.765991</td><td>54.124001</td><td>54.124001</td><td>43.057499</td><td>40.769417</td><td>60.209999</td><td>⋯</td><td>47.709999</td><td>43.420052</td><td>113.309998</td><td>102.038773</td><td>21.150000</td><td>21.150000</td><td>178.710725</td><td>5060975.47</td><td>96.7151576</td><td>112.244003</td></tr>\n",
       "\t<tr><th scope=row>3</th><td>2018-01-04</td><td>154.588913</td><td>117.199875</td><td>87.110001</td><td>81.476830</td><td>54.320000</td><td>54.320000</td><td>43.257500</td><td>40.958797</td><td>60.479500</td><td>⋯</td><td>48.180000</td><td>43.847797</td><td>115.050003</td><td>103.605690</td><td>20.974667</td><td>20.974667</td><td>178.710725</td><td>5103484.79</td><td>97.3920591</td><td>112.607002</td></tr>\n",
       "\t<tr><th scope=row>4</th><td>2018-01-05</td><td>155.344162</td><td>117.772476</td><td>88.190002</td><td>82.486992</td><td>55.111500</td><td>55.111500</td><td>43.750000</td><td>41.425133</td><td>61.457001</td><td>⋯</td><td>48.470001</td><td>44.111725</td><td>116.330002</td><td>104.758369</td><td>21.105333</td><td>21.105333</td><td>178.710725</td><td>5163911.86</td><td>98.6598012</td><td>112.782997</td></tr>\n",
       "\t<tr><th scope=row>5</th><td>2018-01-08</td><td>156.281067</td><td>118.482796</td><td>88.279999</td><td>82.571175</td><td>55.347000</td><td>55.347000</td><td>43.587502</td><td>41.271267</td><td>62.343498</td><td>⋯</td><td>48.980000</td><td>44.575859</td><td>114.800003</td><td>103.380562</td><td>22.427334</td><td>22.427334</td><td>178.710725</td><td>5186872.17</td><td>99.2376405</td><td>113.153999</td></tr>\n",
       "\t<tr><th scope=row>6</th><td>2018-01-09</td><td>156.625244</td><td>118.743690</td><td>88.220001</td><td>82.515045</td><td>55.313000</td><td>55.313000</td><td>43.582500</td><td>41.266514</td><td>62.634998</td><td>⋯</td><td>49.060001</td><td>44.822552</td><td>114.160004</td><td>102.804230</td><td>22.246000</td><td>22.246000</td><td>366.284478</td><td>5192835.13</td><td>98.9021741</td><td>113.140999</td></tr>\n",
       "</tbody>\n",
       "</table>\n"
      ],
      "text/latex": [
       "A data.frame: 6 × 25\n",
       "\\begin{tabular}{r|lllllllllllllllllllll}\n",
       "  & Date & IBM\\_Close & IBM\\_AdjClose & MSFT\\_Close & MSFT\\_AdjClose & GOOG\\_Close & GOOG\\_AdjClose & AAPL\\_Close & AAPL\\_AdjClose & AMZN\\_Close & ⋯ & ORCL\\_Close & ORCL\\_AdjClose & SAP\\_Close & SAP\\_AdjClose & TSLA\\_Close & TSLA\\_AdjClose & Remaining & MTM & HTI & JPY\\_Close\\\\\n",
       "  & <chr> & <dbl> & <dbl> & <dbl> & <dbl> & <dbl> & <dbl> & <dbl> & <dbl> & <dbl> & ⋯ & <dbl> & <dbl> & <dbl> & <dbl> & <dbl> & <dbl> & <dbl> & <dbl> & <dbl> & <dbl>\\\\\n",
       "\\hline\n",
       "\t1 & 2018-01-02 & 147.466537 & 111.800133 & 85.949997 & 80.391838 & 53.250000 & 53.250000 & 43.064999 & 40.776535 & 59.450500 & ⋯ & 46.630001 & 42.437168 & 112.389999 & 101.210281 & 21.368668 & 21.368668 & 178.710725 & 5000000.00 & 95.2060706 & 112.769997\\\\\n",
       "\t2 & 2018-01-03 & 151.520081 & 114.873283 & 86.349998 & 80.765991 & 54.124001 & 54.124001 & 43.057499 & 40.769417 & 60.209999 & ⋯ & 47.709999 & 43.420052 & 113.309998 & 102.038773 & 21.150000 & 21.150000 & 178.710725 & 5060975.47 & 96.7151576 & 112.244003\\\\\n",
       "\t3 & 2018-01-04 & 154.588913 & 117.199875 & 87.110001 & 81.476830 & 54.320000 & 54.320000 & 43.257500 & 40.958797 & 60.479500 & ⋯ & 48.180000 & 43.847797 & 115.050003 & 103.605690 & 20.974667 & 20.974667 & 178.710725 & 5103484.79 & 97.3920591 & 112.607002\\\\\n",
       "\t4 & 2018-01-05 & 155.344162 & 117.772476 & 88.190002 & 82.486992 & 55.111500 & 55.111500 & 43.750000 & 41.425133 & 61.457001 & ⋯ & 48.470001 & 44.111725 & 116.330002 & 104.758369 & 21.105333 & 21.105333 & 178.710725 & 5163911.86 & 98.6598012 & 112.782997\\\\\n",
       "\t5 & 2018-01-08 & 156.281067 & 118.482796 & 88.279999 & 82.571175 & 55.347000 & 55.347000 & 43.587502 & 41.271267 & 62.343498 & ⋯ & 48.980000 & 44.575859 & 114.800003 & 103.380562 & 22.427334 & 22.427334 & 178.710725 & 5186872.17 & 99.2376405 & 113.153999\\\\\n",
       "\t6 & 2018-01-09 & 156.625244 & 118.743690 & 88.220001 & 82.515045 & 55.313000 & 55.313000 & 43.582500 & 41.266514 & 62.634998 & ⋯ & 49.060001 & 44.822552 & 114.160004 & 102.804230 & 22.246000 & 22.246000 & 366.284478 & 5192835.13 & 98.9021741 & 113.140999\\\\\n",
       "\\end{tabular}\n"
      ],
      "text/markdown": [
       "\n",
       "A data.frame: 6 × 25\n",
       "\n",
       "| <!--/--> | Date &lt;chr&gt; | IBM_Close &lt;dbl&gt; | IBM_AdjClose &lt;dbl&gt; | MSFT_Close &lt;dbl&gt; | MSFT_AdjClose &lt;dbl&gt; | GOOG_Close &lt;dbl&gt; | GOOG_AdjClose &lt;dbl&gt; | AAPL_Close &lt;dbl&gt; | AAPL_AdjClose &lt;dbl&gt; | AMZN_Close &lt;dbl&gt; | ⋯ ⋯ | ORCL_Close &lt;dbl&gt; | ORCL_AdjClose &lt;dbl&gt; | SAP_Close &lt;dbl&gt; | SAP_AdjClose &lt;dbl&gt; | TSLA_Close &lt;dbl&gt; | TSLA_AdjClose &lt;dbl&gt; | Remaining &lt;dbl&gt; | MTM &lt;dbl&gt; | HTI &lt;dbl&gt; | JPY_Close &lt;dbl&gt; |\n",
       "|---|---|---|---|---|---|---|---|---|---|---|---|---|---|---|---|---|---|---|---|---|---|\n",
       "| 1 | 2018-01-02 | 147.466537 | 111.800133 | 85.949997 | 80.391838 | 53.250000 | 53.250000 | 43.064999 | 40.776535 | 59.450500 | ⋯ | 46.630001 | 42.437168 | 112.389999 | 101.210281 | 21.368668 | 21.368668 | 178.710725 | 5000000.00 | 95.2060706 | 112.769997 |\n",
       "| 2 | 2018-01-03 | 151.520081 | 114.873283 | 86.349998 | 80.765991 | 54.124001 | 54.124001 | 43.057499 | 40.769417 | 60.209999 | ⋯ | 47.709999 | 43.420052 | 113.309998 | 102.038773 | 21.150000 | 21.150000 | 178.710725 | 5060975.47 | 96.7151576 | 112.244003 |\n",
       "| 3 | 2018-01-04 | 154.588913 | 117.199875 | 87.110001 | 81.476830 | 54.320000 | 54.320000 | 43.257500 | 40.958797 | 60.479500 | ⋯ | 48.180000 | 43.847797 | 115.050003 | 103.605690 | 20.974667 | 20.974667 | 178.710725 | 5103484.79 | 97.3920591 | 112.607002 |\n",
       "| 4 | 2018-01-05 | 155.344162 | 117.772476 | 88.190002 | 82.486992 | 55.111500 | 55.111500 | 43.750000 | 41.425133 | 61.457001 | ⋯ | 48.470001 | 44.111725 | 116.330002 | 104.758369 | 21.105333 | 21.105333 | 178.710725 | 5163911.86 | 98.6598012 | 112.782997 |\n",
       "| 5 | 2018-01-08 | 156.281067 | 118.482796 | 88.279999 | 82.571175 | 55.347000 | 55.347000 | 43.587502 | 41.271267 | 62.343498 | ⋯ | 48.980000 | 44.575859 | 114.800003 | 103.380562 | 22.427334 | 22.427334 | 178.710725 | 5186872.17 | 99.2376405 | 113.153999 |\n",
       "| 6 | 2018-01-09 | 156.625244 | 118.743690 | 88.220001 | 82.515045 | 55.313000 | 55.313000 | 43.582500 | 41.266514 | 62.634998 | ⋯ | 49.060001 | 44.822552 | 114.160004 | 102.804230 | 22.246000 | 22.246000 | 366.284478 | 5192835.13 | 98.9021741 | 113.140999 |\n",
       "\n"
      ],
      "text/plain": [
       "  Date       IBM_Close  IBM_AdjClose MSFT_Close MSFT_AdjClose GOOG_Close\n",
       "1 2018-01-02 147.466537 111.800133   85.949997  80.391838     53.250000 \n",
       "2 2018-01-03 151.520081 114.873283   86.349998  80.765991     54.124001 \n",
       "3 2018-01-04 154.588913 117.199875   87.110001  81.476830     54.320000 \n",
       "4 2018-01-05 155.344162 117.772476   88.190002  82.486992     55.111500 \n",
       "5 2018-01-08 156.281067 118.482796   88.279999  82.571175     55.347000 \n",
       "6 2018-01-09 156.625244 118.743690   88.220001  82.515045     55.313000 \n",
       "  GOOG_AdjClose AAPL_Close AAPL_AdjClose AMZN_Close ⋯ ORCL_Close ORCL_AdjClose\n",
       "1 53.250000     43.064999  40.776535     59.450500  ⋯ 46.630001  42.437168    \n",
       "2 54.124001     43.057499  40.769417     60.209999  ⋯ 47.709999  43.420052    \n",
       "3 54.320000     43.257500  40.958797     60.479500  ⋯ 48.180000  43.847797    \n",
       "4 55.111500     43.750000  41.425133     61.457001  ⋯ 48.470001  44.111725    \n",
       "5 55.347000     43.587502  41.271267     62.343498  ⋯ 48.980000  44.575859    \n",
       "6 55.313000     43.582500  41.266514     62.634998  ⋯ 49.060001  44.822552    \n",
       "  SAP_Close  SAP_AdjClose TSLA_Close TSLA_AdjClose Remaining  MTM       \n",
       "1 112.389999 101.210281   21.368668  21.368668     178.710725 5000000.00\n",
       "2 113.309998 102.038773   21.150000  21.150000     178.710725 5060975.47\n",
       "3 115.050003 103.605690   20.974667  20.974667     178.710725 5103484.79\n",
       "4 116.330002 104.758369   21.105333  21.105333     178.710725 5163911.86\n",
       "5 114.800003 103.380562   22.427334  22.427334     178.710725 5186872.17\n",
       "6 114.160004 102.804230   22.246000  22.246000     366.284478 5192835.13\n",
       "  HTI        JPY_Close \n",
       "1 95.2060706 112.769997\n",
       "2 96.7151576 112.244003\n",
       "3 97.3920591 112.607002\n",
       "4 98.6598012 112.782997\n",
       "5 99.2376405 113.153999\n",
       "6 98.9021741 113.140999"
      ]
     },
     "metadata": {},
     "output_type": "display_data"
    }
   ],
   "source": [
    "# Convert the Date column to a common date format (YYYY-MM-DD) in the jpy_close data frame\n",
    "jpy_close$Date <- as.Date(jpy_close$Date, format = \"%m/%d/%Y\")\n",
    "\n",
    "# Merge the data frames after converting the Date column\n",
    "newStocks <- merge(Stocks, jpy_close, by = 'Date')\n",
    "head(newStocks)\n"
   ]
  },
  {
   "cell_type": "code",
   "execution_count": 37,
   "id": "23eb0954-2a1a-41df-8a90-8656118871cc",
   "metadata": {
    "vscode": {
     "languageId": "r"
    }
   },
   "outputs": [
    {
     "data": {
      "text/html": [
       "<table class=\"dataframe\">\n",
       "<caption>A data.frame: 6 × 26</caption>\n",
       "<thead>\n",
       "\t<tr><th></th><th scope=col>Date</th><th scope=col>IBM_Close</th><th scope=col>IBM_AdjClose</th><th scope=col>MSFT_Close</th><th scope=col>MSFT_AdjClose</th><th scope=col>GOOG_Close</th><th scope=col>GOOG_AdjClose</th><th scope=col>AAPL_Close</th><th scope=col>AAPL_AdjClose</th><th scope=col>AMZN_Close</th><th scope=col>⋯</th><th scope=col>ORCL_AdjClose</th><th scope=col>SAP_Close</th><th scope=col>SAP_AdjClose</th><th scope=col>TSLA_Close</th><th scope=col>TSLA_AdjClose</th><th scope=col>Remaining</th><th scope=col>MTM</th><th scope=col>HTI</th><th scope=col>JPY_Close</th><th scope=col>MTM_JPY</th></tr>\n",
       "\t<tr><th></th><th scope=col>&lt;chr&gt;</th><th scope=col>&lt;dbl&gt;</th><th scope=col>&lt;dbl&gt;</th><th scope=col>&lt;dbl&gt;</th><th scope=col>&lt;dbl&gt;</th><th scope=col>&lt;dbl&gt;</th><th scope=col>&lt;dbl&gt;</th><th scope=col>&lt;dbl&gt;</th><th scope=col>&lt;dbl&gt;</th><th scope=col>&lt;dbl&gt;</th><th scope=col>⋯</th><th scope=col>&lt;dbl&gt;</th><th scope=col>&lt;dbl&gt;</th><th scope=col>&lt;dbl&gt;</th><th scope=col>&lt;dbl&gt;</th><th scope=col>&lt;dbl&gt;</th><th scope=col>&lt;dbl&gt;</th><th scope=col>&lt;dbl&gt;</th><th scope=col>&lt;dbl&gt;</th><th scope=col>&lt;dbl&gt;</th><th scope=col>&lt;dbl&gt;</th></tr>\n",
       "</thead>\n",
       "<tbody>\n",
       "\t<tr><th scope=row>1</th><td>2018-01-02</td><td>147.466537</td><td>111.800133</td><td>85.949997</td><td>80.391838</td><td>53.250000</td><td>53.250000</td><td>43.064999</td><td>40.776535</td><td>59.450500</td><td>⋯</td><td>42.437168</td><td>112.389999</td><td>101.210281</td><td>21.368668</td><td>21.368668</td><td>178.710725</td><td>5000000.00</td><td>95.2060706</td><td>112.769997</td><td>563849985</td></tr>\n",
       "\t<tr><th scope=row>2</th><td>2018-01-03</td><td>151.520081</td><td>114.873283</td><td>86.349998</td><td>80.765991</td><td>54.124001</td><td>54.124001</td><td>43.057499</td><td>40.769417</td><td>60.209999</td><td>⋯</td><td>43.420052</td><td>113.309998</td><td>102.038773</td><td>21.150000</td><td>21.150000</td><td>178.710725</td><td>5060975.47</td><td>96.7151576</td><td>112.244003</td><td>568064146</td></tr>\n",
       "\t<tr><th scope=row>3</th><td>2018-01-04</td><td>154.588913</td><td>117.199875</td><td>87.110001</td><td>81.476830</td><td>54.320000</td><td>54.320000</td><td>43.257500</td><td>40.958797</td><td>60.479500</td><td>⋯</td><td>43.847797</td><td>115.050003</td><td>103.605690</td><td>20.974667</td><td>20.974667</td><td>178.710725</td><td>5103484.79</td><td>97.3920591</td><td>112.607002</td><td>574688122</td></tr>\n",
       "\t<tr><th scope=row>4</th><td>2018-01-05</td><td>155.344162</td><td>117.772476</td><td>88.190002</td><td>82.486992</td><td>55.111500</td><td>55.111500</td><td>43.750000</td><td>41.425133</td><td>61.457001</td><td>⋯</td><td>44.111725</td><td>116.330002</td><td>104.758369</td><td>21.105333</td><td>21.105333</td><td>178.710725</td><td>5163911.86</td><td>98.6598012</td><td>112.782997</td><td>582401456</td></tr>\n",
       "\t<tr><th scope=row>5</th><td>2018-01-08</td><td>156.281067</td><td>118.482796</td><td>88.279999</td><td>82.571175</td><td>55.347000</td><td>55.347000</td><td>43.587502</td><td>41.271267</td><td>62.343498</td><td>⋯</td><td>44.575859</td><td>114.800003</td><td>103.380562</td><td>22.427334</td><td>22.427334</td><td>178.710725</td><td>5186872.17</td><td>99.2376405</td><td>113.153999</td><td>586915328</td></tr>\n",
       "\t<tr><th scope=row>6</th><td>2018-01-09</td><td>156.625244</td><td>118.743690</td><td>88.220001</td><td>82.515045</td><td>55.313000</td><td>55.313000</td><td>43.582500</td><td>41.266514</td><td>62.634998</td><td>⋯</td><td>44.822552</td><td>114.160004</td><td>102.804230</td><td>22.246000</td><td>22.246000</td><td>366.284478</td><td>5192835.13</td><td>98.9021741</td><td>113.140999</td><td>587522554</td></tr>\n",
       "</tbody>\n",
       "</table>\n"
      ],
      "text/latex": [
       "A data.frame: 6 × 26\n",
       "\\begin{tabular}{r|lllllllllllllllllllll}\n",
       "  & Date & IBM\\_Close & IBM\\_AdjClose & MSFT\\_Close & MSFT\\_AdjClose & GOOG\\_Close & GOOG\\_AdjClose & AAPL\\_Close & AAPL\\_AdjClose & AMZN\\_Close & ⋯ & ORCL\\_AdjClose & SAP\\_Close & SAP\\_AdjClose & TSLA\\_Close & TSLA\\_AdjClose & Remaining & MTM & HTI & JPY\\_Close & MTM\\_JPY\\\\\n",
       "  & <chr> & <dbl> & <dbl> & <dbl> & <dbl> & <dbl> & <dbl> & <dbl> & <dbl> & <dbl> & ⋯ & <dbl> & <dbl> & <dbl> & <dbl> & <dbl> & <dbl> & <dbl> & <dbl> & <dbl> & <dbl>\\\\\n",
       "\\hline\n",
       "\t1 & 2018-01-02 & 147.466537 & 111.800133 & 85.949997 & 80.391838 & 53.250000 & 53.250000 & 43.064999 & 40.776535 & 59.450500 & ⋯ & 42.437168 & 112.389999 & 101.210281 & 21.368668 & 21.368668 & 178.710725 & 5000000.00 & 95.2060706 & 112.769997 & 563849985\\\\\n",
       "\t2 & 2018-01-03 & 151.520081 & 114.873283 & 86.349998 & 80.765991 & 54.124001 & 54.124001 & 43.057499 & 40.769417 & 60.209999 & ⋯ & 43.420052 & 113.309998 & 102.038773 & 21.150000 & 21.150000 & 178.710725 & 5060975.47 & 96.7151576 & 112.244003 & 568064146\\\\\n",
       "\t3 & 2018-01-04 & 154.588913 & 117.199875 & 87.110001 & 81.476830 & 54.320000 & 54.320000 & 43.257500 & 40.958797 & 60.479500 & ⋯ & 43.847797 & 115.050003 & 103.605690 & 20.974667 & 20.974667 & 178.710725 & 5103484.79 & 97.3920591 & 112.607002 & 574688122\\\\\n",
       "\t4 & 2018-01-05 & 155.344162 & 117.772476 & 88.190002 & 82.486992 & 55.111500 & 55.111500 & 43.750000 & 41.425133 & 61.457001 & ⋯ & 44.111725 & 116.330002 & 104.758369 & 21.105333 & 21.105333 & 178.710725 & 5163911.86 & 98.6598012 & 112.782997 & 582401456\\\\\n",
       "\t5 & 2018-01-08 & 156.281067 & 118.482796 & 88.279999 & 82.571175 & 55.347000 & 55.347000 & 43.587502 & 41.271267 & 62.343498 & ⋯ & 44.575859 & 114.800003 & 103.380562 & 22.427334 & 22.427334 & 178.710725 & 5186872.17 & 99.2376405 & 113.153999 & 586915328\\\\\n",
       "\t6 & 2018-01-09 & 156.625244 & 118.743690 & 88.220001 & 82.515045 & 55.313000 & 55.313000 & 43.582500 & 41.266514 & 62.634998 & ⋯ & 44.822552 & 114.160004 & 102.804230 & 22.246000 & 22.246000 & 366.284478 & 5192835.13 & 98.9021741 & 113.140999 & 587522554\\\\\n",
       "\\end{tabular}\n"
      ],
      "text/markdown": [
       "\n",
       "A data.frame: 6 × 26\n",
       "\n",
       "| <!--/--> | Date &lt;chr&gt; | IBM_Close &lt;dbl&gt; | IBM_AdjClose &lt;dbl&gt; | MSFT_Close &lt;dbl&gt; | MSFT_AdjClose &lt;dbl&gt; | GOOG_Close &lt;dbl&gt; | GOOG_AdjClose &lt;dbl&gt; | AAPL_Close &lt;dbl&gt; | AAPL_AdjClose &lt;dbl&gt; | AMZN_Close &lt;dbl&gt; | ⋯ ⋯ | ORCL_AdjClose &lt;dbl&gt; | SAP_Close &lt;dbl&gt; | SAP_AdjClose &lt;dbl&gt; | TSLA_Close &lt;dbl&gt; | TSLA_AdjClose &lt;dbl&gt; | Remaining &lt;dbl&gt; | MTM &lt;dbl&gt; | HTI &lt;dbl&gt; | JPY_Close &lt;dbl&gt; | MTM_JPY &lt;dbl&gt; |\n",
       "|---|---|---|---|---|---|---|---|---|---|---|---|---|---|---|---|---|---|---|---|---|---|\n",
       "| 1 | 2018-01-02 | 147.466537 | 111.800133 | 85.949997 | 80.391838 | 53.250000 | 53.250000 | 43.064999 | 40.776535 | 59.450500 | ⋯ | 42.437168 | 112.389999 | 101.210281 | 21.368668 | 21.368668 | 178.710725 | 5000000.00 | 95.2060706 | 112.769997 | 563849985 |\n",
       "| 2 | 2018-01-03 | 151.520081 | 114.873283 | 86.349998 | 80.765991 | 54.124001 | 54.124001 | 43.057499 | 40.769417 | 60.209999 | ⋯ | 43.420052 | 113.309998 | 102.038773 | 21.150000 | 21.150000 | 178.710725 | 5060975.47 | 96.7151576 | 112.244003 | 568064146 |\n",
       "| 3 | 2018-01-04 | 154.588913 | 117.199875 | 87.110001 | 81.476830 | 54.320000 | 54.320000 | 43.257500 | 40.958797 | 60.479500 | ⋯ | 43.847797 | 115.050003 | 103.605690 | 20.974667 | 20.974667 | 178.710725 | 5103484.79 | 97.3920591 | 112.607002 | 574688122 |\n",
       "| 4 | 2018-01-05 | 155.344162 | 117.772476 | 88.190002 | 82.486992 | 55.111500 | 55.111500 | 43.750000 | 41.425133 | 61.457001 | ⋯ | 44.111725 | 116.330002 | 104.758369 | 21.105333 | 21.105333 | 178.710725 | 5163911.86 | 98.6598012 | 112.782997 | 582401456 |\n",
       "| 5 | 2018-01-08 | 156.281067 | 118.482796 | 88.279999 | 82.571175 | 55.347000 | 55.347000 | 43.587502 | 41.271267 | 62.343498 | ⋯ | 44.575859 | 114.800003 | 103.380562 | 22.427334 | 22.427334 | 178.710725 | 5186872.17 | 99.2376405 | 113.153999 | 586915328 |\n",
       "| 6 | 2018-01-09 | 156.625244 | 118.743690 | 88.220001 | 82.515045 | 55.313000 | 55.313000 | 43.582500 | 41.266514 | 62.634998 | ⋯ | 44.822552 | 114.160004 | 102.804230 | 22.246000 | 22.246000 | 366.284478 | 5192835.13 | 98.9021741 | 113.140999 | 587522554 |\n",
       "\n"
      ],
      "text/plain": [
       "  Date       IBM_Close  IBM_AdjClose MSFT_Close MSFT_AdjClose GOOG_Close\n",
       "1 2018-01-02 147.466537 111.800133   85.949997  80.391838     53.250000 \n",
       "2 2018-01-03 151.520081 114.873283   86.349998  80.765991     54.124001 \n",
       "3 2018-01-04 154.588913 117.199875   87.110001  81.476830     54.320000 \n",
       "4 2018-01-05 155.344162 117.772476   88.190002  82.486992     55.111500 \n",
       "5 2018-01-08 156.281067 118.482796   88.279999  82.571175     55.347000 \n",
       "6 2018-01-09 156.625244 118.743690   88.220001  82.515045     55.313000 \n",
       "  GOOG_AdjClose AAPL_Close AAPL_AdjClose AMZN_Close ⋯ ORCL_AdjClose SAP_Close \n",
       "1 53.250000     43.064999  40.776535     59.450500  ⋯ 42.437168     112.389999\n",
       "2 54.124001     43.057499  40.769417     60.209999  ⋯ 43.420052     113.309998\n",
       "3 54.320000     43.257500  40.958797     60.479500  ⋯ 43.847797     115.050003\n",
       "4 55.111500     43.750000  41.425133     61.457001  ⋯ 44.111725     116.330002\n",
       "5 55.347000     43.587502  41.271267     62.343498  ⋯ 44.575859     114.800003\n",
       "6 55.313000     43.582500  41.266514     62.634998  ⋯ 44.822552     114.160004\n",
       "  SAP_AdjClose TSLA_Close TSLA_AdjClose Remaining  MTM        HTI       \n",
       "1 101.210281   21.368668  21.368668     178.710725 5000000.00 95.2060706\n",
       "2 102.038773   21.150000  21.150000     178.710725 5060975.47 96.7151576\n",
       "3 103.605690   20.974667  20.974667     178.710725 5103484.79 97.3920591\n",
       "4 104.758369   21.105333  21.105333     178.710725 5163911.86 98.6598012\n",
       "5 103.380562   22.427334  22.427334     178.710725 5186872.17 99.2376405\n",
       "6 102.804230   22.246000  22.246000     366.284478 5192835.13 98.9021741\n",
       "  JPY_Close  MTM_JPY  \n",
       "1 112.769997 563849985\n",
       "2 112.244003 568064146\n",
       "3 112.607002 574688122\n",
       "4 112.782997 582401456\n",
       "5 113.153999 586915328\n",
       "6 113.140999 587522554"
      ]
     },
     "metadata": {},
     "output_type": "display_data"
    }
   ],
   "source": [
    "newStocks$MTM_JPY = newStocks$MTM * newStocks$JPY_Close\n",
    "head(newStocks)"
   ]
  },
  {
   "cell_type": "code",
   "execution_count": 38,
   "id": "05f5bf05-21b5-4463-bd1f-496db86831d3",
   "metadata": {
    "vscode": {
     "languageId": "r"
    }
   },
   "outputs": [
    {
     "name": "stderr",
     "output_type": "stream",
     "text": [
      "Warning message:\n",
      "\"\u001b[1m\u001b[22mRemoved 446 rows containing missing values (`geom_line()`).\"\n"
     ]
    },
    {
     "data": {
      "image/png": "[encoded data removed]",
      "text/plain": [
       "plot without title"
      ]
     },
     "metadata": {
      "image/png": {
       "height": 420,
       "width": 420
      }
     },
     "output_type": "display_data"
    }
   ],
   "source": [
    "data.frame(Date=newStocks$Date, \n",
    "#          HTIchange= transmute(Stocks, HTIchange=((HTI-lag(HTI))/lag(HTI))*100), \n",
    "        MTMchange = transmute(newStocks, MTMchange=((MTM-lag(MTM))/lag(MTM))*100),\n",
    "        MTMchange_JPY = transmute(newStocks, MTMchange_JPY=((MTM_JPY-lag(MTM_JPY))/lag(MTM_JPY))*100))%>%\n",
    "reshape2::melt(id.vars=\"Date\") %>%\n",
    "ggplot(aes(x=as.Date(Date,\"%Y-%m-%d\") , y=value, group=variable, color=variable)) + geom_line(size=1) +\n",
    " scale_x_date(limit=c(as.Date(\"2018-01-01\"),as.Date(\"2018-02-11\")))"
   ]
  },
  {
   "cell_type": "markdown",
   "id": "83e32f31-8121-4b7e-8511-63f861b21b17",
   "metadata": {},
   "source": [
    "## 9.\n",
    "The above two strategies both rebalance every 5 days. Try to change the days interval and find the optimal days interval that\n",
    "maximizes the MTM on 12/31/2018."
   ]
  },
  {
   "cell_type": "code",
   "execution_count": 77,
   "id": "13f3242e-13d3-4e6c-b1a6-ff1de054760e",
   "metadata": {
    "vscode": {
     "languageId": "r"
    }
   },
   "outputs": [
    {
     "data": {
      "text/html": [
       "<table class=\"dataframe\">\n",
       "<caption>A data.frame: 6 × 24</caption>\n",
       "<thead>\n",
       "\t<tr><th></th><th scope=col>Date</th><th scope=col>IBM_Close</th><th scope=col>IBM_AdjClose</th><th scope=col>MSFT_Close</th><th scope=col>MSFT_AdjClose</th><th scope=col>GOOG_Close</th><th scope=col>GOOG_AdjClose</th><th scope=col>AAPL_Close</th><th scope=col>AAPL_AdjClose</th><th scope=col>AMZN_Close</th><th scope=col>⋯</th><th scope=col>NFLX_AdjClose</th><th scope=col>ORCL_Close</th><th scope=col>ORCL_AdjClose</th><th scope=col>SAP_Close</th><th scope=col>SAP_AdjClose</th><th scope=col>TSLA_Close</th><th scope=col>TSLA_AdjClose</th><th scope=col>Remaining</th><th scope=col>MTM</th><th scope=col>HTI</th></tr>\n",
       "\t<tr><th></th><th scope=col>&lt;date&gt;</th><th scope=col>&lt;dbl&gt;</th><th scope=col>&lt;dbl&gt;</th><th scope=col>&lt;dbl&gt;</th><th scope=col>&lt;dbl&gt;</th><th scope=col>&lt;dbl&gt;</th><th scope=col>&lt;dbl&gt;</th><th scope=col>&lt;dbl&gt;</th><th scope=col>&lt;dbl&gt;</th><th scope=col>&lt;dbl&gt;</th><th scope=col>⋯</th><th scope=col>&lt;dbl&gt;</th><th scope=col>&lt;dbl&gt;</th><th scope=col>&lt;dbl&gt;</th><th scope=col>&lt;dbl&gt;</th><th scope=col>&lt;dbl&gt;</th><th scope=col>&lt;dbl&gt;</th><th scope=col>&lt;dbl&gt;</th><th scope=col>&lt;dbl&gt;</th><th scope=col>&lt;dbl&gt;</th><th scope=col>&lt;dbl&gt;</th></tr>\n",
       "</thead>\n",
       "<tbody>\n",
       "\t<tr><th scope=row>1</th><td>2018-01-02</td><td>147.466537</td><td>111.800133</td><td>85.949997</td><td>80.391838</td><td>53.250000</td><td>53.250000</td><td>43.064999</td><td>40.776535</td><td>59.450500</td><td>⋯</td><td>201.070007</td><td>46.630001</td><td>42.437168</td><td>112.389999</td><td>101.210281</td><td>21.368668</td><td>21.368668</td><td>3214509.59</td><td>5000000.00</td><td> 95.2060706</td></tr>\n",
       "\t<tr><th scope=row>9</th><td>2018-01-12</td><td>155.965576</td><td>118.243614</td><td>89.599998</td><td>83.805809</td><td>56.112999</td><td>56.112999</td><td>44.272499</td><td>41.919865</td><td>65.260002</td><td>⋯</td><td>221.229996</td><td>49.509998</td><td>45.233673</td><td>110.129997</td><td> 99.175095</td><td>22.414667</td><td>22.414667</td><td>3214509.59</td><td>1885343.09</td><td> 99.3865727</td></tr>\n",
       "\t<tr><th scope=row>17</th><td>2018-01-25</td><td>158.193115</td><td>119.932373</td><td>92.330002</td><td>86.359268</td><td>58.518501</td><td>58.518501</td><td>42.777500</td><td>40.504311</td><td>68.897499</td><td>⋯</td><td>269.700012</td><td>51.599998</td><td>47.143158</td><td>112.839996</td><td>101.615517</td><td>22.509333</td><td>22.509333</td><td>3310821.97</td><td>1859358.17</td><td>106.4845952</td></tr>\n",
       "\t<tr><th scope=row>25</th><td>2018-02-06</td><td>148.508606</td><td>112.590179</td><td>91.330002</td><td>85.423943</td><td>54.029999</td><td>54.029999</td><td>40.757500</td><td>38.591644</td><td>72.141998</td><td>⋯</td><td>265.720001</td><td>49.400002</td><td>45.133179</td><td>108.360001</td><td> 97.581169</td><td>22.264668</td><td>22.264668</td><td>3310821.97</td><td>1823154.09</td><td>103.7822775</td></tr>\n",
       "\t<tr><th scope=row>33</th><td>2018-02-16</td><td>149.311661</td><td>114.313538</td><td>92.000000</td><td>86.454826</td><td>54.740002</td><td>54.740002</td><td>43.107498</td><td>40.983181</td><td>72.434502</td><td>⋯</td><td>278.519989</td><td>50.709999</td><td>46.330025</td><td>104.900002</td><td> 94.465340</td><td>22.365999</td><td>22.365999</td><td>3259788.10</td><td>1897997.50</td><td>104.5449653</td></tr>\n",
       "\t<tr><th scope=row>41</th><td>2018-03-01</td><td>147.045883</td><td>112.578835</td><td>92.849998</td><td>87.253593</td><td>53.476002</td><td>53.476002</td><td>43.750000</td><td>41.594028</td><td>74.672501</td><td>⋯</td><td>290.390015</td><td>49.709999</td><td>45.416393</td><td>102.000000</td><td> 91.853806</td><td>22.062000</td><td>22.062000</td><td>3259788.10</td><td>1916608.25</td><td>105.1896400</td></tr>\n",
       "</tbody>\n",
       "</table>\n"
      ],
      "text/latex": [
       "A data.frame: 6 × 24\n",
       "\\begin{tabular}{r|lllllllllllllllllllll}\n",
       "  & Date & IBM\\_Close & IBM\\_AdjClose & MSFT\\_Close & MSFT\\_AdjClose & GOOG\\_Close & GOOG\\_AdjClose & AAPL\\_Close & AAPL\\_AdjClose & AMZN\\_Close & ⋯ & NFLX\\_AdjClose & ORCL\\_Close & ORCL\\_AdjClose & SAP\\_Close & SAP\\_AdjClose & TSLA\\_Close & TSLA\\_AdjClose & Remaining & MTM & HTI\\\\\n",
       "  & <date> & <dbl> & <dbl> & <dbl> & <dbl> & <dbl> & <dbl> & <dbl> & <dbl> & <dbl> & ⋯ & <dbl> & <dbl> & <dbl> & <dbl> & <dbl> & <dbl> & <dbl> & <dbl> & <dbl> & <dbl>\\\\\n",
       "\\hline\n",
       "\t1 & 2018-01-02 & 147.466537 & 111.800133 & 85.949997 & 80.391838 & 53.250000 & 53.250000 & 43.064999 & 40.776535 & 59.450500 & ⋯ & 201.070007 & 46.630001 & 42.437168 & 112.389999 & 101.210281 & 21.368668 & 21.368668 & 3214509.59 & 5000000.00 &  95.2060706\\\\\n",
       "\t9 & 2018-01-12 & 155.965576 & 118.243614 & 89.599998 & 83.805809 & 56.112999 & 56.112999 & 44.272499 & 41.919865 & 65.260002 & ⋯ & 221.229996 & 49.509998 & 45.233673 & 110.129997 &  99.175095 & 22.414667 & 22.414667 & 3214509.59 & 1885343.09 &  99.3865727\\\\\n",
       "\t17 & 2018-01-25 & 158.193115 & 119.932373 & 92.330002 & 86.359268 & 58.518501 & 58.518501 & 42.777500 & 40.504311 & 68.897499 & ⋯ & 269.700012 & 51.599998 & 47.143158 & 112.839996 & 101.615517 & 22.509333 & 22.509333 & 3310821.97 & 1859358.17 & 106.4845952\\\\\n",
       "\t25 & 2018-02-06 & 148.508606 & 112.590179 & 91.330002 & 85.423943 & 54.029999 & 54.029999 & 40.757500 & 38.591644 & 72.141998 & ⋯ & 265.720001 & 49.400002 & 45.133179 & 108.360001 &  97.581169 & 22.264668 & 22.264668 & 3310821.97 & 1823154.09 & 103.7822775\\\\\n",
       "\t33 & 2018-02-16 & 149.311661 & 114.313538 & 92.000000 & 86.454826 & 54.740002 & 54.740002 & 43.107498 & 40.983181 & 72.434502 & ⋯ & 278.519989 & 50.709999 & 46.330025 & 104.900002 &  94.465340 & 22.365999 & 22.365999 & 3259788.10 & 1897997.50 & 104.5449653\\\\\n",
       "\t41 & 2018-03-01 & 147.045883 & 112.578835 & 92.849998 & 87.253593 & 53.476002 & 53.476002 & 43.750000 & 41.594028 & 74.672501 & ⋯ & 290.390015 & 49.709999 & 45.416393 & 102.000000 &  91.853806 & 22.062000 & 22.062000 & 3259788.10 & 1916608.25 & 105.1896400\\\\\n",
       "\\end{tabular}\n"
      ],
      "text/markdown": [
       "\n",
       "A data.frame: 6 × 24\n",
       "\n",
       "| <!--/--> | Date &lt;date&gt; | IBM_Close &lt;dbl&gt; | IBM_AdjClose &lt;dbl&gt; | MSFT_Close &lt;dbl&gt; | MSFT_AdjClose &lt;dbl&gt; | GOOG_Close &lt;dbl&gt; | GOOG_AdjClose &lt;dbl&gt; | AAPL_Close &lt;dbl&gt; | AAPL_AdjClose &lt;dbl&gt; | AMZN_Close &lt;dbl&gt; | ⋯ ⋯ | NFLX_AdjClose &lt;dbl&gt; | ORCL_Close &lt;dbl&gt; | ORCL_AdjClose &lt;dbl&gt; | SAP_Close &lt;dbl&gt; | SAP_AdjClose &lt;dbl&gt; | TSLA_Close &lt;dbl&gt; | TSLA_AdjClose &lt;dbl&gt; | Remaining &lt;dbl&gt; | MTM &lt;dbl&gt; | HTI &lt;dbl&gt; |\n",
       "|---|---|---|---|---|---|---|---|---|---|---|---|---|---|---|---|---|---|---|---|---|---|\n",
       "| 1 | 2018-01-02 | 147.466537 | 111.800133 | 85.949997 | 80.391838 | 53.250000 | 53.250000 | 43.064999 | 40.776535 | 59.450500 | ⋯ | 201.070007 | 46.630001 | 42.437168 | 112.389999 | 101.210281 | 21.368668 | 21.368668 | 3214509.59 | 5000000.00 |  95.2060706 |\n",
       "| 9 | 2018-01-12 | 155.965576 | 118.243614 | 89.599998 | 83.805809 | 56.112999 | 56.112999 | 44.272499 | 41.919865 | 65.260002 | ⋯ | 221.229996 | 49.509998 | 45.233673 | 110.129997 |  99.175095 | 22.414667 | 22.414667 | 3214509.59 | 1885343.09 |  99.3865727 |\n",
       "| 17 | 2018-01-25 | 158.193115 | 119.932373 | 92.330002 | 86.359268 | 58.518501 | 58.518501 | 42.777500 | 40.504311 | 68.897499 | ⋯ | 269.700012 | 51.599998 | 47.143158 | 112.839996 | 101.615517 | 22.509333 | 22.509333 | 3310821.97 | 1859358.17 | 106.4845952 |\n",
       "| 25 | 2018-02-06 | 148.508606 | 112.590179 | 91.330002 | 85.423943 | 54.029999 | 54.029999 | 40.757500 | 38.591644 | 72.141998 | ⋯ | 265.720001 | 49.400002 | 45.133179 | 108.360001 |  97.581169 | 22.264668 | 22.264668 | 3310821.97 | 1823154.09 | 103.7822775 |\n",
       "| 33 | 2018-02-16 | 149.311661 | 114.313538 | 92.000000 | 86.454826 | 54.740002 | 54.740002 | 43.107498 | 40.983181 | 72.434502 | ⋯ | 278.519989 | 50.709999 | 46.330025 | 104.900002 |  94.465340 | 22.365999 | 22.365999 | 3259788.10 | 1897997.50 | 104.5449653 |\n",
       "| 41 | 2018-03-01 | 147.045883 | 112.578835 | 92.849998 | 87.253593 | 53.476002 | 53.476002 | 43.750000 | 41.594028 | 74.672501 | ⋯ | 290.390015 | 49.709999 | 45.416393 | 102.000000 |  91.853806 | 22.062000 | 22.062000 | 3259788.10 | 1916608.25 | 105.1896400 |\n",
       "\n"
      ],
      "text/plain": [
       "   Date       IBM_Close  IBM_AdjClose MSFT_Close MSFT_AdjClose GOOG_Close\n",
       "1  2018-01-02 147.466537 111.800133   85.949997  80.391838     53.250000 \n",
       "9  2018-01-12 155.965576 118.243614   89.599998  83.805809     56.112999 \n",
       "17 2018-01-25 158.193115 119.932373   92.330002  86.359268     58.518501 \n",
       "25 2018-02-06 148.508606 112.590179   91.330002  85.423943     54.029999 \n",
       "33 2018-02-16 149.311661 114.313538   92.000000  86.454826     54.740002 \n",
       "41 2018-03-01 147.045883 112.578835   92.849998  87.253593     53.476002 \n",
       "   GOOG_AdjClose AAPL_Close AAPL_AdjClose AMZN_Close ⋯ NFLX_AdjClose ORCL_Close\n",
       "1  53.250000     43.064999  40.776535     59.450500  ⋯ 201.070007    46.630001 \n",
       "9  56.112999     44.272499  41.919865     65.260002  ⋯ 221.229996    49.509998 \n",
       "17 58.518501     42.777500  40.504311     68.897499  ⋯ 269.700012    51.599998 \n",
       "25 54.029999     40.757500  38.591644     72.141998  ⋯ 265.720001    49.400002 \n",
       "33 54.740002     43.107498  40.983181     72.434502  ⋯ 278.519989    50.709999 \n",
       "41 53.476002     43.750000  41.594028     74.672501  ⋯ 290.390015    49.709999 \n",
       "   ORCL_AdjClose SAP_Close  SAP_AdjClose TSLA_Close TSLA_AdjClose Remaining \n",
       "1  42.437168     112.389999 101.210281   21.368668  21.368668     3214509.59\n",
       "9  45.233673     110.129997  99.175095   22.414667  22.414667     3214509.59\n",
       "17 47.143158     112.839996 101.615517   22.509333  22.509333     3310821.97\n",
       "25 45.133179     108.360001  97.581169   22.264668  22.264668     3310821.97\n",
       "33 46.330025     104.900002  94.465340   22.365999  22.365999     3259788.10\n",
       "41 45.416393     102.000000  91.853806   22.062000  22.062000     3259788.10\n",
       "   MTM        HTI        \n",
       "1  5000000.00  95.2060706\n",
       "9  1885343.09  99.3865727\n",
       "17 1859358.17 106.4845952\n",
       "25 1823154.09 103.7822775\n",
       "33 1897997.50 104.5449653\n",
       "41 1916608.25 105.1896400"
      ]
     },
     "metadata": {},
     "output_type": "display_data"
    },
    {
     "data": {
      "text/html": [
       "<table class=\"dataframe\">\n",
       "<caption>A data.frame: 6 × 24</caption>\n",
       "<thead>\n",
       "\t<tr><th></th><th scope=col>Date</th><th scope=col>IBM_Close</th><th scope=col>IBM_AdjClose</th><th scope=col>MSFT_Close</th><th scope=col>MSFT_AdjClose</th><th scope=col>GOOG_Close</th><th scope=col>GOOG_AdjClose</th><th scope=col>AAPL_Close</th><th scope=col>AAPL_AdjClose</th><th scope=col>AMZN_Close</th><th scope=col>⋯</th><th scope=col>NFLX_AdjClose</th><th scope=col>ORCL_Close</th><th scope=col>ORCL_AdjClose</th><th scope=col>SAP_Close</th><th scope=col>SAP_AdjClose</th><th scope=col>TSLA_Close</th><th scope=col>TSLA_AdjClose</th><th scope=col>Remaining</th><th scope=col>MTM</th><th scope=col>HTI</th></tr>\n",
       "\t<tr><th></th><th scope=col>&lt;date&gt;</th><th scope=col>&lt;dbl&gt;</th><th scope=col>&lt;dbl&gt;</th><th scope=col>&lt;dbl&gt;</th><th scope=col>&lt;dbl&gt;</th><th scope=col>&lt;dbl&gt;</th><th scope=col>&lt;dbl&gt;</th><th scope=col>&lt;dbl&gt;</th><th scope=col>&lt;dbl&gt;</th><th scope=col>&lt;dbl&gt;</th><th scope=col>⋯</th><th scope=col>&lt;dbl&gt;</th><th scope=col>&lt;dbl&gt;</th><th scope=col>&lt;dbl&gt;</th><th scope=col>&lt;dbl&gt;</th><th scope=col>&lt;dbl&gt;</th><th scope=col>&lt;dbl&gt;</th><th scope=col>&lt;dbl&gt;</th><th scope=col>&lt;dbl&gt;</th><th scope=col>&lt;dbl&gt;</th><th scope=col>&lt;dbl&gt;</th></tr>\n",
       "</thead>\n",
       "<tbody>\n",
       "\t<tr><th scope=row>1</th><td>2018-01-02</td><td>147.466537</td><td>111.800133</td><td>85.949997</td><td>80.391838</td><td>53.250000</td><td>53.250000</td><td>43.064999</td><td>40.776535</td><td>59.450500</td><td>⋯</td><td>201.070007</td><td>46.630001</td><td>42.437168</td><td>112.389999</td><td>101.210281</td><td>21.368668</td><td>21.368668</td><td>3214509.59</td><td>5000000.00</td><td> 95.2060706</td></tr>\n",
       "\t<tr><th scope=row>11</th><td>2018-01-17</td><td>161.233276</td><td>122.237236</td><td>90.139999</td><td>84.310898</td><td>56.598999</td><td>56.598999</td><td>44.775002</td><td>42.395668</td><td>64.750000</td><td>⋯</td><td>217.500000</td><td>50.270000</td><td>45.928032</td><td>111.190002</td><td>100.129654</td><td>23.143999</td><td>23.143999</td><td>3214509.59</td><td>1904702.69</td><td> 99.7201283</td></tr>\n",
       "\t<tr><th scope=row>21</th><td>2018-01-31</td><td>156.500961</td><td>118.649475</td><td>95.010002</td><td>88.865974</td><td>58.497002</td><td>58.497002</td><td>41.857498</td><td>39.633194</td><td>72.544502</td><td>⋯</td><td>270.299988</td><td>51.590000</td><td>47.134022</td><td>113.250000</td><td>101.984749</td><td>23.620667</td><td>23.620667</td><td>3310821.97</td><td>1897102.76</td><td>107.0060619</td></tr>\n",
       "\t<tr><th scope=row>31</th><td>2018-02-14</td><td>147.954117</td><td>113.274200</td><td>90.809998</td><td>85.336548</td><td>53.485001</td><td>53.485001</td><td>41.842499</td><td>39.780521</td><td>72.552498</td><td>⋯</td><td>266.000000</td><td>49.450001</td><td>45.178856</td><td>105.129997</td><td> 94.672455</td><td>21.487333</td><td>21.487333</td><td>3259788.10</td><td>1863340.48</td><td>102.8231448</td></tr>\n",
       "\t<tr><th scope=row>41</th><td>2018-03-01</td><td>147.045883</td><td>112.578835</td><td>92.849998</td><td>87.253593</td><td>53.476002</td><td>53.476002</td><td>43.750000</td><td>41.594028</td><td>74.672501</td><td>⋯</td><td>290.390015</td><td>49.709999</td><td>45.416393</td><td>102.000000</td><td> 91.853806</td><td>22.062000</td><td>22.062000</td><td>3259788.10</td><td>1916608.25</td><td>105.1896400</td></tr>\n",
       "\t<tr><th scope=row>51</th><td>2018-03-15</td><td>152.590820</td><td>116.824051</td><td>94.180000</td><td>88.503433</td><td>57.479000</td><td>57.479000</td><td>44.662498</td><td>42.461544</td><td>79.115997</td><td>⋯</td><td>321.089996</td><td>52.369999</td><td>47.846653</td><td>108.489998</td><td> 97.698219</td><td>21.706667</td><td>21.706667</td><td>3369723.56</td><td>1894681.70</td><td>111.5544976</td></tr>\n",
       "</tbody>\n",
       "</table>\n"
      ],
      "text/latex": [
       "A data.frame: 6 × 24\n",
       "\\begin{tabular}{r|lllllllllllllllllllll}\n",
       "  & Date & IBM\\_Close & IBM\\_AdjClose & MSFT\\_Close & MSFT\\_AdjClose & GOOG\\_Close & GOOG\\_AdjClose & AAPL\\_Close & AAPL\\_AdjClose & AMZN\\_Close & ⋯ & NFLX\\_AdjClose & ORCL\\_Close & ORCL\\_AdjClose & SAP\\_Close & SAP\\_AdjClose & TSLA\\_Close & TSLA\\_AdjClose & Remaining & MTM & HTI\\\\\n",
       "  & <date> & <dbl> & <dbl> & <dbl> & <dbl> & <dbl> & <dbl> & <dbl> & <dbl> & <dbl> & ⋯ & <dbl> & <dbl> & <dbl> & <dbl> & <dbl> & <dbl> & <dbl> & <dbl> & <dbl> & <dbl>\\\\\n",
       "\\hline\n",
       "\t1 & 2018-01-02 & 147.466537 & 111.800133 & 85.949997 & 80.391838 & 53.250000 & 53.250000 & 43.064999 & 40.776535 & 59.450500 & ⋯ & 201.070007 & 46.630001 & 42.437168 & 112.389999 & 101.210281 & 21.368668 & 21.368668 & 3214509.59 & 5000000.00 &  95.2060706\\\\\n",
       "\t11 & 2018-01-17 & 161.233276 & 122.237236 & 90.139999 & 84.310898 & 56.598999 & 56.598999 & 44.775002 & 42.395668 & 64.750000 & ⋯ & 217.500000 & 50.270000 & 45.928032 & 111.190002 & 100.129654 & 23.143999 & 23.143999 & 3214509.59 & 1904702.69 &  99.7201283\\\\\n",
       "\t21 & 2018-01-31 & 156.500961 & 118.649475 & 95.010002 & 88.865974 & 58.497002 & 58.497002 & 41.857498 & 39.633194 & 72.544502 & ⋯ & 270.299988 & 51.590000 & 47.134022 & 113.250000 & 101.984749 & 23.620667 & 23.620667 & 3310821.97 & 1897102.76 & 107.0060619\\\\\n",
       "\t31 & 2018-02-14 & 147.954117 & 113.274200 & 90.809998 & 85.336548 & 53.485001 & 53.485001 & 41.842499 & 39.780521 & 72.552498 & ⋯ & 266.000000 & 49.450001 & 45.178856 & 105.129997 &  94.672455 & 21.487333 & 21.487333 & 3259788.10 & 1863340.48 & 102.8231448\\\\\n",
       "\t41 & 2018-03-01 & 147.045883 & 112.578835 & 92.849998 & 87.253593 & 53.476002 & 53.476002 & 43.750000 & 41.594028 & 74.672501 & ⋯ & 290.390015 & 49.709999 & 45.416393 & 102.000000 &  91.853806 & 22.062000 & 22.062000 & 3259788.10 & 1916608.25 & 105.1896400\\\\\n",
       "\t51 & 2018-03-15 & 152.590820 & 116.824051 & 94.180000 & 88.503433 & 57.479000 & 57.479000 & 44.662498 & 42.461544 & 79.115997 & ⋯ & 321.089996 & 52.369999 & 47.846653 & 108.489998 &  97.698219 & 21.706667 & 21.706667 & 3369723.56 & 1894681.70 & 111.5544976\\\\\n",
       "\\end{tabular}\n"
      ],
      "text/markdown": [
       "\n",
       "A data.frame: 6 × 24\n",
       "\n",
       "| <!--/--> | Date &lt;date&gt; | IBM_Close &lt;dbl&gt; | IBM_AdjClose &lt;dbl&gt; | MSFT_Close &lt;dbl&gt; | MSFT_AdjClose &lt;dbl&gt; | GOOG_Close &lt;dbl&gt; | GOOG_AdjClose &lt;dbl&gt; | AAPL_Close &lt;dbl&gt; | AAPL_AdjClose &lt;dbl&gt; | AMZN_Close &lt;dbl&gt; | ⋯ ⋯ | NFLX_AdjClose &lt;dbl&gt; | ORCL_Close &lt;dbl&gt; | ORCL_AdjClose &lt;dbl&gt; | SAP_Close &lt;dbl&gt; | SAP_AdjClose &lt;dbl&gt; | TSLA_Close &lt;dbl&gt; | TSLA_AdjClose &lt;dbl&gt; | Remaining &lt;dbl&gt; | MTM &lt;dbl&gt; | HTI &lt;dbl&gt; |\n",
       "|---|---|---|---|---|---|---|---|---|---|---|---|---|---|---|---|---|---|---|---|---|---|\n",
       "| 1 | 2018-01-02 | 147.466537 | 111.800133 | 85.949997 | 80.391838 | 53.250000 | 53.250000 | 43.064999 | 40.776535 | 59.450500 | ⋯ | 201.070007 | 46.630001 | 42.437168 | 112.389999 | 101.210281 | 21.368668 | 21.368668 | 3214509.59 | 5000000.00 |  95.2060706 |\n",
       "| 11 | 2018-01-17 | 161.233276 | 122.237236 | 90.139999 | 84.310898 | 56.598999 | 56.598999 | 44.775002 | 42.395668 | 64.750000 | ⋯ | 217.500000 | 50.270000 | 45.928032 | 111.190002 | 100.129654 | 23.143999 | 23.143999 | 3214509.59 | 1904702.69 |  99.7201283 |\n",
       "| 21 | 2018-01-31 | 156.500961 | 118.649475 | 95.010002 | 88.865974 | 58.497002 | 58.497002 | 41.857498 | 39.633194 | 72.544502 | ⋯ | 270.299988 | 51.590000 | 47.134022 | 113.250000 | 101.984749 | 23.620667 | 23.620667 | 3310821.97 | 1897102.76 | 107.0060619 |\n",
       "| 31 | 2018-02-14 | 147.954117 | 113.274200 | 90.809998 | 85.336548 | 53.485001 | 53.485001 | 41.842499 | 39.780521 | 72.552498 | ⋯ | 266.000000 | 49.450001 | 45.178856 | 105.129997 |  94.672455 | 21.487333 | 21.487333 | 3259788.10 | 1863340.48 | 102.8231448 |\n",
       "| 41 | 2018-03-01 | 147.045883 | 112.578835 | 92.849998 | 87.253593 | 53.476002 | 53.476002 | 43.750000 | 41.594028 | 74.672501 | ⋯ | 290.390015 | 49.709999 | 45.416393 | 102.000000 |  91.853806 | 22.062000 | 22.062000 | 3259788.10 | 1916608.25 | 105.1896400 |\n",
       "| 51 | 2018-03-15 | 152.590820 | 116.824051 | 94.180000 | 88.503433 | 57.479000 | 57.479000 | 44.662498 | 42.461544 | 79.115997 | ⋯ | 321.089996 | 52.369999 | 47.846653 | 108.489998 |  97.698219 | 21.706667 | 21.706667 | 3369723.56 | 1894681.70 | 111.5544976 |\n",
       "\n"
      ],
      "text/plain": [
       "   Date       IBM_Close  IBM_AdjClose MSFT_Close MSFT_AdjClose GOOG_Close\n",
       "1  2018-01-02 147.466537 111.800133   85.949997  80.391838     53.250000 \n",
       "11 2018-01-17 161.233276 122.237236   90.139999  84.310898     56.598999 \n",
       "21 2018-01-31 156.500961 118.649475   95.010002  88.865974     58.497002 \n",
       "31 2018-02-14 147.954117 113.274200   90.809998  85.336548     53.485001 \n",
       "41 2018-03-01 147.045883 112.578835   92.849998  87.253593     53.476002 \n",
       "51 2018-03-15 152.590820 116.824051   94.180000  88.503433     57.479000 \n",
       "   GOOG_AdjClose AAPL_Close AAPL_AdjClose AMZN_Close ⋯ NFLX_AdjClose ORCL_Close\n",
       "1  53.250000     43.064999  40.776535     59.450500  ⋯ 201.070007    46.630001 \n",
       "11 56.598999     44.775002  42.395668     64.750000  ⋯ 217.500000    50.270000 \n",
       "21 58.497002     41.857498  39.633194     72.544502  ⋯ 270.299988    51.590000 \n",
       "31 53.485001     41.842499  39.780521     72.552498  ⋯ 266.000000    49.450001 \n",
       "41 53.476002     43.750000  41.594028     74.672501  ⋯ 290.390015    49.709999 \n",
       "51 57.479000     44.662498  42.461544     79.115997  ⋯ 321.089996    52.369999 \n",
       "   ORCL_AdjClose SAP_Close  SAP_AdjClose TSLA_Close TSLA_AdjClose Remaining \n",
       "1  42.437168     112.389999 101.210281   21.368668  21.368668     3214509.59\n",
       "11 45.928032     111.190002 100.129654   23.143999  23.143999     3214509.59\n",
       "21 47.134022     113.250000 101.984749   23.620667  23.620667     3310821.97\n",
       "31 45.178856     105.129997  94.672455   21.487333  21.487333     3259788.10\n",
       "41 45.416393     102.000000  91.853806   22.062000  22.062000     3259788.10\n",
       "51 47.846653     108.489998  97.698219   21.706667  21.706667     3369723.56\n",
       "   MTM        HTI        \n",
       "1  5000000.00  95.2060706\n",
       "11 1904702.69  99.7201283\n",
       "21 1897102.76 107.0060619\n",
       "31 1863340.48 102.8231448\n",
       "41 1916608.25 105.1896400\n",
       "51 1894681.70 111.5544976"
      ]
     },
     "metadata": {},
     "output_type": "display_data"
    },
    {
     "data": {
      "text/html": [
       "<table class=\"dataframe\">\n",
       "<caption>A data.frame: 6 × 24</caption>\n",
       "<thead>\n",
       "\t<tr><th></th><th scope=col>Date</th><th scope=col>IBM_Close</th><th scope=col>IBM_AdjClose</th><th scope=col>MSFT_Close</th><th scope=col>MSFT_AdjClose</th><th scope=col>GOOG_Close</th><th scope=col>GOOG_AdjClose</th><th scope=col>AAPL_Close</th><th scope=col>AAPL_AdjClose</th><th scope=col>AMZN_Close</th><th scope=col>⋯</th><th scope=col>NFLX_AdjClose</th><th scope=col>ORCL_Close</th><th scope=col>ORCL_AdjClose</th><th scope=col>SAP_Close</th><th scope=col>SAP_AdjClose</th><th scope=col>TSLA_Close</th><th scope=col>TSLA_AdjClose</th><th scope=col>Remaining</th><th scope=col>MTM</th><th scope=col>HTI</th></tr>\n",
       "\t<tr><th></th><th scope=col>&lt;date&gt;</th><th scope=col>&lt;dbl&gt;</th><th scope=col>&lt;dbl&gt;</th><th scope=col>&lt;dbl&gt;</th><th scope=col>&lt;dbl&gt;</th><th scope=col>&lt;dbl&gt;</th><th scope=col>&lt;dbl&gt;</th><th scope=col>&lt;dbl&gt;</th><th scope=col>&lt;dbl&gt;</th><th scope=col>&lt;dbl&gt;</th><th scope=col>⋯</th><th scope=col>&lt;dbl&gt;</th><th scope=col>&lt;dbl&gt;</th><th scope=col>&lt;dbl&gt;</th><th scope=col>&lt;dbl&gt;</th><th scope=col>&lt;dbl&gt;</th><th scope=col>&lt;dbl&gt;</th><th scope=col>&lt;dbl&gt;</th><th scope=col>&lt;dbl&gt;</th><th scope=col>&lt;dbl&gt;</th><th scope=col>&lt;dbl&gt;</th></tr>\n",
       "</thead>\n",
       "<tbody>\n",
       "\t<tr><th scope=row>1</th><td>2018-01-02</td><td>147.466537</td><td>111.800133</td><td>85.949997</td><td>80.391838</td><td>53.250000</td><td>53.250000</td><td>43.064999</td><td>40.776535</td><td>59.450500</td><td>⋯</td><td>201.070007</td><td>46.630001</td><td>42.437168</td><td>112.389999</td><td>101.210281</td><td>21.368668</td><td>21.368668</td><td>3214509.59</td><td>5000000.00</td><td> 95.2060706</td></tr>\n",
       "\t<tr><th scope=row>13</th><td>2018-01-19</td><td>155.229446</td><td>117.685509</td><td>90.000000</td><td>84.179955</td><td>56.875500</td><td>56.875500</td><td>44.615002</td><td>42.244160</td><td>64.728996</td><td>⋯</td><td>220.460007</td><td>50.580002</td><td>46.211269</td><td>113.199997</td><td>101.939705</td><td>23.334667</td><td>23.334667</td><td>3214509.59</td><td>1889986.88</td><td>100.0313610</td></tr>\n",
       "\t<tr><th scope=row>25</th><td>2018-02-06</td><td>148.508606</td><td>112.590179</td><td>91.330002</td><td>85.423943</td><td>54.029999</td><td>54.029999</td><td>40.757500</td><td>38.591644</td><td>72.141998</td><td>⋯</td><td>265.720001</td><td>49.400002</td><td>45.133179</td><td>108.360001</td><td> 97.581169</td><td>22.264668</td><td>22.264668</td><td>3310821.97</td><td>1823154.09</td><td>103.7822775</td></tr>\n",
       "\t<tr><th scope=row>37</th><td>2018-02-23</td><td>148.680695</td><td>113.830490</td><td>94.059998</td><td>88.390671</td><td>56.339500</td><td>56.339500</td><td>43.875000</td><td>41.712856</td><td>75.000000</td><td>⋯</td><td>285.929993</td><td>50.500000</td><td>46.138161</td><td>104.900002</td><td> 94.465340</td><td>23.469999</td><td>23.469999</td><td>3259788.10</td><td>1927010.15</td><td>106.6045180</td></tr>\n",
       "\t<tr><th scope=row>49</th><td>2018-03-13</td><td>152.313583</td><td>116.611832</td><td>94.410004</td><td>88.719566</td><td>56.908501</td><td>56.908501</td><td>44.992500</td><td>42.775291</td><td>79.408997</td><td>⋯</td><td>315.880005</td><td>52.580002</td><td>48.038521</td><td>107.620003</td><td> 96.914764</td><td>22.789333</td><td>22.789333</td><td>3369723.56</td><td>1910622.99</td><td>110.8782933</td></tr>\n",
       "\t<tr><th scope=row>61</th><td>2018-03-29</td><td>146.682602</td><td>112.300735</td><td>91.269997</td><td>85.768845</td><td>51.589500</td><td>51.589500</td><td>41.945000</td><td>39.877968</td><td>72.366997</td><td>⋯</td><td>295.350006</td><td>45.750000</td><td>41.798439</td><td>105.160004</td><td> 94.699478</td><td>17.742001</td><td>17.742001</td><td>3284659.97</td><td>1841680.48</td><td>102.7646100</td></tr>\n",
       "</tbody>\n",
       "</table>\n"
      ],
      "text/latex": [
       "A data.frame: 6 × 24\n",
       "\\begin{tabular}{r|lllllllllllllllllllll}\n",
       "  & Date & IBM\\_Close & IBM\\_AdjClose & MSFT\\_Close & MSFT\\_AdjClose & GOOG\\_Close & GOOG\\_AdjClose & AAPL\\_Close & AAPL\\_AdjClose & AMZN\\_Close & ⋯ & NFLX\\_AdjClose & ORCL\\_Close & ORCL\\_AdjClose & SAP\\_Close & SAP\\_AdjClose & TSLA\\_Close & TSLA\\_AdjClose & Remaining & MTM & HTI\\\\\n",
       "  & <date> & <dbl> & <dbl> & <dbl> & <dbl> & <dbl> & <dbl> & <dbl> & <dbl> & <dbl> & ⋯ & <dbl> & <dbl> & <dbl> & <dbl> & <dbl> & <dbl> & <dbl> & <dbl> & <dbl> & <dbl>\\\\\n",
       "\\hline\n",
       "\t1 & 2018-01-02 & 147.466537 & 111.800133 & 85.949997 & 80.391838 & 53.250000 & 53.250000 & 43.064999 & 40.776535 & 59.450500 & ⋯ & 201.070007 & 46.630001 & 42.437168 & 112.389999 & 101.210281 & 21.368668 & 21.368668 & 3214509.59 & 5000000.00 &  95.2060706\\\\\n",
       "\t13 & 2018-01-19 & 155.229446 & 117.685509 & 90.000000 & 84.179955 & 56.875500 & 56.875500 & 44.615002 & 42.244160 & 64.728996 & ⋯ & 220.460007 & 50.580002 & 46.211269 & 113.199997 & 101.939705 & 23.334667 & 23.334667 & 3214509.59 & 1889986.88 & 100.0313610\\\\\n",
       "\t25 & 2018-02-06 & 148.508606 & 112.590179 & 91.330002 & 85.423943 & 54.029999 & 54.029999 & 40.757500 & 38.591644 & 72.141998 & ⋯ & 265.720001 & 49.400002 & 45.133179 & 108.360001 &  97.581169 & 22.264668 & 22.264668 & 3310821.97 & 1823154.09 & 103.7822775\\\\\n",
       "\t37 & 2018-02-23 & 148.680695 & 113.830490 & 94.059998 & 88.390671 & 56.339500 & 56.339500 & 43.875000 & 41.712856 & 75.000000 & ⋯ & 285.929993 & 50.500000 & 46.138161 & 104.900002 &  94.465340 & 23.469999 & 23.469999 & 3259788.10 & 1927010.15 & 106.6045180\\\\\n",
       "\t49 & 2018-03-13 & 152.313583 & 116.611832 & 94.410004 & 88.719566 & 56.908501 & 56.908501 & 44.992500 & 42.775291 & 79.408997 & ⋯ & 315.880005 & 52.580002 & 48.038521 & 107.620003 &  96.914764 & 22.789333 & 22.789333 & 3369723.56 & 1910622.99 & 110.8782933\\\\\n",
       "\t61 & 2018-03-29 & 146.682602 & 112.300735 & 91.269997 & 85.768845 & 51.589500 & 51.589500 & 41.945000 & 39.877968 & 72.366997 & ⋯ & 295.350006 & 45.750000 & 41.798439 & 105.160004 &  94.699478 & 17.742001 & 17.742001 & 3284659.97 & 1841680.48 & 102.7646100\\\\\n",
       "\\end{tabular}\n"
      ],
      "text/markdown": [
       "\n",
       "A data.frame: 6 × 24\n",
       "\n",
       "| <!--/--> | Date &lt;date&gt; | IBM_Close &lt;dbl&gt; | IBM_AdjClose &lt;dbl&gt; | MSFT_Close &lt;dbl&gt; | MSFT_AdjClose &lt;dbl&gt; | GOOG_Close &lt;dbl&gt; | GOOG_AdjClose &lt;dbl&gt; | AAPL_Close &lt;dbl&gt; | AAPL_AdjClose &lt;dbl&gt; | AMZN_Close &lt;dbl&gt; | ⋯ ⋯ | NFLX_AdjClose &lt;dbl&gt; | ORCL_Close &lt;dbl&gt; | ORCL_AdjClose &lt;dbl&gt; | SAP_Close &lt;dbl&gt; | SAP_AdjClose &lt;dbl&gt; | TSLA_Close &lt;dbl&gt; | TSLA_AdjClose &lt;dbl&gt; | Remaining &lt;dbl&gt; | MTM &lt;dbl&gt; | HTI &lt;dbl&gt; |\n",
       "|---|---|---|---|---|---|---|---|---|---|---|---|---|---|---|---|---|---|---|---|---|---|\n",
       "| 1 | 2018-01-02 | 147.466537 | 111.800133 | 85.949997 | 80.391838 | 53.250000 | 53.250000 | 43.064999 | 40.776535 | 59.450500 | ⋯ | 201.070007 | 46.630001 | 42.437168 | 112.389999 | 101.210281 | 21.368668 | 21.368668 | 3214509.59 | 5000000.00 |  95.2060706 |\n",
       "| 13 | 2018-01-19 | 155.229446 | 117.685509 | 90.000000 | 84.179955 | 56.875500 | 56.875500 | 44.615002 | 42.244160 | 64.728996 | ⋯ | 220.460007 | 50.580002 | 46.211269 | 113.199997 | 101.939705 | 23.334667 | 23.334667 | 3214509.59 | 1889986.88 | 100.0313610 |\n",
       "| 25 | 2018-02-06 | 148.508606 | 112.590179 | 91.330002 | 85.423943 | 54.029999 | 54.029999 | 40.757500 | 38.591644 | 72.141998 | ⋯ | 265.720001 | 49.400002 | 45.133179 | 108.360001 |  97.581169 | 22.264668 | 22.264668 | 3310821.97 | 1823154.09 | 103.7822775 |\n",
       "| 37 | 2018-02-23 | 148.680695 | 113.830490 | 94.059998 | 88.390671 | 56.339500 | 56.339500 | 43.875000 | 41.712856 | 75.000000 | ⋯ | 285.929993 | 50.500000 | 46.138161 | 104.900002 |  94.465340 | 23.469999 | 23.469999 | 3259788.10 | 1927010.15 | 106.6045180 |\n",
       "| 49 | 2018-03-13 | 152.313583 | 116.611832 | 94.410004 | 88.719566 | 56.908501 | 56.908501 | 44.992500 | 42.775291 | 79.408997 | ⋯ | 315.880005 | 52.580002 | 48.038521 | 107.620003 |  96.914764 | 22.789333 | 22.789333 | 3369723.56 | 1910622.99 | 110.8782933 |\n",
       "| 61 | 2018-03-29 | 146.682602 | 112.300735 | 91.269997 | 85.768845 | 51.589500 | 51.589500 | 41.945000 | 39.877968 | 72.366997 | ⋯ | 295.350006 | 45.750000 | 41.798439 | 105.160004 |  94.699478 | 17.742001 | 17.742001 | 3284659.97 | 1841680.48 | 102.7646100 |\n",
       "\n"
      ],
      "text/plain": [
       "   Date       IBM_Close  IBM_AdjClose MSFT_Close MSFT_AdjClose GOOG_Close\n",
       "1  2018-01-02 147.466537 111.800133   85.949997  80.391838     53.250000 \n",
       "13 2018-01-19 155.229446 117.685509   90.000000  84.179955     56.875500 \n",
       "25 2018-02-06 148.508606 112.590179   91.330002  85.423943     54.029999 \n",
       "37 2018-02-23 148.680695 113.830490   94.059998  88.390671     56.339500 \n",
       "49 2018-03-13 152.313583 116.611832   94.410004  88.719566     56.908501 \n",
       "61 2018-03-29 146.682602 112.300735   91.269997  85.768845     51.589500 \n",
       "   GOOG_AdjClose AAPL_Close AAPL_AdjClose AMZN_Close ⋯ NFLX_AdjClose ORCL_Close\n",
       "1  53.250000     43.064999  40.776535     59.450500  ⋯ 201.070007    46.630001 \n",
       "13 56.875500     44.615002  42.244160     64.728996  ⋯ 220.460007    50.580002 \n",
       "25 54.029999     40.757500  38.591644     72.141998  ⋯ 265.720001    49.400002 \n",
       "37 56.339500     43.875000  41.712856     75.000000  ⋯ 285.929993    50.500000 \n",
       "49 56.908501     44.992500  42.775291     79.408997  ⋯ 315.880005    52.580002 \n",
       "61 51.589500     41.945000  39.877968     72.366997  ⋯ 295.350006    45.750000 \n",
       "   ORCL_AdjClose SAP_Close  SAP_AdjClose TSLA_Close TSLA_AdjClose Remaining \n",
       "1  42.437168     112.389999 101.210281   21.368668  21.368668     3214509.59\n",
       "13 46.211269     113.199997 101.939705   23.334667  23.334667     3214509.59\n",
       "25 45.133179     108.360001  97.581169   22.264668  22.264668     3310821.97\n",
       "37 46.138161     104.900002  94.465340   23.469999  23.469999     3259788.10\n",
       "49 48.038521     107.620003  96.914764   22.789333  22.789333     3369723.56\n",
       "61 41.798439     105.160004  94.699478   17.742001  17.742001     3284659.97\n",
       "   MTM        HTI        \n",
       "1  5000000.00  95.2060706\n",
       "13 1889986.88 100.0313610\n",
       "25 1823154.09 103.7822775\n",
       "37 1927010.15 106.6045180\n",
       "49 1910622.99 110.8782933\n",
       "61 1841680.48 102.7646100"
      ]
     },
     "metadata": {},
     "output_type": "display_data"
    },
    {
     "data": {
      "text/html": [
       "<table class=\"dataframe\">\n",
       "<caption>A data.frame: 6 × 24</caption>\n",
       "<thead>\n",
       "\t<tr><th></th><th scope=col>Date</th><th scope=col>IBM_Close</th><th scope=col>IBM_AdjClose</th><th scope=col>MSFT_Close</th><th scope=col>MSFT_AdjClose</th><th scope=col>GOOG_Close</th><th scope=col>GOOG_AdjClose</th><th scope=col>AAPL_Close</th><th scope=col>AAPL_AdjClose</th><th scope=col>AMZN_Close</th><th scope=col>⋯</th><th scope=col>NFLX_AdjClose</th><th scope=col>ORCL_Close</th><th scope=col>ORCL_AdjClose</th><th scope=col>SAP_Close</th><th scope=col>SAP_AdjClose</th><th scope=col>TSLA_Close</th><th scope=col>TSLA_AdjClose</th><th scope=col>Remaining</th><th scope=col>MTM</th><th scope=col>HTI</th></tr>\n",
       "\t<tr><th></th><th scope=col>&lt;date&gt;</th><th scope=col>&lt;dbl&gt;</th><th scope=col>&lt;dbl&gt;</th><th scope=col>&lt;dbl&gt;</th><th scope=col>&lt;dbl&gt;</th><th scope=col>&lt;dbl&gt;</th><th scope=col>&lt;dbl&gt;</th><th scope=col>&lt;dbl&gt;</th><th scope=col>&lt;dbl&gt;</th><th scope=col>&lt;dbl&gt;</th><th scope=col>⋯</th><th scope=col>&lt;dbl&gt;</th><th scope=col>&lt;dbl&gt;</th><th scope=col>&lt;dbl&gt;</th><th scope=col>&lt;dbl&gt;</th><th scope=col>&lt;dbl&gt;</th><th scope=col>&lt;dbl&gt;</th><th scope=col>&lt;dbl&gt;</th><th scope=col>&lt;dbl&gt;</th><th scope=col>&lt;dbl&gt;</th><th scope=col>&lt;dbl&gt;</th></tr>\n",
       "</thead>\n",
       "<tbody>\n",
       "\t<tr><th scope=row>1</th><td>2018-01-02</td><td>147.466537</td><td>111.800133</td><td>85.949997</td><td>80.391838</td><td>53.250000</td><td>53.250000</td><td>43.064999</td><td>40.776535</td><td>59.450500</td><td>⋯</td><td>201.070007</td><td>46.630001</td><td>42.437168</td><td>112.389999</td><td>101.210281</td><td>21.368668</td><td>21.368668</td><td>3214509.59</td><td>5000000.00</td><td> 95.2060706</td></tr>\n",
       "\t<tr><th scope=row>15</th><td>2018-01-23</td><td>158.938812</td><td>120.497711</td><td>91.900002</td><td>85.957062</td><td>58.498501</td><td>58.498501</td><td>44.259998</td><td>41.908024</td><td>68.126999</td><td>⋯</td><td>250.289993</td><td>51.119999</td><td>46.704620</td><td>114.269997</td><td>102.903290</td><td>23.519333</td><td>23.519333</td><td>3310821.97</td><td>5149722.95</td><td>105.0273640</td></tr>\n",
       "\t<tr><th scope=row>29</th><td>2018-02-12</td><td>144.741867</td><td>110.814865</td><td>89.129997</td><td>83.366211</td><td>52.597000</td><td>52.597000</td><td>40.677502</td><td>38.672932</td><td>69.311501</td><td>⋯</td><td>257.950012</td><td>48.150002</td><td>43.991138</td><td>102.750000</td><td> 92.529205</td><td>21.048668</td><td>21.048668</td><td>3259788.10</td><td>5070260.05</td><td>100.2766553</td></tr>\n",
       "\t<tr><th scope=row>43</th><td>2018-03-05</td><td>150.047806</td><td>114.877136</td><td>93.639999</td><td>87.995979</td><td>54.546501</td><td>54.546501</td><td>44.205002</td><td>42.026604</td><td>76.180496</td><td>⋯</td><td>315.000000</td><td>51.290001</td><td>46.859932</td><td>104.599998</td><td> 94.195183</td><td>22.223333</td><td>22.223333</td><td>3369723.56</td><td>5241407.21</td><td>109.2133130</td></tr>\n",
       "\t<tr><th scope=row>57</th><td>2018-03-23</td><td>142.342255</td><td>108.977745</td><td>87.180000</td><td>81.925331</td><td>51.078499</td><td>51.078499</td><td>41.235001</td><td>39.202965</td><td>74.778000</td><td>⋯</td><td>300.940002</td><td>44.790001</td><td>40.921356</td><td>102.480003</td><td> 92.286057</td><td>20.102667</td><td>20.102667</td><td>3284659.97</td><td>5108816.76</td><td>102.4316427</td></tr>\n",
       "\t<tr><th scope=row>71</th><td>2018-04-13</td><td>149.818359</td><td>114.701469</td><td>93.080002</td><td>87.469719</td><td>51.463501</td><td>51.463501</td><td>43.682499</td><td>41.529850</td><td>71.539497</td><td>⋯</td><td>311.649994</td><td>46.080002</td><td>42.099937</td><td>108.129997</td><td> 97.374039</td><td>20.022667</td><td>20.022667</td><td>3317674.33</td><td>5160359.01</td><td>105.9986522</td></tr>\n",
       "</tbody>\n",
       "</table>\n"
      ],
      "text/latex": [
       "A data.frame: 6 × 24\n",
       "\\begin{tabular}{r|lllllllllllllllllllll}\n",
       "  & Date & IBM\\_Close & IBM\\_AdjClose & MSFT\\_Close & MSFT\\_AdjClose & GOOG\\_Close & GOOG\\_AdjClose & AAPL\\_Close & AAPL\\_AdjClose & AMZN\\_Close & ⋯ & NFLX\\_AdjClose & ORCL\\_Close & ORCL\\_AdjClose & SAP\\_Close & SAP\\_AdjClose & TSLA\\_Close & TSLA\\_AdjClose & Remaining & MTM & HTI\\\\\n",
       "  & <date> & <dbl> & <dbl> & <dbl> & <dbl> & <dbl> & <dbl> & <dbl> & <dbl> & <dbl> & ⋯ & <dbl> & <dbl> & <dbl> & <dbl> & <dbl> & <dbl> & <dbl> & <dbl> & <dbl> & <dbl>\\\\\n",
       "\\hline\n",
       "\t1 & 2018-01-02 & 147.466537 & 111.800133 & 85.949997 & 80.391838 & 53.250000 & 53.250000 & 43.064999 & 40.776535 & 59.450500 & ⋯ & 201.070007 & 46.630001 & 42.437168 & 112.389999 & 101.210281 & 21.368668 & 21.368668 & 3214509.59 & 5000000.00 &  95.2060706\\\\\n",
       "\t15 & 2018-01-23 & 158.938812 & 120.497711 & 91.900002 & 85.957062 & 58.498501 & 58.498501 & 44.259998 & 41.908024 & 68.126999 & ⋯ & 250.289993 & 51.119999 & 46.704620 & 114.269997 & 102.903290 & 23.519333 & 23.519333 & 3310821.97 & 5149722.95 & 105.0273640\\\\\n",
       "\t29 & 2018-02-12 & 144.741867 & 110.814865 & 89.129997 & 83.366211 & 52.597000 & 52.597000 & 40.677502 & 38.672932 & 69.311501 & ⋯ & 257.950012 & 48.150002 & 43.991138 & 102.750000 &  92.529205 & 21.048668 & 21.048668 & 3259788.10 & 5070260.05 & 100.2766553\\\\\n",
       "\t43 & 2018-03-05 & 150.047806 & 114.877136 & 93.639999 & 87.995979 & 54.546501 & 54.546501 & 44.205002 & 42.026604 & 76.180496 & ⋯ & 315.000000 & 51.290001 & 46.859932 & 104.599998 &  94.195183 & 22.223333 & 22.223333 & 3369723.56 & 5241407.21 & 109.2133130\\\\\n",
       "\t57 & 2018-03-23 & 142.342255 & 108.977745 & 87.180000 & 81.925331 & 51.078499 & 51.078499 & 41.235001 & 39.202965 & 74.778000 & ⋯ & 300.940002 & 44.790001 & 40.921356 & 102.480003 &  92.286057 & 20.102667 & 20.102667 & 3284659.97 & 5108816.76 & 102.4316427\\\\\n",
       "\t71 & 2018-04-13 & 149.818359 & 114.701469 & 93.080002 & 87.469719 & 51.463501 & 51.463501 & 43.682499 & 41.529850 & 71.539497 & ⋯ & 311.649994 & 46.080002 & 42.099937 & 108.129997 &  97.374039 & 20.022667 & 20.022667 & 3317674.33 & 5160359.01 & 105.9986522\\\\\n",
       "\\end{tabular}\n"
      ],
      "text/markdown": [
       "\n",
       "A data.frame: 6 × 24\n",
       "\n",
       "| <!--/--> | Date &lt;date&gt; | IBM_Close &lt;dbl&gt; | IBM_AdjClose &lt;dbl&gt; | MSFT_Close &lt;dbl&gt; | MSFT_AdjClose &lt;dbl&gt; | GOOG_Close &lt;dbl&gt; | GOOG_AdjClose &lt;dbl&gt; | AAPL_Close &lt;dbl&gt; | AAPL_AdjClose &lt;dbl&gt; | AMZN_Close &lt;dbl&gt; | ⋯ ⋯ | NFLX_AdjClose &lt;dbl&gt; | ORCL_Close &lt;dbl&gt; | ORCL_AdjClose &lt;dbl&gt; | SAP_Close &lt;dbl&gt; | SAP_AdjClose &lt;dbl&gt; | TSLA_Close &lt;dbl&gt; | TSLA_AdjClose &lt;dbl&gt; | Remaining &lt;dbl&gt; | MTM &lt;dbl&gt; | HTI &lt;dbl&gt; |\n",
       "|---|---|---|---|---|---|---|---|---|---|---|---|---|---|---|---|---|---|---|---|---|---|\n",
       "| 1 | 2018-01-02 | 147.466537 | 111.800133 | 85.949997 | 80.391838 | 53.250000 | 53.250000 | 43.064999 | 40.776535 | 59.450500 | ⋯ | 201.070007 | 46.630001 | 42.437168 | 112.389999 | 101.210281 | 21.368668 | 21.368668 | 3214509.59 | 5000000.00 |  95.2060706 |\n",
       "| 15 | 2018-01-23 | 158.938812 | 120.497711 | 91.900002 | 85.957062 | 58.498501 | 58.498501 | 44.259998 | 41.908024 | 68.126999 | ⋯ | 250.289993 | 51.119999 | 46.704620 | 114.269997 | 102.903290 | 23.519333 | 23.519333 | 3310821.97 | 5149722.95 | 105.0273640 |\n",
       "| 29 | 2018-02-12 | 144.741867 | 110.814865 | 89.129997 | 83.366211 | 52.597000 | 52.597000 | 40.677502 | 38.672932 | 69.311501 | ⋯ | 257.950012 | 48.150002 | 43.991138 | 102.750000 |  92.529205 | 21.048668 | 21.048668 | 3259788.10 | 5070260.05 | 100.2766553 |\n",
       "| 43 | 2018-03-05 | 150.047806 | 114.877136 | 93.639999 | 87.995979 | 54.546501 | 54.546501 | 44.205002 | 42.026604 | 76.180496 | ⋯ | 315.000000 | 51.290001 | 46.859932 | 104.599998 |  94.195183 | 22.223333 | 22.223333 | 3369723.56 | 5241407.21 | 109.2133130 |\n",
       "| 57 | 2018-03-23 | 142.342255 | 108.977745 | 87.180000 | 81.925331 | 51.078499 | 51.078499 | 41.235001 | 39.202965 | 74.778000 | ⋯ | 300.940002 | 44.790001 | 40.921356 | 102.480003 |  92.286057 | 20.102667 | 20.102667 | 3284659.97 | 5108816.76 | 102.4316427 |\n",
       "| 71 | 2018-04-13 | 149.818359 | 114.701469 | 93.080002 | 87.469719 | 51.463501 | 51.463501 | 43.682499 | 41.529850 | 71.539497 | ⋯ | 311.649994 | 46.080002 | 42.099937 | 108.129997 |  97.374039 | 20.022667 | 20.022667 | 3317674.33 | 5160359.01 | 105.9986522 |\n",
       "\n"
      ],
      "text/plain": [
       "   Date       IBM_Close  IBM_AdjClose MSFT_Close MSFT_AdjClose GOOG_Close\n",
       "1  2018-01-02 147.466537 111.800133   85.949997  80.391838     53.250000 \n",
       "15 2018-01-23 158.938812 120.497711   91.900002  85.957062     58.498501 \n",
       "29 2018-02-12 144.741867 110.814865   89.129997  83.366211     52.597000 \n",
       "43 2018-03-05 150.047806 114.877136   93.639999  87.995979     54.546501 \n",
       "57 2018-03-23 142.342255 108.977745   87.180000  81.925331     51.078499 \n",
       "71 2018-04-13 149.818359 114.701469   93.080002  87.469719     51.463501 \n",
       "   GOOG_AdjClose AAPL_Close AAPL_AdjClose AMZN_Close ⋯ NFLX_AdjClose ORCL_Close\n",
       "1  53.250000     43.064999  40.776535     59.450500  ⋯ 201.070007    46.630001 \n",
       "15 58.498501     44.259998  41.908024     68.126999  ⋯ 250.289993    51.119999 \n",
       "29 52.597000     40.677502  38.672932     69.311501  ⋯ 257.950012    48.150002 \n",
       "43 54.546501     44.205002  42.026604     76.180496  ⋯ 315.000000    51.290001 \n",
       "57 51.078499     41.235001  39.202965     74.778000  ⋯ 300.940002    44.790001 \n",
       "71 51.463501     43.682499  41.529850     71.539497  ⋯ 311.649994    46.080002 \n",
       "   ORCL_AdjClose SAP_Close  SAP_AdjClose TSLA_Close TSLA_AdjClose Remaining \n",
       "1  42.437168     112.389999 101.210281   21.368668  21.368668     3214509.59\n",
       "15 46.704620     114.269997 102.903290   23.519333  23.519333     3310821.97\n",
       "29 43.991138     102.750000  92.529205   21.048668  21.048668     3259788.10\n",
       "43 46.859932     104.599998  94.195183   22.223333  22.223333     3369723.56\n",
       "57 40.921356     102.480003  92.286057   20.102667  20.102667     3284659.97\n",
       "71 42.099937     108.129997  97.374039   20.022667  20.022667     3317674.33\n",
       "   MTM        HTI        \n",
       "1  5000000.00  95.2060706\n",
       "15 5149722.95 105.0273640\n",
       "29 5070260.05 100.2766553\n",
       "43 5241407.21 109.2133130\n",
       "57 5108816.76 102.4316427\n",
       "71 5160359.01 105.9986522"
      ]
     },
     "metadata": {},
     "output_type": "display_data"
    }
   ],
   "source": [
    "StockSplit_8 = Stocks[seq(1,nrow(Stocks),8),]\n",
    "StockSplit_8$Date = as.Date(StockSplit_8$Date)\n",
    "head(StockSplit_8)\n",
    "\n",
    "StockSplit_10 = Stocks[seq(1,nrow(Stocks),10),]\n",
    "StockSplit_10$Date = as.Date(StockSplit_10$Date)\n",
    "head(StockSplit_10)\n",
    "\n",
    "StockSplit_12 = Stocks[seq(1,nrow(Stocks),12),]\n",
    "StockSplit_12$Date = as.Date(StockSplit_12$Date)\n",
    "head(StockSplit_12)\n",
    "\n",
    "StockSplit_14 = Stocks[seq(1,nrow(Stocks),14),]\n",
    "StockSplit_14$Date = as.Date(StockSplit_14$Date)\n",
    "head(StockSplit_14)"
   ]
  },
  {
   "cell_type": "code",
   "execution_count": 78,
   "id": "94149601-59fc-4349-aaab-6e281f24fb2e",
   "metadata": {
    "vscode": {
     "languageId": "r"
    }
   },
   "outputs": [
    {
     "data": {
      "text/html": [
       "<table class=\"dataframe\">\n",
       "<caption>A data.frame: 1 × 2</caption>\n",
       "<thead>\n",
       "\t<tr><th scope=col>X.Strategy_8.</th><th scope=col>MTM</th></tr>\n",
       "\t<tr><th scope=col>&lt;chr&gt;</th><th scope=col>&lt;dbl&gt;</th></tr>\n",
       "</thead>\n",
       "<tbody>\n",
       "\t<tr><td>Strategy_8</td><td>3151289.57</td></tr>\n",
       "</tbody>\n",
       "</table>\n"
      ],
      "text/latex": [
       "A data.frame: 1 × 2\n",
       "\\begin{tabular}{ll}\n",
       " X.Strategy\\_8. & MTM\\\\\n",
       " <chr> & <dbl>\\\\\n",
       "\\hline\n",
       "\t Strategy\\_8 & 3151289.57\\\\\n",
       "\\end{tabular}\n"
      ],
      "text/markdown": [
       "\n",
       "A data.frame: 1 × 2\n",
       "\n",
       "| X.Strategy_8. &lt;chr&gt; | MTM &lt;dbl&gt; |\n",
       "|---|---|\n",
       "| Strategy_8 | 3151289.57 |\n",
       "\n"
      ],
      "text/plain": [
       "  X.Strategy_8. MTM       \n",
       "1 Strategy_8    3151289.57"
      ]
     },
     "metadata": {},
     "output_type": "display_data"
    },
    {
     "data": {
      "text/html": [
       "<style>\n",
       ".list-inline {list-style: none; margin:0; padding: 0}\n",
       ".list-inline>li {display: inline-block}\n",
       ".list-inline>li:not(:last-child)::after {content: \"\\00b7\"; padding: 0 .5ex}\n",
       "</style>\n",
       "<ol class=list-inline><li>'Profit'</li><li>'1848710.43292'</li></ol>\n"
      ],
      "text/latex": [
       "\\begin{enumerate*}\n",
       "\\item 'Profit'\n",
       "\\item '1848710.43292'\n",
       "\\end{enumerate*}\n"
      ],
      "text/markdown": [
       "1. 'Profit'\n",
       "2. '1848710.43292'\n",
       "\n",
       "\n"
      ],
      "text/plain": [
       "[1] \"Profit\"        \"1848710.43292\""
      ]
     },
     "metadata": {},
     "output_type": "display_data"
    },
    {
     "data": {
      "text/html": [
       "<table class=\"dataframe\">\n",
       "<caption>A data.frame: 6 × 24</caption>\n",
       "<thead>\n",
       "\t<tr><th></th><th scope=col>Date</th><th scope=col>IBM_Close</th><th scope=col>IBM_AdjClose</th><th scope=col>MSFT_Close</th><th scope=col>MSFT_AdjClose</th><th scope=col>GOOG_Close</th><th scope=col>GOOG_AdjClose</th><th scope=col>AAPL_Close</th><th scope=col>AAPL_AdjClose</th><th scope=col>AMZN_Close</th><th scope=col>⋯</th><th scope=col>NFLX_AdjClose</th><th scope=col>ORCL_Close</th><th scope=col>ORCL_AdjClose</th><th scope=col>SAP_Close</th><th scope=col>SAP_AdjClose</th><th scope=col>TSLA_Close</th><th scope=col>TSLA_AdjClose</th><th scope=col>Remaining</th><th scope=col>MTM</th><th scope=col>HTI</th></tr>\n",
       "\t<tr><th></th><th scope=col>&lt;chr&gt;</th><th scope=col>&lt;dbl&gt;</th><th scope=col>&lt;dbl&gt;</th><th scope=col>&lt;dbl&gt;</th><th scope=col>&lt;dbl&gt;</th><th scope=col>&lt;dbl&gt;</th><th scope=col>&lt;dbl&gt;</th><th scope=col>&lt;dbl&gt;</th><th scope=col>&lt;dbl&gt;</th><th scope=col>&lt;dbl&gt;</th><th scope=col>⋯</th><th scope=col>&lt;dbl&gt;</th><th scope=col>&lt;dbl&gt;</th><th scope=col>&lt;dbl&gt;</th><th scope=col>&lt;dbl&gt;</th><th scope=col>&lt;dbl&gt;</th><th scope=col>&lt;dbl&gt;</th><th scope=col>&lt;dbl&gt;</th><th scope=col>&lt;dbl&gt;</th><th scope=col>&lt;dbl&gt;</th><th scope=col>&lt;dbl&gt;</th></tr>\n",
       "</thead>\n",
       "<tbody>\n",
       "\t<tr><th scope=row>245</th><td>2018-12-20</td><td>108.049713</td><td>85.621971</td><td>101.510002</td><td>96.589256</td><td>50.470501</td><td>50.470501</td><td>39.207500</td><td>37.681366</td><td>73.041496</td><td>⋯</td><td>260.579987</td><td>46.240002</td><td>42.758892</td><td>100.099998</td><td>91.522636</td><td>21.025333</td><td>21.025333</td><td>1953666.18</td><td>3064323.67</td><td>93.3624526</td></tr>\n",
       "\t<tr><th scope=row>246</th><td>2018-12-21</td><td>106.061188</td><td>84.046196</td><td> 98.230003</td><td>93.468269</td><td>48.977001</td><td>48.977001</td><td>37.682499</td><td>36.215721</td><td>68.872498</td><td>⋯</td><td>246.389999</td><td>44.000000</td><td>40.687523</td><td> 96.139999</td><td>87.901962</td><td>21.318001</td><td>21.318001</td><td>1953666.18</td><td>2951972.25</td><td>89.2621185</td></tr>\n",
       "\t<tr><th scope=row>247</th><td>2018-12-24</td><td>102.839386</td><td>81.493141</td><td> 94.129997</td><td>89.567017</td><td>48.811001</td><td>48.811001</td><td>36.707500</td><td>35.278679</td><td>67.197998</td><td>⋯</td><td>233.880005</td><td>42.689999</td><td>39.476147</td><td> 95.000000</td><td>86.859642</td><td>19.692667</td><td>19.692667</td><td>1953666.18</td><td>2820858.25</td><td>86.5008551</td></tr>\n",
       "\t<tr><th scope=row>248</th><td>2018-12-26</td><td>106.491394</td><td>84.387115</td><td>100.559998</td><td>95.685303</td><td>51.973000</td><td>51.973000</td><td>39.292500</td><td>37.763050</td><td>73.544998</td><td>⋯</td><td>253.669998</td><td>44.590000</td><td>41.233101</td><td> 98.379997</td><td>89.950012</td><td>21.739332</td><td>21.739332</td><td>1953666.18</td><td>3041761.98</td><td>92.4421210</td></tr>\n",
       "\t<tr><th scope=row>249</th><td>2018-12-27</td><td>108.776291</td><td>86.197739</td><td>101.180000</td><td>96.275253</td><td>52.194000</td><td>52.194000</td><td>39.037498</td><td>37.517979</td><td>73.082001</td><td>⋯</td><td>255.570007</td><td>44.970001</td><td>41.584496</td><td> 98.989998</td><td>90.507744</td><td>21.075333</td><td>21.075333</td><td>1870657.43</td><td>4987659.96</td><td>92.9395133</td></tr>\n",
       "\t<tr><th scope=row>250</th><td>2018-12-28</td><td>108.059273</td><td>85.629555</td><td>100.389999</td><td>95.523552</td><td>51.854000</td><td>51.854000</td><td>39.057499</td><td>37.537197</td><td>73.901001</td><td>⋯</td><td>256.079987</td><td>44.820000</td><td>41.445793</td><td> 99.199997</td><td>90.699760</td><td>22.257999</td><td>22.257999</td><td>1870657.43</td><td>3151289.57</td><td>92.8819752</td></tr>\n",
       "</tbody>\n",
       "</table>\n"
      ],
      "text/latex": [
       "A data.frame: 6 × 24\n",
       "\\begin{tabular}{r|lllllllllllllllllllll}\n",
       "  & Date & IBM\\_Close & IBM\\_AdjClose & MSFT\\_Close & MSFT\\_AdjClose & GOOG\\_Close & GOOG\\_AdjClose & AAPL\\_Close & AAPL\\_AdjClose & AMZN\\_Close & ⋯ & NFLX\\_AdjClose & ORCL\\_Close & ORCL\\_AdjClose & SAP\\_Close & SAP\\_AdjClose & TSLA\\_Close & TSLA\\_AdjClose & Remaining & MTM & HTI\\\\\n",
       "  & <chr> & <dbl> & <dbl> & <dbl> & <dbl> & <dbl> & <dbl> & <dbl> & <dbl> & <dbl> & ⋯ & <dbl> & <dbl> & <dbl> & <dbl> & <dbl> & <dbl> & <dbl> & <dbl> & <dbl> & <dbl>\\\\\n",
       "\\hline\n",
       "\t245 & 2018-12-20 & 108.049713 & 85.621971 & 101.510002 & 96.589256 & 50.470501 & 50.470501 & 39.207500 & 37.681366 & 73.041496 & ⋯ & 260.579987 & 46.240002 & 42.758892 & 100.099998 & 91.522636 & 21.025333 & 21.025333 & 1953666.18 & 3064323.67 & 93.3624526\\\\\n",
       "\t246 & 2018-12-21 & 106.061188 & 84.046196 &  98.230003 & 93.468269 & 48.977001 & 48.977001 & 37.682499 & 36.215721 & 68.872498 & ⋯ & 246.389999 & 44.000000 & 40.687523 &  96.139999 & 87.901962 & 21.318001 & 21.318001 & 1953666.18 & 2951972.25 & 89.2621185\\\\\n",
       "\t247 & 2018-12-24 & 102.839386 & 81.493141 &  94.129997 & 89.567017 & 48.811001 & 48.811001 & 36.707500 & 35.278679 & 67.197998 & ⋯ & 233.880005 & 42.689999 & 39.476147 &  95.000000 & 86.859642 & 19.692667 & 19.692667 & 1953666.18 & 2820858.25 & 86.5008551\\\\\n",
       "\t248 & 2018-12-26 & 106.491394 & 84.387115 & 100.559998 & 95.685303 & 51.973000 & 51.973000 & 39.292500 & 37.763050 & 73.544998 & ⋯ & 253.669998 & 44.590000 & 41.233101 &  98.379997 & 89.950012 & 21.739332 & 21.739332 & 1953666.18 & 3041761.98 & 92.4421210\\\\\n",
       "\t249 & 2018-12-27 & 108.776291 & 86.197739 & 101.180000 & 96.275253 & 52.194000 & 52.194000 & 39.037498 & 37.517979 & 73.082001 & ⋯ & 255.570007 & 44.970001 & 41.584496 &  98.989998 & 90.507744 & 21.075333 & 21.075333 & 1870657.43 & 4987659.96 & 92.9395133\\\\\n",
       "\t250 & 2018-12-28 & 108.059273 & 85.629555 & 100.389999 & 95.523552 & 51.854000 & 51.854000 & 39.057499 & 37.537197 & 73.901001 & ⋯ & 256.079987 & 44.820000 & 41.445793 &  99.199997 & 90.699760 & 22.257999 & 22.257999 & 1870657.43 & 3151289.57 & 92.8819752\\\\\n",
       "\\end{tabular}\n"
      ],
      "text/markdown": [
       "\n",
       "A data.frame: 6 × 24\n",
       "\n",
       "| <!--/--> | Date &lt;chr&gt; | IBM_Close &lt;dbl&gt; | IBM_AdjClose &lt;dbl&gt; | MSFT_Close &lt;dbl&gt; | MSFT_AdjClose &lt;dbl&gt; | GOOG_Close &lt;dbl&gt; | GOOG_AdjClose &lt;dbl&gt; | AAPL_Close &lt;dbl&gt; | AAPL_AdjClose &lt;dbl&gt; | AMZN_Close &lt;dbl&gt; | ⋯ ⋯ | NFLX_AdjClose &lt;dbl&gt; | ORCL_Close &lt;dbl&gt; | ORCL_AdjClose &lt;dbl&gt; | SAP_Close &lt;dbl&gt; | SAP_AdjClose &lt;dbl&gt; | TSLA_Close &lt;dbl&gt; | TSLA_AdjClose &lt;dbl&gt; | Remaining &lt;dbl&gt; | MTM &lt;dbl&gt; | HTI &lt;dbl&gt; |\n",
       "|---|---|---|---|---|---|---|---|---|---|---|---|---|---|---|---|---|---|---|---|---|---|\n",
       "| 245 | 2018-12-20 | 108.049713 | 85.621971 | 101.510002 | 96.589256 | 50.470501 | 50.470501 | 39.207500 | 37.681366 | 73.041496 | ⋯ | 260.579987 | 46.240002 | 42.758892 | 100.099998 | 91.522636 | 21.025333 | 21.025333 | 1953666.18 | 3064323.67 | 93.3624526 |\n",
       "| 246 | 2018-12-21 | 106.061188 | 84.046196 |  98.230003 | 93.468269 | 48.977001 | 48.977001 | 37.682499 | 36.215721 | 68.872498 | ⋯ | 246.389999 | 44.000000 | 40.687523 |  96.139999 | 87.901962 | 21.318001 | 21.318001 | 1953666.18 | 2951972.25 | 89.2621185 |\n",
       "| 247 | 2018-12-24 | 102.839386 | 81.493141 |  94.129997 | 89.567017 | 48.811001 | 48.811001 | 36.707500 | 35.278679 | 67.197998 | ⋯ | 233.880005 | 42.689999 | 39.476147 |  95.000000 | 86.859642 | 19.692667 | 19.692667 | 1953666.18 | 2820858.25 | 86.5008551 |\n",
       "| 248 | 2018-12-26 | 106.491394 | 84.387115 | 100.559998 | 95.685303 | 51.973000 | 51.973000 | 39.292500 | 37.763050 | 73.544998 | ⋯ | 253.669998 | 44.590000 | 41.233101 |  98.379997 | 89.950012 | 21.739332 | 21.739332 | 1953666.18 | 3041761.98 | 92.4421210 |\n",
       "| 249 | 2018-12-27 | 108.776291 | 86.197739 | 101.180000 | 96.275253 | 52.194000 | 52.194000 | 39.037498 | 37.517979 | 73.082001 | ⋯ | 255.570007 | 44.970001 | 41.584496 |  98.989998 | 90.507744 | 21.075333 | 21.075333 | 1870657.43 | 4987659.96 | 92.9395133 |\n",
       "| 250 | 2018-12-28 | 108.059273 | 85.629555 | 100.389999 | 95.523552 | 51.854000 | 51.854000 | 39.057499 | 37.537197 | 73.901001 | ⋯ | 256.079987 | 44.820000 | 41.445793 |  99.199997 | 90.699760 | 22.257999 | 22.257999 | 1870657.43 | 3151289.57 | 92.8819752 |\n",
       "\n"
      ],
      "text/plain": [
       "    Date       IBM_Close  IBM_AdjClose MSFT_Close MSFT_AdjClose GOOG_Close\n",
       "245 2018-12-20 108.049713 85.621971    101.510002 96.589256     50.470501 \n",
       "246 2018-12-21 106.061188 84.046196     98.230003 93.468269     48.977001 \n",
       "247 2018-12-24 102.839386 81.493141     94.129997 89.567017     48.811001 \n",
       "248 2018-12-26 106.491394 84.387115    100.559998 95.685303     51.973000 \n",
       "249 2018-12-27 108.776291 86.197739    101.180000 96.275253     52.194000 \n",
       "250 2018-12-28 108.059273 85.629555    100.389999 95.523552     51.854000 \n",
       "    GOOG_AdjClose AAPL_Close AAPL_AdjClose AMZN_Close ⋯ NFLX_AdjClose\n",
       "245 50.470501     39.207500  37.681366     73.041496  ⋯ 260.579987   \n",
       "246 48.977001     37.682499  36.215721     68.872498  ⋯ 246.389999   \n",
       "247 48.811001     36.707500  35.278679     67.197998  ⋯ 233.880005   \n",
       "248 51.973000     39.292500  37.763050     73.544998  ⋯ 253.669998   \n",
       "249 52.194000     39.037498  37.517979     73.082001  ⋯ 255.570007   \n",
       "250 51.854000     39.057499  37.537197     73.901001  ⋯ 256.079987   \n",
       "    ORCL_Close ORCL_AdjClose SAP_Close  SAP_AdjClose TSLA_Close TSLA_AdjClose\n",
       "245 46.240002  42.758892     100.099998 91.522636    21.025333  21.025333    \n",
       "246 44.000000  40.687523      96.139999 87.901962    21.318001  21.318001    \n",
       "247 42.689999  39.476147      95.000000 86.859642    19.692667  19.692667    \n",
       "248 44.590000  41.233101      98.379997 89.950012    21.739332  21.739332    \n",
       "249 44.970001  41.584496      98.989998 90.507744    21.075333  21.075333    \n",
       "250 44.820000  41.445793      99.199997 90.699760    22.257999  22.257999    \n",
       "    Remaining  MTM        HTI       \n",
       "245 1953666.18 3064323.67 93.3624526\n",
       "246 1953666.18 2951972.25 89.2621185\n",
       "247 1953666.18 2820858.25 86.5008551\n",
       "248 1953666.18 3041761.98 92.4421210\n",
       "249 1870657.43 4987659.96 92.9395133\n",
       "250 1870657.43 3151289.57 92.8819752"
      ]
     },
     "metadata": {},
     "output_type": "display_data"
    }
   ],
   "source": [
    "# 8 days\n",
    "\n",
    "options(digits = 9)\n",
    "Total = 5000000\n",
    "Remaining = Total\n",
    "split = Total / 8  # Adjust the rebalancing interval to 8 days\n",
    "MTM = 0\n",
    "begin_date = mdy('01/02/2018')\n",
    "start_date = begin_date\n",
    "end_date = mdy('12/31/2018')\n",
    "AllStocks = c('IBM_AdjClose', 'MSFT_AdjClose', 'GOOG_AdjClose', 'AAPL_AdjClose', 'AMZN_AdjClose', 'META_AdjClose', 'NFLX_AdjClose', 'TSLA_AdjClose', 'ORCL_AdjClose', 'SAP_AdjClose')\n",
    "IntialStocks = c('IBM_Close', 'MSFT_Close', 'GOOG_Close', 'AAPL_Close', 'AMZN_Close')\n",
    "SharesCount = list()\n",
    "Strategy_8 = data.frame()  # Create an empty data frame to store the strategy results\n",
    "\n",
    "while (start_date <= end_date) {\n",
    "    if (start_date == '2018-01-02') {\n",
    "        for (i in IntialStocks) {\n",
    "            a = Stocks[Stocks$Date == start_date, IntialStocks]\n",
    "            b = floor(split / a[i])\n",
    "            SharesCount[i] = b[[i]]\n",
    "            Remaining = Remaining - b * a[i]\n",
    "            MTM = MTM + b * a[i]\n",
    "        }\n",
    "        colnames(Remaining) = 'Remaining'\n",
    "        Stocks[Stocks$Date == start_date, 'Remaining'] = Remaining\n",
    "        colnames(MTM) = 'MTM'\n",
    "        MTM = MTM + Remaining\n",
    "        Stocks[Stocks$Date == start_date, 'MTM'] = MTM\n",
    "    } else if (start_date %in% StockSplit_8$Date) {  # Modify StockSplit_5 to StockSplit_8\n",
    "        MTM = 0\n",
    "        for (i in IntialStocks) {\n",
    "            a = Stocks[Stocks$Date == start_date, IntialStocks]\n",
    "            MTM = MTM + SharesCount[[i]] * a[i]\n",
    "        }\n",
    "        Total = MTM + Remaining\n",
    "        Remaining = Total\n",
    "        split = Total / 8  # Adjust the rebalancing interval to 8 days\n",
    "        colnames(Total) = 'Total'\n",
    "        colnames(MTM) = 'MTM'\n",
    "        calculated_stocks = list()\n",
    "        for (i in AllStocks) {\n",
    "            x = Stocks[Stocks$Date == start_date, AllStocks]\n",
    "            y = Stocks[Stocks$Date == begin_date, AllStocks]\n",
    "            percent_change = 100 * ((x[i] - y[i]) / y[i])\n",
    "            col = paste0(i, \"_PC\")\n",
    "            calculated_stocks[col] = percent_change\n",
    "        }\n",
    "        calculated_stocks = calculated_stocks[order(unlist(calculated_stocks))]\n",
    "        calculated_stocks = tail(calculated_stocks, 5)\n",
    "        initial_col_list = names(calculated_stocks)\n",
    "        initial_col_list = sub('_.*', '', initial_col_list)\n",
    "        initial_col_list = paste0(initial_col_list, '_Close')\n",
    "        IntialStocks = initial_col_list\n",
    "        SharesCount = list()\n",
    "        b = list()\n",
    "        MTM = 0\n",
    "        for (i in IntialStocks) {\n",
    "            a = Stocks[Stocks$Date == start_date, IntialStocks]\n",
    "            b = floor(split[, 1] / a[i])\n",
    "            SharesCount[i] = b[[i]]\n",
    "            Remaining = Remaining - b * a[i]\n",
    "            MTM = MTM + b * a[i]\n",
    "        }\n",
    "        MTM = MTM + Remaining\n",
    "        Stocks[Stocks$Date == start_date, 'MTM'] = MTM\n",
    "        Stocks[Stocks$Date == start_date, 'Remaining'] = Remaining\n",
    "    } else {\n",
    "        MTM = 0\n",
    "        for (i in IntialStocks) {\n",
    "            a = Stocks[Stocks$Date == start_date, IntialStocks]\n",
    "            MTM = MTM + SharesCount[[i]] * a[i]\n",
    "        }\n",
    "        colnames(MTM) = 'MTM'\n",
    "        Stocks[Stocks$Date == start_date, 'Remaining'] = Remaining\n",
    "        Stocks[Stocks$Date == start_date, 'MTM'] = MTM\n",
    "    }\n",
    "    start_date = start_date + 1\n",
    "}\n",
    "\n",
    "Strategy_8 = data.frame('Strategy_8', MTM = tail(Stocks$MTM, 1))\n",
    "output_8 = c('Profit', 5000000 - tail(Stocks$MTM, 1))\n",
    "Strategy_8\n",
    "output_8\n",
    "tail(Stocks)\n",
    "\n",
    "profit_8 <- 5000000 - tail(Stocks$MTM, 1)"
   ]
  },
  {
   "cell_type": "code",
   "execution_count": 79,
   "id": "fc5d62bc-a810-4770-bdf4-7190b7f60c1a",
   "metadata": {
    "vscode": {
     "languageId": "r"
    }
   },
   "outputs": [
    {
     "data": {
      "text/html": [
       "<table class=\"dataframe\">\n",
       "<caption>A data.frame: 1 × 2</caption>\n",
       "<thead>\n",
       "\t<tr><th scope=col>X.Strategy_10.</th><th scope=col>MTM</th></tr>\n",
       "\t<tr><th scope=col>&lt;chr&gt;</th><th scope=col>&lt;dbl&gt;</th></tr>\n",
       "</thead>\n",
       "<tbody>\n",
       "\t<tr><td>Strategy_10</td><td>2394217.72</td></tr>\n",
       "</tbody>\n",
       "</table>\n"
      ],
      "text/latex": [
       "A data.frame: 1 × 2\n",
       "\\begin{tabular}{ll}\n",
       " X.Strategy\\_10. & MTM\\\\\n",
       " <chr> & <dbl>\\\\\n",
       "\\hline\n",
       "\t Strategy\\_10 & 2394217.72\\\\\n",
       "\\end{tabular}\n"
      ],
      "text/markdown": [
       "\n",
       "A data.frame: 1 × 2\n",
       "\n",
       "| X.Strategy_10. &lt;chr&gt; | MTM &lt;dbl&gt; |\n",
       "|---|---|\n",
       "| Strategy_10 | 2394217.72 |\n",
       "\n"
      ],
      "text/plain": [
       "  X.Strategy_10. MTM       \n",
       "1 Strategy_10    2394217.72"
      ]
     },
     "metadata": {},
     "output_type": "display_data"
    },
    {
     "data": {
      "text/html": [
       "<style>\n",
       ".list-inline {list-style: none; margin:0; padding: 0}\n",
       ".list-inline>li {display: inline-block}\n",
       ".list-inline>li:not(:last-child)::after {content: \"\\00b7\"; padding: 0 .5ex}\n",
       "</style>\n",
       "<ol class=list-inline><li>'Profit'</li><li>'2605782.281024'</li></ol>\n"
      ],
      "text/latex": [
       "\\begin{enumerate*}\n",
       "\\item 'Profit'\n",
       "\\item '2605782.281024'\n",
       "\\end{enumerate*}\n"
      ],
      "text/markdown": [
       "1. 'Profit'\n",
       "2. '2605782.281024'\n",
       "\n",
       "\n"
      ],
      "text/plain": [
       "[1] \"Profit\"         \"2605782.281024\""
      ]
     },
     "metadata": {},
     "output_type": "display_data"
    },
    {
     "data": {
      "text/html": [
       "<table class=\"dataframe\">\n",
       "<caption>A data.frame: 6 × 24</caption>\n",
       "<thead>\n",
       "\t<tr><th></th><th scope=col>Date</th><th scope=col>IBM_Close</th><th scope=col>IBM_AdjClose</th><th scope=col>MSFT_Close</th><th scope=col>MSFT_AdjClose</th><th scope=col>GOOG_Close</th><th scope=col>GOOG_AdjClose</th><th scope=col>AAPL_Close</th><th scope=col>AAPL_AdjClose</th><th scope=col>AMZN_Close</th><th scope=col>⋯</th><th scope=col>NFLX_AdjClose</th><th scope=col>ORCL_Close</th><th scope=col>ORCL_AdjClose</th><th scope=col>SAP_Close</th><th scope=col>SAP_AdjClose</th><th scope=col>TSLA_Close</th><th scope=col>TSLA_AdjClose</th><th scope=col>Remaining</th><th scope=col>MTM</th><th scope=col>HTI</th></tr>\n",
       "\t<tr><th></th><th scope=col>&lt;chr&gt;</th><th scope=col>&lt;dbl&gt;</th><th scope=col>&lt;dbl&gt;</th><th scope=col>&lt;dbl&gt;</th><th scope=col>&lt;dbl&gt;</th><th scope=col>&lt;dbl&gt;</th><th scope=col>&lt;dbl&gt;</th><th scope=col>&lt;dbl&gt;</th><th scope=col>&lt;dbl&gt;</th><th scope=col>&lt;dbl&gt;</th><th scope=col>⋯</th><th scope=col>&lt;dbl&gt;</th><th scope=col>&lt;dbl&gt;</th><th scope=col>&lt;dbl&gt;</th><th scope=col>&lt;dbl&gt;</th><th scope=col>&lt;dbl&gt;</th><th scope=col>&lt;dbl&gt;</th><th scope=col>&lt;dbl&gt;</th><th scope=col>&lt;dbl&gt;</th><th scope=col>&lt;dbl&gt;</th><th scope=col>&lt;dbl&gt;</th></tr>\n",
       "</thead>\n",
       "<tbody>\n",
       "\t<tr><th scope=row>245</th><td>2018-12-20</td><td>108.049713</td><td>85.621971</td><td>101.510002</td><td>96.589256</td><td>50.470501</td><td>50.470501</td><td>39.207500</td><td>37.681366</td><td>73.041496</td><td>⋯</td><td>260.579987</td><td>46.240002</td><td>42.758892</td><td>100.099998</td><td>91.522636</td><td>21.025333</td><td>21.025333</td><td>2542270.13</td><td>2392458.53</td><td>93.3624526</td></tr>\n",
       "\t<tr><th scope=row>246</th><td>2018-12-21</td><td>106.061188</td><td>84.046196</td><td> 98.230003</td><td>93.468269</td><td>48.977001</td><td>48.977001</td><td>37.682499</td><td>36.215721</td><td>68.872498</td><td>⋯</td><td>246.389999</td><td>44.000000</td><td>40.687523</td><td> 96.139999</td><td>87.901962</td><td>21.318001</td><td>21.318001</td><td>2542270.13</td><td>2304739.18</td><td>89.2621185</td></tr>\n",
       "\t<tr><th scope=row>247</th><td>2018-12-24</td><td>102.839386</td><td>81.493141</td><td> 94.129997</td><td>89.567017</td><td>48.811001</td><td>48.811001</td><td>36.707500</td><td>35.278679</td><td>67.197998</td><td>⋯</td><td>233.880005</td><td>42.689999</td><td>39.476147</td><td> 95.000000</td><td>86.859642</td><td>19.692667</td><td>19.692667</td><td>2542270.13</td><td>2202373.61</td><td>86.5008551</td></tr>\n",
       "\t<tr><th scope=row>248</th><td>2018-12-26</td><td>106.491394</td><td>84.387115</td><td>100.559998</td><td>95.685303</td><td>51.973000</td><td>51.973000</td><td>39.292500</td><td>37.763050</td><td>73.544998</td><td>⋯</td><td>253.669998</td><td>44.590000</td><td>41.233101</td><td> 98.379997</td><td>89.950012</td><td>21.739332</td><td>21.739332</td><td>2542270.13</td><td>2374843.33</td><td>92.4421210</td></tr>\n",
       "\t<tr><th scope=row>249</th><td>2018-12-27</td><td>108.776291</td><td>86.197739</td><td>101.180000</td><td>96.275253</td><td>52.194000</td><td>52.194000</td><td>39.037498</td><td>37.517979</td><td>73.082001</td><td>⋯</td><td>255.570007</td><td>44.970001</td><td>41.584496</td><td> 98.989998</td><td>90.507744</td><td>21.075333</td><td>21.075333</td><td>2542270.13</td><td>2368778.08</td><td>92.9395133</td></tr>\n",
       "\t<tr><th scope=row>250</th><td>2018-12-28</td><td>108.059273</td><td>85.629555</td><td>100.389999</td><td>95.523552</td><td>51.854000</td><td>51.854000</td><td>39.057499</td><td>37.537197</td><td>73.901001</td><td>⋯</td><td>256.079987</td><td>44.820000</td><td>41.445793</td><td> 99.199997</td><td>90.699760</td><td>22.257999</td><td>22.257999</td><td>2542270.13</td><td>2394217.72</td><td>92.8819752</td></tr>\n",
       "</tbody>\n",
       "</table>\n"
      ],
      "text/latex": [
       "A data.frame: 6 × 24\n",
       "\\begin{tabular}{r|lllllllllllllllllllll}\n",
       "  & Date & IBM\\_Close & IBM\\_AdjClose & MSFT\\_Close & MSFT\\_AdjClose & GOOG\\_Close & GOOG\\_AdjClose & AAPL\\_Close & AAPL\\_AdjClose & AMZN\\_Close & ⋯ & NFLX\\_AdjClose & ORCL\\_Close & ORCL\\_AdjClose & SAP\\_Close & SAP\\_AdjClose & TSLA\\_Close & TSLA\\_AdjClose & Remaining & MTM & HTI\\\\\n",
       "  & <chr> & <dbl> & <dbl> & <dbl> & <dbl> & <dbl> & <dbl> & <dbl> & <dbl> & <dbl> & ⋯ & <dbl> & <dbl> & <dbl> & <dbl> & <dbl> & <dbl> & <dbl> & <dbl> & <dbl> & <dbl>\\\\\n",
       "\\hline\n",
       "\t245 & 2018-12-20 & 108.049713 & 85.621971 & 101.510002 & 96.589256 & 50.470501 & 50.470501 & 39.207500 & 37.681366 & 73.041496 & ⋯ & 260.579987 & 46.240002 & 42.758892 & 100.099998 & 91.522636 & 21.025333 & 21.025333 & 2542270.13 & 2392458.53 & 93.3624526\\\\\n",
       "\t246 & 2018-12-21 & 106.061188 & 84.046196 &  98.230003 & 93.468269 & 48.977001 & 48.977001 & 37.682499 & 36.215721 & 68.872498 & ⋯ & 246.389999 & 44.000000 & 40.687523 &  96.139999 & 87.901962 & 21.318001 & 21.318001 & 2542270.13 & 2304739.18 & 89.2621185\\\\\n",
       "\t247 & 2018-12-24 & 102.839386 & 81.493141 &  94.129997 & 89.567017 & 48.811001 & 48.811001 & 36.707500 & 35.278679 & 67.197998 & ⋯ & 233.880005 & 42.689999 & 39.476147 &  95.000000 & 86.859642 & 19.692667 & 19.692667 & 2542270.13 & 2202373.61 & 86.5008551\\\\\n",
       "\t248 & 2018-12-26 & 106.491394 & 84.387115 & 100.559998 & 95.685303 & 51.973000 & 51.973000 & 39.292500 & 37.763050 & 73.544998 & ⋯ & 253.669998 & 44.590000 & 41.233101 &  98.379997 & 89.950012 & 21.739332 & 21.739332 & 2542270.13 & 2374843.33 & 92.4421210\\\\\n",
       "\t249 & 2018-12-27 & 108.776291 & 86.197739 & 101.180000 & 96.275253 & 52.194000 & 52.194000 & 39.037498 & 37.517979 & 73.082001 & ⋯ & 255.570007 & 44.970001 & 41.584496 &  98.989998 & 90.507744 & 21.075333 & 21.075333 & 2542270.13 & 2368778.08 & 92.9395133\\\\\n",
       "\t250 & 2018-12-28 & 108.059273 & 85.629555 & 100.389999 & 95.523552 & 51.854000 & 51.854000 & 39.057499 & 37.537197 & 73.901001 & ⋯ & 256.079987 & 44.820000 & 41.445793 &  99.199997 & 90.699760 & 22.257999 & 22.257999 & 2542270.13 & 2394217.72 & 92.8819752\\\\\n",
       "\\end{tabular}\n"
      ],
      "text/markdown": [
       "\n",
       "A data.frame: 6 × 24\n",
       "\n",
       "| <!--/--> | Date &lt;chr&gt; | IBM_Close &lt;dbl&gt; | IBM_AdjClose &lt;dbl&gt; | MSFT_Close &lt;dbl&gt; | MSFT_AdjClose &lt;dbl&gt; | GOOG_Close &lt;dbl&gt; | GOOG_AdjClose &lt;dbl&gt; | AAPL_Close &lt;dbl&gt; | AAPL_AdjClose &lt;dbl&gt; | AMZN_Close &lt;dbl&gt; | ⋯ ⋯ | NFLX_AdjClose &lt;dbl&gt; | ORCL_Close &lt;dbl&gt; | ORCL_AdjClose &lt;dbl&gt; | SAP_Close &lt;dbl&gt; | SAP_AdjClose &lt;dbl&gt; | TSLA_Close &lt;dbl&gt; | TSLA_AdjClose &lt;dbl&gt; | Remaining &lt;dbl&gt; | MTM &lt;dbl&gt; | HTI &lt;dbl&gt; |\n",
       "|---|---|---|---|---|---|---|---|---|---|---|---|---|---|---|---|---|---|---|---|---|---|\n",
       "| 245 | 2018-12-20 | 108.049713 | 85.621971 | 101.510002 | 96.589256 | 50.470501 | 50.470501 | 39.207500 | 37.681366 | 73.041496 | ⋯ | 260.579987 | 46.240002 | 42.758892 | 100.099998 | 91.522636 | 21.025333 | 21.025333 | 2542270.13 | 2392458.53 | 93.3624526 |\n",
       "| 246 | 2018-12-21 | 106.061188 | 84.046196 |  98.230003 | 93.468269 | 48.977001 | 48.977001 | 37.682499 | 36.215721 | 68.872498 | ⋯ | 246.389999 | 44.000000 | 40.687523 |  96.139999 | 87.901962 | 21.318001 | 21.318001 | 2542270.13 | 2304739.18 | 89.2621185 |\n",
       "| 247 | 2018-12-24 | 102.839386 | 81.493141 |  94.129997 | 89.567017 | 48.811001 | 48.811001 | 36.707500 | 35.278679 | 67.197998 | ⋯ | 233.880005 | 42.689999 | 39.476147 |  95.000000 | 86.859642 | 19.692667 | 19.692667 | 2542270.13 | 2202373.61 | 86.5008551 |\n",
       "| 248 | 2018-12-26 | 106.491394 | 84.387115 | 100.559998 | 95.685303 | 51.973000 | 51.973000 | 39.292500 | 37.763050 | 73.544998 | ⋯ | 253.669998 | 44.590000 | 41.233101 |  98.379997 | 89.950012 | 21.739332 | 21.739332 | 2542270.13 | 2374843.33 | 92.4421210 |\n",
       "| 249 | 2018-12-27 | 108.776291 | 86.197739 | 101.180000 | 96.275253 | 52.194000 | 52.194000 | 39.037498 | 37.517979 | 73.082001 | ⋯ | 255.570007 | 44.970001 | 41.584496 |  98.989998 | 90.507744 | 21.075333 | 21.075333 | 2542270.13 | 2368778.08 | 92.9395133 |\n",
       "| 250 | 2018-12-28 | 108.059273 | 85.629555 | 100.389999 | 95.523552 | 51.854000 | 51.854000 | 39.057499 | 37.537197 | 73.901001 | ⋯ | 256.079987 | 44.820000 | 41.445793 |  99.199997 | 90.699760 | 22.257999 | 22.257999 | 2542270.13 | 2394217.72 | 92.8819752 |\n",
       "\n"
      ],
      "text/plain": [
       "    Date       IBM_Close  IBM_AdjClose MSFT_Close MSFT_AdjClose GOOG_Close\n",
       "245 2018-12-20 108.049713 85.621971    101.510002 96.589256     50.470501 \n",
       "246 2018-12-21 106.061188 84.046196     98.230003 93.468269     48.977001 \n",
       "247 2018-12-24 102.839386 81.493141     94.129997 89.567017     48.811001 \n",
       "248 2018-12-26 106.491394 84.387115    100.559998 95.685303     51.973000 \n",
       "249 2018-12-27 108.776291 86.197739    101.180000 96.275253     52.194000 \n",
       "250 2018-12-28 108.059273 85.629555    100.389999 95.523552     51.854000 \n",
       "    GOOG_AdjClose AAPL_Close AAPL_AdjClose AMZN_Close ⋯ NFLX_AdjClose\n",
       "245 50.470501     39.207500  37.681366     73.041496  ⋯ 260.579987   \n",
       "246 48.977001     37.682499  36.215721     68.872498  ⋯ 246.389999   \n",
       "247 48.811001     36.707500  35.278679     67.197998  ⋯ 233.880005   \n",
       "248 51.973000     39.292500  37.763050     73.544998  ⋯ 253.669998   \n",
       "249 52.194000     39.037498  37.517979     73.082001  ⋯ 255.570007   \n",
       "250 51.854000     39.057499  37.537197     73.901001  ⋯ 256.079987   \n",
       "    ORCL_Close ORCL_AdjClose SAP_Close  SAP_AdjClose TSLA_Close TSLA_AdjClose\n",
       "245 46.240002  42.758892     100.099998 91.522636    21.025333  21.025333    \n",
       "246 44.000000  40.687523      96.139999 87.901962    21.318001  21.318001    \n",
       "247 42.689999  39.476147      95.000000 86.859642    19.692667  19.692667    \n",
       "248 44.590000  41.233101      98.379997 89.950012    21.739332  21.739332    \n",
       "249 44.970001  41.584496      98.989998 90.507744    21.075333  21.075333    \n",
       "250 44.820000  41.445793      99.199997 90.699760    22.257999  22.257999    \n",
       "    Remaining  MTM        HTI       \n",
       "245 2542270.13 2392458.53 93.3624526\n",
       "246 2542270.13 2304739.18 89.2621185\n",
       "247 2542270.13 2202373.61 86.5008551\n",
       "248 2542270.13 2374843.33 92.4421210\n",
       "249 2542270.13 2368778.08 92.9395133\n",
       "250 2542270.13 2394217.72 92.8819752"
      ]
     },
     "metadata": {},
     "output_type": "display_data"
    }
   ],
   "source": [
    "#10 days\n",
    "\n",
    "options(digits = 9)\n",
    "Total = 5000000\n",
    "Remaining = Total\n",
    "split = Total / 10  # Adjust the rebalancing interval to 10 days\n",
    "MTM = 0\n",
    "begin_date = mdy('01/02/2018')\n",
    "start_date = begin_date\n",
    "end_date = mdy('12/31/2018')\n",
    "AllStocks = c('IBM_AdjClose', 'MSFT_AdjClose', 'GOOG_AdjClose', 'AAPL_AdjClose', 'AMZN_AdjClose', 'META_AdjClose', 'NFLX_AdjClose', 'TSLA_AdjClose', 'ORCL_AdjClose', 'SAP_AdjClose')\n",
    "IntialStocks = c('IBM_Close', 'MSFT_Close', 'GOOG_Close', 'AAPL_Close', 'AMZN_Close')\n",
    "SharesCount = list()\n",
    "Strategy_10 = data.frame()  # Create an empty data frame to store the strategy results\n",
    "\n",
    "while (start_date <= end_date) {\n",
    "    if (start_date == '2018-01-02') {\n",
    "        for (i in IntialStocks) {\n",
    "            a = Stocks[Stocks$Date == start_date, IntialStocks]\n",
    "            b = floor(split / a[i])\n",
    "            SharesCount[i] = b[[i]]\n",
    "            Remaining = Remaining - b * a[i]\n",
    "            MTM = MTM + b * a[i]\n",
    "        }\n",
    "        colnames(Remaining) = 'Remaining'\n",
    "        Stocks[Stocks$Date == start_date, 'Remaining'] = Remaining\n",
    "        colnames(MTM) = 'MTM'\n",
    "        MTM = MTM + Remaining\n",
    "        Stocks[Stocks$Date == start_date, 'MTM'] = MTM\n",
    "    } else if (start_date %in% StockSplit_10$Date) {  # Modify StockSplit_5 to StockSplit_10\n",
    "        MTM = 0\n",
    "        for (i in IntialStocks) {\n",
    "            a = Stocks[Stocks$Date == start_date, IntialStocks]\n",
    "            MTM = MTM + SharesCount[[i]] * a[i]\n",
    "        }\n",
    "        Total = MTM + Remaining\n",
    "        Remaining = Total\n",
    "        split = Total / 10  # Adjust the rebalancing interval to 10 days\n",
    "        colnames(Total) = 'Total'\n",
    "        colnames(MTM) = 'MTM'\n",
    "        calculated_stocks = list()\n",
    "        for (i in AllStocks) {\n",
    "            x = Stocks[Stocks$Date == start_date, AllStocks]\n",
    "            y = Stocks[Stocks$Date == begin_date, AllStocks]\n",
    "            percent_change = 100 * ((x[i] - y[i]) / y[i])\n",
    "            col = paste0(i, \"_PC\")\n",
    "            calculated_stocks[col] = percent_change\n",
    "        }\n",
    "        calculated_stocks = calculated_stocks[order(unlist(calculated_stocks))]\n",
    "        calculated_stocks = tail(calculated_stocks, 5)\n",
    "        initial_col_list = names(calculated_stocks)\n",
    "        initial_col_list = sub('_.*', '', initial_col_list)\n",
    "        initial_col_list = paste0(initial_col_list, '_Close')\n",
    "        IntialStocks = initial_col_list\n",
    "        SharesCount = list()\n",
    "        b = list()\n",
    "        MTM = 0\n",
    "        for (i in IntialStocks) {\n",
    "            a = Stocks[Stocks$Date == start_date, IntialStocks]\n",
    "            b = floor(split[, 1] / a[i])\n",
    "            SharesCount[i] = b[[i]]\n",
    "            Remaining = Remaining - b * a[i]\n",
    "            MTM = MTM + b * a[i]\n",
    "        }\n",
    "        MTM = MTM + Remaining\n",
    "        Stocks[Stocks$Date == start_date, 'MTM'] = MTM\n",
    "        Stocks[Stocks$Date == start_date, 'Remaining'] = Remaining\n",
    "    } else {\n",
    "        MTM = 0\n",
    "        for (i in IntialStocks) {\n",
    "            a = Stocks[Stocks$Date == start_date, IntialStocks]\n",
    "            MTM = MTM + SharesCount[[i]] * a[i]\n",
    "        }\n",
    "        colnames(MTM) = 'MTM'\n",
    "        Stocks[Stocks$Date == start_date, 'Remaining'] = Remaining\n",
    "        Stocks[Stocks$Date == start_date, 'MTM'] = MTM\n",
    "    }\n",
    "    start_date = start_date + 1\n",
    "}\n",
    "\n",
    "Strategy_10 = data.frame('Strategy_10', MTM = tail(Stocks$MTM, 1))\n",
    "output_10 = c('Profit', 5000000 - tail(Stocks$MTM, 1))\n",
    "Strategy_10\n",
    "output_10\n",
    "tail(Stocks)\n",
    "\n",
    "profit_10 <- 5000000 - tail(Stocks$MTM, 1) "
   ]
  },
  {
   "cell_type": "code",
   "execution_count": 80,
   "id": "4da1c074-60e2-405d-b206-175c30571c20",
   "metadata": {
    "vscode": {
     "languageId": "r"
    }
   },
   "outputs": [
    {
     "data": {
      "text/html": [
       "<table class=\"dataframe\">\n",
       "<caption>A data.frame: 1 × 2</caption>\n",
       "<thead>\n",
       "\t<tr><th scope=col>X.Strategy_12.</th><th scope=col>MTM</th></tr>\n",
       "\t<tr><th scope=col>&lt;chr&gt;</th><th scope=col>&lt;dbl&gt;</th></tr>\n",
       "</thead>\n",
       "<tbody>\n",
       "\t<tr><td>Strategy_12</td><td>2041748.89</td></tr>\n",
       "</tbody>\n",
       "</table>\n"
      ],
      "text/latex": [
       "A data.frame: 1 × 2\n",
       "\\begin{tabular}{ll}\n",
       " X.Strategy\\_12. & MTM\\\\\n",
       " <chr> & <dbl>\\\\\n",
       "\\hline\n",
       "\t Strategy\\_12 & 2041748.89\\\\\n",
       "\\end{tabular}\n"
      ],
      "text/markdown": [
       "\n",
       "A data.frame: 1 × 2\n",
       "\n",
       "| X.Strategy_12. &lt;chr&gt; | MTM &lt;dbl&gt; |\n",
       "|---|---|\n",
       "| Strategy_12 | 2041748.89 |\n",
       "\n"
      ],
      "text/plain": [
       "  X.Strategy_12. MTM       \n",
       "1 Strategy_12    2041748.89"
      ]
     },
     "metadata": {},
     "output_type": "display_data"
    },
    {
     "data": {
      "text/html": [
       "<style>\n",
       ".list-inline {list-style: none; margin:0; padding: 0}\n",
       ".list-inline>li {display: inline-block}\n",
       ".list-inline>li:not(:last-child)::after {content: \"\\00b7\"; padding: 0 .5ex}\n",
       "</style>\n",
       "<ol class=list-inline><li>'Profit'</li><li>'2958251.108538'</li></ol>\n"
      ],
      "text/latex": [
       "\\begin{enumerate*}\n",
       "\\item 'Profit'\n",
       "\\item '2958251.108538'\n",
       "\\end{enumerate*}\n"
      ],
      "text/markdown": [
       "1. 'Profit'\n",
       "2. '2958251.108538'\n",
       "\n",
       "\n"
      ],
      "text/plain": [
       "[1] \"Profit\"         \"2958251.108538\""
      ]
     },
     "metadata": {},
     "output_type": "display_data"
    },
    {
     "data": {
      "text/html": [
       "<table class=\"dataframe\">\n",
       "<caption>A data.frame: 6 × 24</caption>\n",
       "<thead>\n",
       "\t<tr><th></th><th scope=col>Date</th><th scope=col>IBM_Close</th><th scope=col>IBM_AdjClose</th><th scope=col>MSFT_Close</th><th scope=col>MSFT_AdjClose</th><th scope=col>GOOG_Close</th><th scope=col>GOOG_AdjClose</th><th scope=col>AAPL_Close</th><th scope=col>AAPL_AdjClose</th><th scope=col>AMZN_Close</th><th scope=col>⋯</th><th scope=col>NFLX_AdjClose</th><th scope=col>ORCL_Close</th><th scope=col>ORCL_AdjClose</th><th scope=col>SAP_Close</th><th scope=col>SAP_AdjClose</th><th scope=col>TSLA_Close</th><th scope=col>TSLA_AdjClose</th><th scope=col>Remaining</th><th scope=col>MTM</th><th scope=col>HTI</th></tr>\n",
       "\t<tr><th></th><th scope=col>&lt;chr&gt;</th><th scope=col>&lt;dbl&gt;</th><th scope=col>&lt;dbl&gt;</th><th scope=col>&lt;dbl&gt;</th><th scope=col>&lt;dbl&gt;</th><th scope=col>&lt;dbl&gt;</th><th scope=col>&lt;dbl&gt;</th><th scope=col>&lt;dbl&gt;</th><th scope=col>&lt;dbl&gt;</th><th scope=col>&lt;dbl&gt;</th><th scope=col>⋯</th><th scope=col>&lt;dbl&gt;</th><th scope=col>&lt;dbl&gt;</th><th scope=col>&lt;dbl&gt;</th><th scope=col>&lt;dbl&gt;</th><th scope=col>&lt;dbl&gt;</th><th scope=col>&lt;dbl&gt;</th><th scope=col>&lt;dbl&gt;</th><th scope=col>&lt;dbl&gt;</th><th scope=col>&lt;dbl&gt;</th><th scope=col>&lt;dbl&gt;</th></tr>\n",
       "</thead>\n",
       "<tbody>\n",
       "\t<tr><th scope=row>245</th><td>2018-12-20</td><td>108.049713</td><td>85.621971</td><td>101.510002</td><td>96.589256</td><td>50.470501</td><td>50.470501</td><td>39.207500</td><td>37.681366</td><td>73.041496</td><td>⋯</td><td>260.579987</td><td>46.240002</td><td>42.758892</td><td>100.099998</td><td>91.522636</td><td>21.025333</td><td>21.025333</td><td>3035472.3</td><td>2040244.83</td><td>93.3624526</td></tr>\n",
       "\t<tr><th scope=row>246</th><td>2018-12-21</td><td>106.061188</td><td>84.046196</td><td> 98.230003</td><td>93.468269</td><td>48.977001</td><td>48.977001</td><td>37.682499</td><td>36.215721</td><td>68.872498</td><td>⋯</td><td>246.389999</td><td>44.000000</td><td>40.687523</td><td> 96.139999</td><td>87.901962</td><td>21.318001</td><td>21.318001</td><td>3035472.3</td><td>1965443.67</td><td>89.2621185</td></tr>\n",
       "\t<tr><th scope=row>247</th><td>2018-12-24</td><td>102.839386</td><td>81.493141</td><td> 94.129997</td><td>89.567017</td><td>48.811001</td><td>48.811001</td><td>36.707500</td><td>35.278679</td><td>67.197998</td><td>⋯</td><td>233.880005</td><td>42.689999</td><td>39.476147</td><td> 95.000000</td><td>86.859642</td><td>19.692667</td><td>19.692667</td><td>3035472.3</td><td>1878148.32</td><td>86.5008551</td></tr>\n",
       "\t<tr><th scope=row>248</th><td>2018-12-26</td><td>106.491394</td><td>84.387115</td><td>100.559998</td><td>95.685303</td><td>51.973000</td><td>51.973000</td><td>39.292500</td><td>37.763050</td><td>73.544998</td><td>⋯</td><td>253.669998</td><td>44.590000</td><td>41.233101</td><td> 98.379997</td><td>89.950012</td><td>21.739332</td><td>21.739332</td><td>3035472.3</td><td>2025227.15</td><td>92.4421210</td></tr>\n",
       "\t<tr><th scope=row>249</th><td>2018-12-27</td><td>108.776291</td><td>86.197739</td><td>101.180000</td><td>96.275253</td><td>52.194000</td><td>52.194000</td><td>39.037498</td><td>37.517979</td><td>73.082001</td><td>⋯</td><td>255.570007</td><td>44.970001</td><td>41.584496</td><td> 98.989998</td><td>90.507744</td><td>21.075333</td><td>21.075333</td><td>3035472.3</td><td>2020052.98</td><td>92.9395133</td></tr>\n",
       "\t<tr><th scope=row>250</th><td>2018-12-28</td><td>108.059273</td><td>85.629555</td><td>100.389999</td><td>95.523552</td><td>51.854000</td><td>51.854000</td><td>39.057499</td><td>37.537197</td><td>73.901001</td><td>⋯</td><td>256.079987</td><td>44.820000</td><td>41.445793</td><td> 99.199997</td><td>90.699760</td><td>22.257999</td><td>22.257999</td><td>3035472.3</td><td>2041748.89</td><td>92.8819752</td></tr>\n",
       "</tbody>\n",
       "</table>\n"
      ],
      "text/latex": [
       "A data.frame: 6 × 24\n",
       "\\begin{tabular}{r|lllllllllllllllllllll}\n",
       "  & Date & IBM\\_Close & IBM\\_AdjClose & MSFT\\_Close & MSFT\\_AdjClose & GOOG\\_Close & GOOG\\_AdjClose & AAPL\\_Close & AAPL\\_AdjClose & AMZN\\_Close & ⋯ & NFLX\\_AdjClose & ORCL\\_Close & ORCL\\_AdjClose & SAP\\_Close & SAP\\_AdjClose & TSLA\\_Close & TSLA\\_AdjClose & Remaining & MTM & HTI\\\\\n",
       "  & <chr> & <dbl> & <dbl> & <dbl> & <dbl> & <dbl> & <dbl> & <dbl> & <dbl> & <dbl> & ⋯ & <dbl> & <dbl> & <dbl> & <dbl> & <dbl> & <dbl> & <dbl> & <dbl> & <dbl> & <dbl>\\\\\n",
       "\\hline\n",
       "\t245 & 2018-12-20 & 108.049713 & 85.621971 & 101.510002 & 96.589256 & 50.470501 & 50.470501 & 39.207500 & 37.681366 & 73.041496 & ⋯ & 260.579987 & 46.240002 & 42.758892 & 100.099998 & 91.522636 & 21.025333 & 21.025333 & 3035472.3 & 2040244.83 & 93.3624526\\\\\n",
       "\t246 & 2018-12-21 & 106.061188 & 84.046196 &  98.230003 & 93.468269 & 48.977001 & 48.977001 & 37.682499 & 36.215721 & 68.872498 & ⋯ & 246.389999 & 44.000000 & 40.687523 &  96.139999 & 87.901962 & 21.318001 & 21.318001 & 3035472.3 & 1965443.67 & 89.2621185\\\\\n",
       "\t247 & 2018-12-24 & 102.839386 & 81.493141 &  94.129997 & 89.567017 & 48.811001 & 48.811001 & 36.707500 & 35.278679 & 67.197998 & ⋯ & 233.880005 & 42.689999 & 39.476147 &  95.000000 & 86.859642 & 19.692667 & 19.692667 & 3035472.3 & 1878148.32 & 86.5008551\\\\\n",
       "\t248 & 2018-12-26 & 106.491394 & 84.387115 & 100.559998 & 95.685303 & 51.973000 & 51.973000 & 39.292500 & 37.763050 & 73.544998 & ⋯ & 253.669998 & 44.590000 & 41.233101 &  98.379997 & 89.950012 & 21.739332 & 21.739332 & 3035472.3 & 2025227.15 & 92.4421210\\\\\n",
       "\t249 & 2018-12-27 & 108.776291 & 86.197739 & 101.180000 & 96.275253 & 52.194000 & 52.194000 & 39.037498 & 37.517979 & 73.082001 & ⋯ & 255.570007 & 44.970001 & 41.584496 &  98.989998 & 90.507744 & 21.075333 & 21.075333 & 3035472.3 & 2020052.98 & 92.9395133\\\\\n",
       "\t250 & 2018-12-28 & 108.059273 & 85.629555 & 100.389999 & 95.523552 & 51.854000 & 51.854000 & 39.057499 & 37.537197 & 73.901001 & ⋯ & 256.079987 & 44.820000 & 41.445793 &  99.199997 & 90.699760 & 22.257999 & 22.257999 & 3035472.3 & 2041748.89 & 92.8819752\\\\\n",
       "\\end{tabular}\n"
      ],
      "text/markdown": [
       "\n",
       "A data.frame: 6 × 24\n",
       "\n",
       "| <!--/--> | Date &lt;chr&gt; | IBM_Close &lt;dbl&gt; | IBM_AdjClose &lt;dbl&gt; | MSFT_Close &lt;dbl&gt; | MSFT_AdjClose &lt;dbl&gt; | GOOG_Close &lt;dbl&gt; | GOOG_AdjClose &lt;dbl&gt; | AAPL_Close &lt;dbl&gt; | AAPL_AdjClose &lt;dbl&gt; | AMZN_Close &lt;dbl&gt; | ⋯ ⋯ | NFLX_AdjClose &lt;dbl&gt; | ORCL_Close &lt;dbl&gt; | ORCL_AdjClose &lt;dbl&gt; | SAP_Close &lt;dbl&gt; | SAP_AdjClose &lt;dbl&gt; | TSLA_Close &lt;dbl&gt; | TSLA_AdjClose &lt;dbl&gt; | Remaining &lt;dbl&gt; | MTM &lt;dbl&gt; | HTI &lt;dbl&gt; |\n",
       "|---|---|---|---|---|---|---|---|---|---|---|---|---|---|---|---|---|---|---|---|---|---|\n",
       "| 245 | 2018-12-20 | 108.049713 | 85.621971 | 101.510002 | 96.589256 | 50.470501 | 50.470501 | 39.207500 | 37.681366 | 73.041496 | ⋯ | 260.579987 | 46.240002 | 42.758892 | 100.099998 | 91.522636 | 21.025333 | 21.025333 | 3035472.3 | 2040244.83 | 93.3624526 |\n",
       "| 246 | 2018-12-21 | 106.061188 | 84.046196 |  98.230003 | 93.468269 | 48.977001 | 48.977001 | 37.682499 | 36.215721 | 68.872498 | ⋯ | 246.389999 | 44.000000 | 40.687523 |  96.139999 | 87.901962 | 21.318001 | 21.318001 | 3035472.3 | 1965443.67 | 89.2621185 |\n",
       "| 247 | 2018-12-24 | 102.839386 | 81.493141 |  94.129997 | 89.567017 | 48.811001 | 48.811001 | 36.707500 | 35.278679 | 67.197998 | ⋯ | 233.880005 | 42.689999 | 39.476147 |  95.000000 | 86.859642 | 19.692667 | 19.692667 | 3035472.3 | 1878148.32 | 86.5008551 |\n",
       "| 248 | 2018-12-26 | 106.491394 | 84.387115 | 100.559998 | 95.685303 | 51.973000 | 51.973000 | 39.292500 | 37.763050 | 73.544998 | ⋯ | 253.669998 | 44.590000 | 41.233101 |  98.379997 | 89.950012 | 21.739332 | 21.739332 | 3035472.3 | 2025227.15 | 92.4421210 |\n",
       "| 249 | 2018-12-27 | 108.776291 | 86.197739 | 101.180000 | 96.275253 | 52.194000 | 52.194000 | 39.037498 | 37.517979 | 73.082001 | ⋯ | 255.570007 | 44.970001 | 41.584496 |  98.989998 | 90.507744 | 21.075333 | 21.075333 | 3035472.3 | 2020052.98 | 92.9395133 |\n",
       "| 250 | 2018-12-28 | 108.059273 | 85.629555 | 100.389999 | 95.523552 | 51.854000 | 51.854000 | 39.057499 | 37.537197 | 73.901001 | ⋯ | 256.079987 | 44.820000 | 41.445793 |  99.199997 | 90.699760 | 22.257999 | 22.257999 | 3035472.3 | 2041748.89 | 92.8819752 |\n",
       "\n"
      ],
      "text/plain": [
       "    Date       IBM_Close  IBM_AdjClose MSFT_Close MSFT_AdjClose GOOG_Close\n",
       "245 2018-12-20 108.049713 85.621971    101.510002 96.589256     50.470501 \n",
       "246 2018-12-21 106.061188 84.046196     98.230003 93.468269     48.977001 \n",
       "247 2018-12-24 102.839386 81.493141     94.129997 89.567017     48.811001 \n",
       "248 2018-12-26 106.491394 84.387115    100.559998 95.685303     51.973000 \n",
       "249 2018-12-27 108.776291 86.197739    101.180000 96.275253     52.194000 \n",
       "250 2018-12-28 108.059273 85.629555    100.389999 95.523552     51.854000 \n",
       "    GOOG_AdjClose AAPL_Close AAPL_AdjClose AMZN_Close ⋯ NFLX_AdjClose\n",
       "245 50.470501     39.207500  37.681366     73.041496  ⋯ 260.579987   \n",
       "246 48.977001     37.682499  36.215721     68.872498  ⋯ 246.389999   \n",
       "247 48.811001     36.707500  35.278679     67.197998  ⋯ 233.880005   \n",
       "248 51.973000     39.292500  37.763050     73.544998  ⋯ 253.669998   \n",
       "249 52.194000     39.037498  37.517979     73.082001  ⋯ 255.570007   \n",
       "250 51.854000     39.057499  37.537197     73.901001  ⋯ 256.079987   \n",
       "    ORCL_Close ORCL_AdjClose SAP_Close  SAP_AdjClose TSLA_Close TSLA_AdjClose\n",
       "245 46.240002  42.758892     100.099998 91.522636    21.025333  21.025333    \n",
       "246 44.000000  40.687523      96.139999 87.901962    21.318001  21.318001    \n",
       "247 42.689999  39.476147      95.000000 86.859642    19.692667  19.692667    \n",
       "248 44.590000  41.233101      98.379997 89.950012    21.739332  21.739332    \n",
       "249 44.970001  41.584496      98.989998 90.507744    21.075333  21.075333    \n",
       "250 44.820000  41.445793      99.199997 90.699760    22.257999  22.257999    \n",
       "    Remaining MTM        HTI       \n",
       "245 3035472.3 2040244.83 93.3624526\n",
       "246 3035472.3 1965443.67 89.2621185\n",
       "247 3035472.3 1878148.32 86.5008551\n",
       "248 3035472.3 2025227.15 92.4421210\n",
       "249 3035472.3 2020052.98 92.9395133\n",
       "250 3035472.3 2041748.89 92.8819752"
      ]
     },
     "metadata": {},
     "output_type": "display_data"
    }
   ],
   "source": [
    "# 12 days\n",
    "\n",
    "options(digits = 9)\n",
    "Total = 5000000\n",
    "Remaining = Total\n",
    "split = Total / 12  # Adjust the rebalancing interval to 12 days\n",
    "MTM = 0\n",
    "begin_date = mdy('01/02/2018')\n",
    "start_date = begin_date\n",
    "end_date = mdy('12/31/2018')\n",
    "AllStocks = c('IBM_AdjClose', 'MSFT_AdjClose', 'GOOG_AdjClose', 'AAPL_AdjClose', 'AMZN_AdjClose', 'META_AdjClose', 'NFLX_AdjClose', 'TSLA_AdjClose', 'ORCL_AdjClose', 'SAP_AdjClose')\n",
    "IntialStocks = c('IBM_Close', 'MSFT_Close', 'GOOG_Close', 'AAPL_Close', 'AMZN_Close')\n",
    "SharesCount = list()\n",
    "Strategy_12 = data.frame()  # Create an empty data frame to store the strategy results\n",
    "\n",
    "while (start_date <= end_date) {\n",
    "    if (start_date == '2018-01-02') {\n",
    "        for (i in IntialStocks) {\n",
    "            a = Stocks[Stocks$Date == start_date, IntialStocks]\n",
    "            b = floor(split / a[i])\n",
    "            SharesCount[i] = b[[i]]\n",
    "            Remaining = Remaining - b * a[i]\n",
    "            MTM = MTM + b * a[i]\n",
    "        }\n",
    "        colnames(Remaining) = 'Remaining'\n",
    "        Stocks[Stocks$Date == start_date, 'Remaining'] = Remaining\n",
    "        colnames(MTM) = 'MTM'\n",
    "        MTM = MTM + Remaining\n",
    "        Stocks[Stocks$Date == start_date, 'MTM'] = MTM\n",
    "    } else if (start_date %in% StockSplit_12$Date) {  # Modify StockSplit_5 to StockSplit_12\n",
    "        MTM = 0\n",
    "        for (i in IntialStocks) {\n",
    "            a = Stocks[Stocks$Date == start_date, IntialStocks]\n",
    "            MTM = MTM + SharesCount[[i]] * a[i]\n",
    "        }\n",
    "        Total = MTM + Remaining\n",
    "        Remaining = Total\n",
    "        split = Total / 12  # Adjust the rebalancing interval to 12 days\n",
    "        colnames(Total) = 'Total'\n",
    "        colnames(MTM) = 'MTM'\n",
    "        calculated_stocks = list()\n",
    "        for (i in AllStocks) {\n",
    "            x = Stocks[Stocks$Date == start_date, AllStocks]\n",
    "            y = Stocks[Stocks$Date == begin_date, AllStocks]\n",
    "            percent_change = 100 * ((x[i] - y[i]) / y[i])\n",
    "            col = paste0(i, \"_PC\")\n",
    "            calculated_stocks[col] = percent_change\n",
    "        }\n",
    "        calculated_stocks = calculated_stocks[order(unlist(calculated_stocks))]\n",
    "        calculated_stocks = tail(calculated_stocks, 5)\n",
    "        initial_col_list = names(calculated_stocks)\n",
    "        initial_col_list = sub('_.*', '', initial_col_list)\n",
    "        initial_col_list = paste0(initial_col_list, '_Close')\n",
    "        IntialStocks = initial_col_list\n",
    "        SharesCount = list()\n",
    "        b = list()\n",
    "        MTM = 0\n",
    "        for (i in IntialStocks) {\n",
    "            a = Stocks[Stocks$Date == start_date, IntialStocks]\n",
    "            b = floor(split[, 1] / a[i])\n",
    "            SharesCount[i] = b[[i]]\n",
    "            Remaining = Remaining - b * a[i]\n",
    "            MTM = MTM + b * a[i]\n",
    "        }\n",
    "        MTM = MTM + Remaining\n",
    "        Stocks[Stocks$Date == start_date, 'MTM'] = MTM\n",
    "        Stocks[Stocks$Date == start_date, 'Remaining'] = Remaining\n",
    "    } else {\n",
    "        MTM = 0\n",
    "        for (i in IntialStocks) {\n",
    "            a = Stocks[Stocks$Date == start_date, IntialStocks]\n",
    "            MTM = MTM + SharesCount[[i]] * a[i]\n",
    "        }\n",
    "        colnames(MTM) = 'MTM'\n",
    "        Stocks[Stocks$Date == start_date, 'Remaining'] = Remaining\n",
    "        Stocks[Stocks$Date == start_date, 'MTM'] = MTM\n",
    "    }\n",
    "    start_date = start_date + 1\n",
    "}\n",
    "\n",
    "Strategy_12 = data.frame('Strategy_12', MTM = tail(Stocks$MTM, 1))\n",
    "output_12 = c('Profit', 5000000 - tail(Stocks$MTM, 1))\n",
    "Strategy_12\n",
    "output_12\n",
    "tail(Stocks)\n",
    "\n",
    "profit_12 <- 5000000 - tail(Stocks$MTM, 1) "
   ]
  },
  {
   "cell_type": "code",
   "execution_count": 81,
   "id": "a86a6686-528a-41d5-9265-f9906943a1af",
   "metadata": {
    "vscode": {
     "languageId": "r"
    }
   },
   "outputs": [
    {
     "data": {
      "text/html": [
       "<table class=\"dataframe\">\n",
       "<caption>A data.frame: 1 × 2</caption>\n",
       "<thead>\n",
       "\t<tr><th scope=col>X.Strategy_14.</th><th scope=col>MTM</th></tr>\n",
       "\t<tr><th scope=col>&lt;chr&gt;</th><th scope=col>&lt;dbl&gt;</th></tr>\n",
       "</thead>\n",
       "<tbody>\n",
       "\t<tr><td>Strategy_14</td><td>1678937.65</td></tr>\n",
       "</tbody>\n",
       "</table>\n"
      ],
      "text/latex": [
       "A data.frame: 1 × 2\n",
       "\\begin{tabular}{ll}\n",
       " X.Strategy\\_14. & MTM\\\\\n",
       " <chr> & <dbl>\\\\\n",
       "\\hline\n",
       "\t Strategy\\_14 & 1678937.65\\\\\n",
       "\\end{tabular}\n"
      ],
      "text/markdown": [
       "\n",
       "A data.frame: 1 × 2\n",
       "\n",
       "| X.Strategy_14. &lt;chr&gt; | MTM &lt;dbl&gt; |\n",
       "|---|---|\n",
       "| Strategy_14 | 1678937.65 |\n",
       "\n"
      ],
      "text/plain": [
       "  X.Strategy_14. MTM       \n",
       "1 Strategy_14    1678937.65"
      ]
     },
     "metadata": {},
     "output_type": "display_data"
    },
    {
     "data": {
      "text/html": [
       "<style>\n",
       ".list-inline {list-style: none; margin:0; padding: 0}\n",
       ".list-inline>li {display: inline-block}\n",
       ".list-inline>li:not(:last-child)::after {content: \"\\00b7\"; padding: 0 .5ex}\n",
       "</style>\n",
       "<ol class=list-inline><li>'Profit'</li><li>'3321062.353162'</li></ol>\n"
      ],
      "text/latex": [
       "\\begin{enumerate*}\n",
       "\\item 'Profit'\n",
       "\\item '3321062.353162'\n",
       "\\end{enumerate*}\n"
      ],
      "text/markdown": [
       "1. 'Profit'\n",
       "2. '3321062.353162'\n",
       "\n",
       "\n"
      ],
      "text/plain": [
       "[1] \"Profit\"         \"3321062.353162\""
      ]
     },
     "metadata": {},
     "output_type": "display_data"
    },
    {
     "data": {
      "text/html": [
       "<table class=\"dataframe\">\n",
       "<caption>A data.frame: 6 × 24</caption>\n",
       "<thead>\n",
       "\t<tr><th></th><th scope=col>Date</th><th scope=col>IBM_Close</th><th scope=col>IBM_AdjClose</th><th scope=col>MSFT_Close</th><th scope=col>MSFT_AdjClose</th><th scope=col>GOOG_Close</th><th scope=col>GOOG_AdjClose</th><th scope=col>AAPL_Close</th><th scope=col>AAPL_AdjClose</th><th scope=col>AMZN_Close</th><th scope=col>⋯</th><th scope=col>NFLX_AdjClose</th><th scope=col>ORCL_Close</th><th scope=col>ORCL_AdjClose</th><th scope=col>SAP_Close</th><th scope=col>SAP_AdjClose</th><th scope=col>TSLA_Close</th><th scope=col>TSLA_AdjClose</th><th scope=col>Remaining</th><th scope=col>MTM</th><th scope=col>HTI</th></tr>\n",
       "\t<tr><th></th><th scope=col>&lt;chr&gt;</th><th scope=col>&lt;dbl&gt;</th><th scope=col>&lt;dbl&gt;</th><th scope=col>&lt;dbl&gt;</th><th scope=col>&lt;dbl&gt;</th><th scope=col>&lt;dbl&gt;</th><th scope=col>&lt;dbl&gt;</th><th scope=col>&lt;dbl&gt;</th><th scope=col>&lt;dbl&gt;</th><th scope=col>&lt;dbl&gt;</th><th scope=col>⋯</th><th scope=col>&lt;dbl&gt;</th><th scope=col>&lt;dbl&gt;</th><th scope=col>&lt;dbl&gt;</th><th scope=col>&lt;dbl&gt;</th><th scope=col>&lt;dbl&gt;</th><th scope=col>&lt;dbl&gt;</th><th scope=col>&lt;dbl&gt;</th><th scope=col>&lt;dbl&gt;</th><th scope=col>&lt;dbl&gt;</th><th scope=col>&lt;dbl&gt;</th></tr>\n",
       "</thead>\n",
       "<tbody>\n",
       "\t<tr><th scope=row>245</th><td>2018-12-20</td><td>108.049713</td><td>85.621971</td><td>101.510002</td><td>96.589256</td><td>50.470501</td><td>50.470501</td><td>39.207500</td><td>37.681366</td><td>73.041496</td><td>⋯</td><td>260.579987</td><td>46.240002</td><td>42.758892</td><td>100.099998</td><td>91.522636</td><td>21.025333</td><td>21.025333</td><td>3286916.53</td><td>1677429.96</td><td>93.3624526</td></tr>\n",
       "\t<tr><th scope=row>246</th><td>2018-12-21</td><td>106.061188</td><td>84.046196</td><td> 98.230003</td><td>93.468269</td><td>48.977001</td><td>48.977001</td><td>37.682499</td><td>36.215721</td><td>68.872498</td><td>⋯</td><td>246.389999</td><td>44.000000</td><td>40.687523</td><td> 96.139999</td><td>87.901962</td><td>21.318001</td><td>21.318001</td><td>3286916.53</td><td>1616392.26</td><td>89.2621185</td></tr>\n",
       "\t<tr><th scope=row>247</th><td>2018-12-24</td><td>102.839386</td><td>81.493141</td><td> 94.129997</td><td>89.567017</td><td>48.811001</td><td>48.811001</td><td>36.707500</td><td>35.278679</td><td>67.197998</td><td>⋯</td><td>233.880005</td><td>42.689999</td><td>39.476147</td><td> 95.000000</td><td>86.859642</td><td>19.692667</td><td>19.692667</td><td>3286916.53</td><td>1544311.82</td><td>86.5008551</td></tr>\n",
       "\t<tr><th scope=row>248</th><td>2018-12-26</td><td>106.491394</td><td>84.387115</td><td>100.559998</td><td>95.685303</td><td>51.973000</td><td>51.973000</td><td>39.292500</td><td>37.763050</td><td>73.544998</td><td>⋯</td><td>253.669998</td><td>44.590000</td><td>41.233101</td><td> 98.379997</td><td>89.950012</td><td>21.739332</td><td>21.739332</td><td>3286916.53</td><td>1665219.00</td><td>92.4421210</td></tr>\n",
       "\t<tr><th scope=row>249</th><td>2018-12-27</td><td>108.776291</td><td>86.197739</td><td>101.180000</td><td>96.275253</td><td>52.194000</td><td>52.194000</td><td>39.037498</td><td>37.517979</td><td>73.082001</td><td>⋯</td><td>255.570007</td><td>44.970001</td><td>41.584496</td><td> 98.989998</td><td>90.507744</td><td>21.075333</td><td>21.075333</td><td>3286916.53</td><td>1660796.46</td><td>92.9395133</td></tr>\n",
       "\t<tr><th scope=row>250</th><td>2018-12-28</td><td>108.059273</td><td>85.629555</td><td>100.389999</td><td>95.523552</td><td>51.854000</td><td>51.854000</td><td>39.057499</td><td>37.537197</td><td>73.901001</td><td>⋯</td><td>256.079987</td><td>44.820000</td><td>41.445793</td><td> 99.199997</td><td>90.699760</td><td>22.257999</td><td>22.257999</td><td>3286916.53</td><td>1678937.65</td><td>92.8819752</td></tr>\n",
       "</tbody>\n",
       "</table>\n"
      ],
      "text/latex": [
       "A data.frame: 6 × 24\n",
       "\\begin{tabular}{r|lllllllllllllllllllll}\n",
       "  & Date & IBM\\_Close & IBM\\_AdjClose & MSFT\\_Close & MSFT\\_AdjClose & GOOG\\_Close & GOOG\\_AdjClose & AAPL\\_Close & AAPL\\_AdjClose & AMZN\\_Close & ⋯ & NFLX\\_AdjClose & ORCL\\_Close & ORCL\\_AdjClose & SAP\\_Close & SAP\\_AdjClose & TSLA\\_Close & TSLA\\_AdjClose & Remaining & MTM & HTI\\\\\n",
       "  & <chr> & <dbl> & <dbl> & <dbl> & <dbl> & <dbl> & <dbl> & <dbl> & <dbl> & <dbl> & ⋯ & <dbl> & <dbl> & <dbl> & <dbl> & <dbl> & <dbl> & <dbl> & <dbl> & <dbl> & <dbl>\\\\\n",
       "\\hline\n",
       "\t245 & 2018-12-20 & 108.049713 & 85.621971 & 101.510002 & 96.589256 & 50.470501 & 50.470501 & 39.207500 & 37.681366 & 73.041496 & ⋯ & 260.579987 & 46.240002 & 42.758892 & 100.099998 & 91.522636 & 21.025333 & 21.025333 & 3286916.53 & 1677429.96 & 93.3624526\\\\\n",
       "\t246 & 2018-12-21 & 106.061188 & 84.046196 &  98.230003 & 93.468269 & 48.977001 & 48.977001 & 37.682499 & 36.215721 & 68.872498 & ⋯ & 246.389999 & 44.000000 & 40.687523 &  96.139999 & 87.901962 & 21.318001 & 21.318001 & 3286916.53 & 1616392.26 & 89.2621185\\\\\n",
       "\t247 & 2018-12-24 & 102.839386 & 81.493141 &  94.129997 & 89.567017 & 48.811001 & 48.811001 & 36.707500 & 35.278679 & 67.197998 & ⋯ & 233.880005 & 42.689999 & 39.476147 &  95.000000 & 86.859642 & 19.692667 & 19.692667 & 3286916.53 & 1544311.82 & 86.5008551\\\\\n",
       "\t248 & 2018-12-26 & 106.491394 & 84.387115 & 100.559998 & 95.685303 & 51.973000 & 51.973000 & 39.292500 & 37.763050 & 73.544998 & ⋯ & 253.669998 & 44.590000 & 41.233101 &  98.379997 & 89.950012 & 21.739332 & 21.739332 & 3286916.53 & 1665219.00 & 92.4421210\\\\\n",
       "\t249 & 2018-12-27 & 108.776291 & 86.197739 & 101.180000 & 96.275253 & 52.194000 & 52.194000 & 39.037498 & 37.517979 & 73.082001 & ⋯ & 255.570007 & 44.970001 & 41.584496 &  98.989998 & 90.507744 & 21.075333 & 21.075333 & 3286916.53 & 1660796.46 & 92.9395133\\\\\n",
       "\t250 & 2018-12-28 & 108.059273 & 85.629555 & 100.389999 & 95.523552 & 51.854000 & 51.854000 & 39.057499 & 37.537197 & 73.901001 & ⋯ & 256.079987 & 44.820000 & 41.445793 &  99.199997 & 90.699760 & 22.257999 & 22.257999 & 3286916.53 & 1678937.65 & 92.8819752\\\\\n",
       "\\end{tabular}\n"
      ],
      "text/markdown": [
       "\n",
       "A data.frame: 6 × 24\n",
       "\n",
       "| <!--/--> | Date &lt;chr&gt; | IBM_Close &lt;dbl&gt; | IBM_AdjClose &lt;dbl&gt; | MSFT_Close &lt;dbl&gt; | MSFT_AdjClose &lt;dbl&gt; | GOOG_Close &lt;dbl&gt; | GOOG_AdjClose &lt;dbl&gt; | AAPL_Close &lt;dbl&gt; | AAPL_AdjClose &lt;dbl&gt; | AMZN_Close &lt;dbl&gt; | ⋯ ⋯ | NFLX_AdjClose &lt;dbl&gt; | ORCL_Close &lt;dbl&gt; | ORCL_AdjClose &lt;dbl&gt; | SAP_Close &lt;dbl&gt; | SAP_AdjClose &lt;dbl&gt; | TSLA_Close &lt;dbl&gt; | TSLA_AdjClose &lt;dbl&gt; | Remaining &lt;dbl&gt; | MTM &lt;dbl&gt; | HTI &lt;dbl&gt; |\n",
       "|---|---|---|---|---|---|---|---|---|---|---|---|---|---|---|---|---|---|---|---|---|---|\n",
       "| 245 | 2018-12-20 | 108.049713 | 85.621971 | 101.510002 | 96.589256 | 50.470501 | 50.470501 | 39.207500 | 37.681366 | 73.041496 | ⋯ | 260.579987 | 46.240002 | 42.758892 | 100.099998 | 91.522636 | 21.025333 | 21.025333 | 3286916.53 | 1677429.96 | 93.3624526 |\n",
       "| 246 | 2018-12-21 | 106.061188 | 84.046196 |  98.230003 | 93.468269 | 48.977001 | 48.977001 | 37.682499 | 36.215721 | 68.872498 | ⋯ | 246.389999 | 44.000000 | 40.687523 |  96.139999 | 87.901962 | 21.318001 | 21.318001 | 3286916.53 | 1616392.26 | 89.2621185 |\n",
       "| 247 | 2018-12-24 | 102.839386 | 81.493141 |  94.129997 | 89.567017 | 48.811001 | 48.811001 | 36.707500 | 35.278679 | 67.197998 | ⋯ | 233.880005 | 42.689999 | 39.476147 |  95.000000 | 86.859642 | 19.692667 | 19.692667 | 3286916.53 | 1544311.82 | 86.5008551 |\n",
       "| 248 | 2018-12-26 | 106.491394 | 84.387115 | 100.559998 | 95.685303 | 51.973000 | 51.973000 | 39.292500 | 37.763050 | 73.544998 | ⋯ | 253.669998 | 44.590000 | 41.233101 |  98.379997 | 89.950012 | 21.739332 | 21.739332 | 3286916.53 | 1665219.00 | 92.4421210 |\n",
       "| 249 | 2018-12-27 | 108.776291 | 86.197739 | 101.180000 | 96.275253 | 52.194000 | 52.194000 | 39.037498 | 37.517979 | 73.082001 | ⋯ | 255.570007 | 44.970001 | 41.584496 |  98.989998 | 90.507744 | 21.075333 | 21.075333 | 3286916.53 | 1660796.46 | 92.9395133 |\n",
       "| 250 | 2018-12-28 | 108.059273 | 85.629555 | 100.389999 | 95.523552 | 51.854000 | 51.854000 | 39.057499 | 37.537197 | 73.901001 | ⋯ | 256.079987 | 44.820000 | 41.445793 |  99.199997 | 90.699760 | 22.257999 | 22.257999 | 3286916.53 | 1678937.65 | 92.8819752 |\n",
       "\n"
      ],
      "text/plain": [
       "    Date       IBM_Close  IBM_AdjClose MSFT_Close MSFT_AdjClose GOOG_Close\n",
       "245 2018-12-20 108.049713 85.621971    101.510002 96.589256     50.470501 \n",
       "246 2018-12-21 106.061188 84.046196     98.230003 93.468269     48.977001 \n",
       "247 2018-12-24 102.839386 81.493141     94.129997 89.567017     48.811001 \n",
       "248 2018-12-26 106.491394 84.387115    100.559998 95.685303     51.973000 \n",
       "249 2018-12-27 108.776291 86.197739    101.180000 96.275253     52.194000 \n",
       "250 2018-12-28 108.059273 85.629555    100.389999 95.523552     51.854000 \n",
       "    GOOG_AdjClose AAPL_Close AAPL_AdjClose AMZN_Close ⋯ NFLX_AdjClose\n",
       "245 50.470501     39.207500  37.681366     73.041496  ⋯ 260.579987   \n",
       "246 48.977001     37.682499  36.215721     68.872498  ⋯ 246.389999   \n",
       "247 48.811001     36.707500  35.278679     67.197998  ⋯ 233.880005   \n",
       "248 51.973000     39.292500  37.763050     73.544998  ⋯ 253.669998   \n",
       "249 52.194000     39.037498  37.517979     73.082001  ⋯ 255.570007   \n",
       "250 51.854000     39.057499  37.537197     73.901001  ⋯ 256.079987   \n",
       "    ORCL_Close ORCL_AdjClose SAP_Close  SAP_AdjClose TSLA_Close TSLA_AdjClose\n",
       "245 46.240002  42.758892     100.099998 91.522636    21.025333  21.025333    \n",
       "246 44.000000  40.687523      96.139999 87.901962    21.318001  21.318001    \n",
       "247 42.689999  39.476147      95.000000 86.859642    19.692667  19.692667    \n",
       "248 44.590000  41.233101      98.379997 89.950012    21.739332  21.739332    \n",
       "249 44.970001  41.584496      98.989998 90.507744    21.075333  21.075333    \n",
       "250 44.820000  41.445793      99.199997 90.699760    22.257999  22.257999    \n",
       "    Remaining  MTM        HTI       \n",
       "245 3286916.53 1677429.96 93.3624526\n",
       "246 3286916.53 1616392.26 89.2621185\n",
       "247 3286916.53 1544311.82 86.5008551\n",
       "248 3286916.53 1665219.00 92.4421210\n",
       "249 3286916.53 1660796.46 92.9395133\n",
       "250 3286916.53 1678937.65 92.8819752"
      ]
     },
     "metadata": {},
     "output_type": "display_data"
    }
   ],
   "source": [
    "# 14 days\n",
    "\n",
    "options(digits = 9)\n",
    "Total = 5000000\n",
    "Remaining = Total\n",
    "split = Total / 14  # Adjust the rebalancing interval to 14 days\n",
    "MTM = 0\n",
    "begin_date = mdy('01/02/2018')\n",
    "start_date = begin_date\n",
    "end_date = mdy('12/31/2018')\n",
    "AllStocks = c('IBM_AdjClose', 'MSFT_AdjClose', 'GOOG_AdjClose', 'AAPL_AdjClose', 'AMZN_AdjClose', 'META_AdjClose', 'NFLX_AdjClose', 'TSLA_AdjClose', 'ORCL_AdjClose', 'SAP_AdjClose')\n",
    "IntialStocks = c('IBM_Close', 'MSFT_Close', 'GOOG_Close', 'AAPL_Close', 'AMZN_Close')\n",
    "SharesCount = list()\n",
    "Strategy_14 = data.frame()  # Create an empty data frame to store the strategy results\n",
    "\n",
    "while (start_date <= end_date) {\n",
    "    if (start_date == '2018-01-02') {\n",
    "        for (i in IntialStocks) {\n",
    "            a = Stocks[Stocks$Date == start_date, IntialStocks]\n",
    "            b = floor(split / a[i])\n",
    "            SharesCount[i] = b[[i]]\n",
    "            Remaining = Remaining - b * a[i]\n",
    "            MTM = MTM + b * a[i]\n",
    "        }\n",
    "        colnames(Remaining) = 'Remaining'\n",
    "        Stocks[Stocks$Date == start_date, 'Remaining'] = Remaining\n",
    "        colnames(MTM) = 'MTM'\n",
    "        MTM = MTM + Remaining\n",
    "        Stocks[Stocks$Date == start_date, 'MTM'] = MTM\n",
    "    } else if (start_date %in% StockSplit_14$Date) {  # Modify StockSplit_5 to StockSplit_14\n",
    "        MTM = 0\n",
    "        for (i in IntialStocks) {\n",
    "            a = Stocks[Stocks$Date == start_date, IntialStocks]\n",
    "            MTM = MTM + SharesCount[[i]] * a[i]\n",
    "        }\n",
    "        Total = MTM + Remaining\n",
    "        Remaining = Total\n",
    "        split = Total / 14  # Adjust the rebalancing interval to 14 days\n",
    "        colnames(Total) = 'Total'\n",
    "        colnames(MTM) = 'MTM'\n",
    "        calculated_stocks = list()\n",
    "        for (i in AllStocks) {\n",
    "            x = Stocks[Stocks$Date == start_date, AllStocks]\n",
    "            y = Stocks[Stocks$Date == begin_date, AllStocks]\n",
    "            percent_change = 100 * ((x[i] - y[i]) / y[i])\n",
    "            col = paste0(i, \"_PC\")\n",
    "            calculated_stocks[col] = percent_change\n",
    "        }\n",
    "        calculated_stocks = calculated_stocks[order(unlist(calculated_stocks))]\n",
    "        calculated_stocks = tail(calculated_stocks, 5)\n",
    "        initial_col_list = names(calculated_stocks)\n",
    "        initial_col_list = sub('_.*', '', initial_col_list)\n",
    "        initial_col_list = paste0(initial_col_list, '_Close')\n",
    "        IntialStocks = initial_col_list\n",
    "        SharesCount = list()\n",
    "        b = list()\n",
    "        MTM = 0\n",
    "        for (i in IntialStocks) {\n",
    "            a = Stocks[Stocks$Date == start_date, IntialStocks]\n",
    "            b = floor(split[, 1] / a[i])\n",
    "            SharesCount[i] = b[[i]]\n",
    "            Remaining = Remaining - b * a[i]\n",
    "            MTM = MTM + b * a[i]\n",
    "        }\n",
    "        MTM = MTM + Remaining\n",
    "        Stocks[Stocks$Date == start_date, 'MTM'] = MTM\n",
    "        Stocks[Stocks$Date == start_date, 'Remaining'] = Remaining\n",
    "    } else {\n",
    "        MTM = 0\n",
    "        for (i in IntialStocks) {\n",
    "            a = Stocks[Stocks$Date == start_date, IntialStocks]\n",
    "            MTM = MTM + SharesCount[[i]] * a[i]\n",
    "        }\n",
    "        colnames(MTM) = 'MTM'\n",
    "        Stocks[Stocks$Date == start_date, 'Remaining'] = Remaining\n",
    "        Stocks[Stocks$Date == start_date, 'MTM'] = MTM\n",
    "    }\n",
    "    start_date = start_date + 1\n",
    "}\n",
    "\n",
    "Strategy_14 = data.frame('Strategy_14', MTM = tail(Stocks$MTM, 1))\n",
    "output_14 = c('Profit', 5000000 - tail(Stocks$MTM, 1))\n",
    "Strategy_14\n",
    "output_14\n",
    "tail(Stocks)\n",
    "\n",
    "profit_14 <- 5000000 - tail(Stocks$MTM, 1) "
   ]
  },
  {
   "cell_type": "code",
   "execution_count": 85,
   "id": "3c14103d-fb1c-4959-b266-c89bbfc08129",
   "metadata": {
    "vscode": {
     "languageId": "r"
    }
   },
   "outputs": [
    {
     "name": "stdout",
     "output_type": "stream",
     "text": [
      "Strategy with a 8-day rebalancing interval:\n",
      "Profit: $ 1,848,710.43 \n",
      "\n",
      "Strategy with an 10-day rebalancing interval:\n",
      "Profit: $ 2,605,782.28 \n",
      "\n",
      "Strategy with a 12-day rebalancing interval:\n",
      "Profit: $ 2,958,251.11 \n",
      "\n",
      "Strategy with a 14-day rebalancing interval:\n",
      "Profit: $ 3,321,062.35 \n",
      "\n"
     ]
    }
   ],
   "source": [
    "# Print the results for each strategy\n",
    "cat(\"Strategy with a 8-day rebalancing interval:\\n\")\n",
    "cat(\"Profit: $\", format(profit_8, big.mark = \",\", scientific = FALSE), \"\\n\\n\")\n",
    "\n",
    "cat(\"Strategy with an 10-day rebalancing interval:\\n\")\n",
    "cat(\"Profit: $\", format(profit_10, big.mark = \",\", scientific = FALSE), \"\\n\\n\")\n",
    "\n",
    "cat(\"Strategy with a 12-day rebalancing interval:\\n\")\n",
    "cat(\"Profit: $\", format(profit_12, big.mark = \",\", scientific = FALSE), \"\\n\\n\")\n",
    "\n",
    "cat(\"Strategy with a 14-day rebalancing interval:\\n\")\n",
    "cat(\"Profit: $\", format(profit_14, big.mark = \",\", scientific = FALSE), \"\\n\\n\")"
   ]
  },
  {
   "cell_type": "code",
   "execution_count": 91,
   "id": "f3311f7c-b175-4618-a8e0-602aa3a08546",
   "metadata": {
    "vscode": {
     "languageId": "r"
    }
   },
   "outputs": [
    {
     "data": {
      "image/png": "[encoded data removed]",
      "text/plain": [
       "plot without title"
      ]
     },
     "metadata": {
      "image/png": {
       "height": 420,
       "width": 420
      }
     },
     "output_type": "display_data"
    }
   ],
   "source": [
    "strategy_data <- data.frame(\n",
    "  Strategy = c('8 Days', '10 Days', '12 Days', '14 Days'),\n",
    "  Profit = c(profit_8, profit_10, profit_12, profit_14)\n",
    ")\n",
    "\n",
    "library(ggplot2)\n",
    "\n",
    "# Create a bar plot\n",
    "ggplot(data = strategy_data, aes(x = Strategy, y = Profit)) +\n",
    "  geom_bar(stat = \"identity\", fill = \"blue\") +\n",
    "  labs(title = \"Strategy Comparison\",\n",
    "       x = \"Rebalancing Interval (Days)\",\n",
    "       y = \"Profit\") +\n",
    "  theme_minimal()"
   ]
  }
 ],
 "metadata": {
  "kernelspec": {
   "display_name": "R",
   "language": "R",
   "name": "ir"
  },
  "language_info": {
   "codemirror_mode": "r",
   "file_extension": ".r",
   "mimetype": "text/x-r-source",
   "name": "R",
   "pygments_lexer": "r",
   "version": "4.3.1"
  }
 },
 "nbformat": 4,
 "nbformat_minor": 5
}
